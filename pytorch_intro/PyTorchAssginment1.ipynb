{
  "nbformat": 4,
  "nbformat_minor": 0,
  "metadata": {
    "colab": {
      "name": "PyTorchAssginment1.ipynb",
      "provenance": [],
      "collapsed_sections": [],
      "authorship_tag": "ABX9TyMEjDytW4fR6bisv+GrAnxy",
      "include_colab_link": true
    },
    "kernelspec": {
      "name": "python3",
      "display_name": "Python 3"
    },
    "language_info": {
      "name": "python"
    },
    "widgets": {
      "application/vnd.jupyter.widget-state+json": {
        "63c2ca9bac684e58bda292026bb1d93a": {
          "model_module": "@jupyter-widgets/controls",
          "model_name": "HBoxModel",
          "model_module_version": "1.5.0",
          "state": {
            "_view_name": "HBoxView",
            "_dom_classes": [],
            "_model_name": "HBoxModel",
            "_view_module": "@jupyter-widgets/controls",
            "_model_module_version": "1.5.0",
            "_view_count": null,
            "_view_module_version": "1.5.0",
            "box_style": "",
            "layout": "IPY_MODEL_a01d363af4f54e3a8c49b5078980edb4",
            "_model_module": "@jupyter-widgets/controls",
            "children": [
              "IPY_MODEL_1e201684230342d1a774933d14a55c40",
              "IPY_MODEL_97bd316c64a249b8a44f2ad1d82ffc7f",
              "IPY_MODEL_441000a913bf4fbfb5bf165d04d5158d"
            ]
          }
        },
        "a01d363af4f54e3a8c49b5078980edb4": {
          "model_module": "@jupyter-widgets/base",
          "model_name": "LayoutModel",
          "model_module_version": "1.2.0",
          "state": {
            "_view_name": "LayoutView",
            "grid_template_rows": null,
            "right": null,
            "justify_content": null,
            "_view_module": "@jupyter-widgets/base",
            "overflow": null,
            "_model_module_version": "1.2.0",
            "_view_count": null,
            "flex_flow": null,
            "width": null,
            "min_width": null,
            "border": null,
            "align_items": null,
            "bottom": null,
            "_model_module": "@jupyter-widgets/base",
            "top": null,
            "grid_column": null,
            "overflow_y": null,
            "overflow_x": null,
            "grid_auto_flow": null,
            "grid_area": null,
            "grid_template_columns": null,
            "flex": null,
            "_model_name": "LayoutModel",
            "justify_items": null,
            "grid_row": null,
            "max_height": null,
            "align_content": null,
            "visibility": null,
            "align_self": null,
            "height": null,
            "min_height": null,
            "padding": null,
            "grid_auto_rows": null,
            "grid_gap": null,
            "max_width": null,
            "order": null,
            "_view_module_version": "1.2.0",
            "grid_template_areas": null,
            "object_position": null,
            "object_fit": null,
            "grid_auto_columns": null,
            "margin": null,
            "display": null,
            "left": null
          }
        },
        "1e201684230342d1a774933d14a55c40": {
          "model_module": "@jupyter-widgets/controls",
          "model_name": "HTMLModel",
          "model_module_version": "1.5.0",
          "state": {
            "_view_name": "HTMLView",
            "style": "IPY_MODEL_ed1db90e153041fdbcc70701c179d637",
            "_dom_classes": [],
            "description": "",
            "_model_name": "HTMLModel",
            "placeholder": "​",
            "_view_module": "@jupyter-widgets/controls",
            "_model_module_version": "1.5.0",
            "value": "",
            "_view_count": null,
            "_view_module_version": "1.5.0",
            "description_tooltip": null,
            "_model_module": "@jupyter-widgets/controls",
            "layout": "IPY_MODEL_261790f9c4764d98857818345464bb66"
          }
        },
        "97bd316c64a249b8a44f2ad1d82ffc7f": {
          "model_module": "@jupyter-widgets/controls",
          "model_name": "FloatProgressModel",
          "model_module_version": "1.5.0",
          "state": {
            "_view_name": "ProgressView",
            "style": "IPY_MODEL_ebcf791981cd4c25a3a27f886d98e278",
            "_dom_classes": [],
            "description": "",
            "_model_name": "FloatProgressModel",
            "bar_style": "success",
            "max": 9912422,
            "_view_module": "@jupyter-widgets/controls",
            "_model_module_version": "1.5.0",
            "value": 9912422,
            "_view_count": null,
            "_view_module_version": "1.5.0",
            "orientation": "horizontal",
            "min": 0,
            "description_tooltip": null,
            "_model_module": "@jupyter-widgets/controls",
            "layout": "IPY_MODEL_1869eeb89b7140f28194c0abecd5bf0f"
          }
        },
        "441000a913bf4fbfb5bf165d04d5158d": {
          "model_module": "@jupyter-widgets/controls",
          "model_name": "HTMLModel",
          "model_module_version": "1.5.0",
          "state": {
            "_view_name": "HTMLView",
            "style": "IPY_MODEL_4c2ab0d5b49846bebe8bcedb808bf234",
            "_dom_classes": [],
            "description": "",
            "_model_name": "HTMLModel",
            "placeholder": "​",
            "_view_module": "@jupyter-widgets/controls",
            "_model_module_version": "1.5.0",
            "value": " 9913344/? [00:00&lt;00:00, 44794739.30it/s]",
            "_view_count": null,
            "_view_module_version": "1.5.0",
            "description_tooltip": null,
            "_model_module": "@jupyter-widgets/controls",
            "layout": "IPY_MODEL_6ee056ae44c94825aaeb6296856cc3d5"
          }
        },
        "ed1db90e153041fdbcc70701c179d637": {
          "model_module": "@jupyter-widgets/controls",
          "model_name": "DescriptionStyleModel",
          "model_module_version": "1.5.0",
          "state": {
            "_view_name": "StyleView",
            "_model_name": "DescriptionStyleModel",
            "description_width": "",
            "_view_module": "@jupyter-widgets/base",
            "_model_module_version": "1.5.0",
            "_view_count": null,
            "_view_module_version": "1.2.0",
            "_model_module": "@jupyter-widgets/controls"
          }
        },
        "261790f9c4764d98857818345464bb66": {
          "model_module": "@jupyter-widgets/base",
          "model_name": "LayoutModel",
          "model_module_version": "1.2.0",
          "state": {
            "_view_name": "LayoutView",
            "grid_template_rows": null,
            "right": null,
            "justify_content": null,
            "_view_module": "@jupyter-widgets/base",
            "overflow": null,
            "_model_module_version": "1.2.0",
            "_view_count": null,
            "flex_flow": null,
            "width": null,
            "min_width": null,
            "border": null,
            "align_items": null,
            "bottom": null,
            "_model_module": "@jupyter-widgets/base",
            "top": null,
            "grid_column": null,
            "overflow_y": null,
            "overflow_x": null,
            "grid_auto_flow": null,
            "grid_area": null,
            "grid_template_columns": null,
            "flex": null,
            "_model_name": "LayoutModel",
            "justify_items": null,
            "grid_row": null,
            "max_height": null,
            "align_content": null,
            "visibility": null,
            "align_self": null,
            "height": null,
            "min_height": null,
            "padding": null,
            "grid_auto_rows": null,
            "grid_gap": null,
            "max_width": null,
            "order": null,
            "_view_module_version": "1.2.0",
            "grid_template_areas": null,
            "object_position": null,
            "object_fit": null,
            "grid_auto_columns": null,
            "margin": null,
            "display": null,
            "left": null
          }
        },
        "ebcf791981cd4c25a3a27f886d98e278": {
          "model_module": "@jupyter-widgets/controls",
          "model_name": "ProgressStyleModel",
          "model_module_version": "1.5.0",
          "state": {
            "_view_name": "StyleView",
            "_model_name": "ProgressStyleModel",
            "description_width": "",
            "_view_module": "@jupyter-widgets/base",
            "_model_module_version": "1.5.0",
            "_view_count": null,
            "_view_module_version": "1.2.0",
            "bar_color": null,
            "_model_module": "@jupyter-widgets/controls"
          }
        },
        "1869eeb89b7140f28194c0abecd5bf0f": {
          "model_module": "@jupyter-widgets/base",
          "model_name": "LayoutModel",
          "model_module_version": "1.2.0",
          "state": {
            "_view_name": "LayoutView",
            "grid_template_rows": null,
            "right": null,
            "justify_content": null,
            "_view_module": "@jupyter-widgets/base",
            "overflow": null,
            "_model_module_version": "1.2.0",
            "_view_count": null,
            "flex_flow": null,
            "width": null,
            "min_width": null,
            "border": null,
            "align_items": null,
            "bottom": null,
            "_model_module": "@jupyter-widgets/base",
            "top": null,
            "grid_column": null,
            "overflow_y": null,
            "overflow_x": null,
            "grid_auto_flow": null,
            "grid_area": null,
            "grid_template_columns": null,
            "flex": null,
            "_model_name": "LayoutModel",
            "justify_items": null,
            "grid_row": null,
            "max_height": null,
            "align_content": null,
            "visibility": null,
            "align_self": null,
            "height": null,
            "min_height": null,
            "padding": null,
            "grid_auto_rows": null,
            "grid_gap": null,
            "max_width": null,
            "order": null,
            "_view_module_version": "1.2.0",
            "grid_template_areas": null,
            "object_position": null,
            "object_fit": null,
            "grid_auto_columns": null,
            "margin": null,
            "display": null,
            "left": null
          }
        },
        "4c2ab0d5b49846bebe8bcedb808bf234": {
          "model_module": "@jupyter-widgets/controls",
          "model_name": "DescriptionStyleModel",
          "model_module_version": "1.5.0",
          "state": {
            "_view_name": "StyleView",
            "_model_name": "DescriptionStyleModel",
            "description_width": "",
            "_view_module": "@jupyter-widgets/base",
            "_model_module_version": "1.5.0",
            "_view_count": null,
            "_view_module_version": "1.2.0",
            "_model_module": "@jupyter-widgets/controls"
          }
        },
        "6ee056ae44c94825aaeb6296856cc3d5": {
          "model_module": "@jupyter-widgets/base",
          "model_name": "LayoutModel",
          "model_module_version": "1.2.0",
          "state": {
            "_view_name": "LayoutView",
            "grid_template_rows": null,
            "right": null,
            "justify_content": null,
            "_view_module": "@jupyter-widgets/base",
            "overflow": null,
            "_model_module_version": "1.2.0",
            "_view_count": null,
            "flex_flow": null,
            "width": null,
            "min_width": null,
            "border": null,
            "align_items": null,
            "bottom": null,
            "_model_module": "@jupyter-widgets/base",
            "top": null,
            "grid_column": null,
            "overflow_y": null,
            "overflow_x": null,
            "grid_auto_flow": null,
            "grid_area": null,
            "grid_template_columns": null,
            "flex": null,
            "_model_name": "LayoutModel",
            "justify_items": null,
            "grid_row": null,
            "max_height": null,
            "align_content": null,
            "visibility": null,
            "align_self": null,
            "height": null,
            "min_height": null,
            "padding": null,
            "grid_auto_rows": null,
            "grid_gap": null,
            "max_width": null,
            "order": null,
            "_view_module_version": "1.2.0",
            "grid_template_areas": null,
            "object_position": null,
            "object_fit": null,
            "grid_auto_columns": null,
            "margin": null,
            "display": null,
            "left": null
          }
        },
        "d2e1e5fcb17f4f6987ec6dec41c199a5": {
          "model_module": "@jupyter-widgets/controls",
          "model_name": "HBoxModel",
          "model_module_version": "1.5.0",
          "state": {
            "_view_name": "HBoxView",
            "_dom_classes": [],
            "_model_name": "HBoxModel",
            "_view_module": "@jupyter-widgets/controls",
            "_model_module_version": "1.5.0",
            "_view_count": null,
            "_view_module_version": "1.5.0",
            "box_style": "",
            "layout": "IPY_MODEL_d6206a16085f4ca582cb18e218a6f667",
            "_model_module": "@jupyter-widgets/controls",
            "children": [
              "IPY_MODEL_10039bd7019c4ca59f549568217b8e4d",
              "IPY_MODEL_784a1a5ac5f74ff58543f6e12d90fbcb",
              "IPY_MODEL_9693c55c86d747eab0700c51b0f10423"
            ]
          }
        },
        "d6206a16085f4ca582cb18e218a6f667": {
          "model_module": "@jupyter-widgets/base",
          "model_name": "LayoutModel",
          "model_module_version": "1.2.0",
          "state": {
            "_view_name": "LayoutView",
            "grid_template_rows": null,
            "right": null,
            "justify_content": null,
            "_view_module": "@jupyter-widgets/base",
            "overflow": null,
            "_model_module_version": "1.2.0",
            "_view_count": null,
            "flex_flow": null,
            "width": null,
            "min_width": null,
            "border": null,
            "align_items": null,
            "bottom": null,
            "_model_module": "@jupyter-widgets/base",
            "top": null,
            "grid_column": null,
            "overflow_y": null,
            "overflow_x": null,
            "grid_auto_flow": null,
            "grid_area": null,
            "grid_template_columns": null,
            "flex": null,
            "_model_name": "LayoutModel",
            "justify_items": null,
            "grid_row": null,
            "max_height": null,
            "align_content": null,
            "visibility": null,
            "align_self": null,
            "height": null,
            "min_height": null,
            "padding": null,
            "grid_auto_rows": null,
            "grid_gap": null,
            "max_width": null,
            "order": null,
            "_view_module_version": "1.2.0",
            "grid_template_areas": null,
            "object_position": null,
            "object_fit": null,
            "grid_auto_columns": null,
            "margin": null,
            "display": null,
            "left": null
          }
        },
        "10039bd7019c4ca59f549568217b8e4d": {
          "model_module": "@jupyter-widgets/controls",
          "model_name": "HTMLModel",
          "model_module_version": "1.5.0",
          "state": {
            "_view_name": "HTMLView",
            "style": "IPY_MODEL_de17569a60bf440e8d059e8d15cbe4b1",
            "_dom_classes": [],
            "description": "",
            "_model_name": "HTMLModel",
            "placeholder": "​",
            "_view_module": "@jupyter-widgets/controls",
            "_model_module_version": "1.5.0",
            "value": "",
            "_view_count": null,
            "_view_module_version": "1.5.0",
            "description_tooltip": null,
            "_model_module": "@jupyter-widgets/controls",
            "layout": "IPY_MODEL_de7cc2c67b694e90ace772c7c02eb57a"
          }
        },
        "784a1a5ac5f74ff58543f6e12d90fbcb": {
          "model_module": "@jupyter-widgets/controls",
          "model_name": "FloatProgressModel",
          "model_module_version": "1.5.0",
          "state": {
            "_view_name": "ProgressView",
            "style": "IPY_MODEL_88a9f80cb385400b82ae0f933e247399",
            "_dom_classes": [],
            "description": "",
            "_model_name": "FloatProgressModel",
            "bar_style": "success",
            "max": 28881,
            "_view_module": "@jupyter-widgets/controls",
            "_model_module_version": "1.5.0",
            "value": 28881,
            "_view_count": null,
            "_view_module_version": "1.5.0",
            "orientation": "horizontal",
            "min": 0,
            "description_tooltip": null,
            "_model_module": "@jupyter-widgets/controls",
            "layout": "IPY_MODEL_c2cf1cd7df2c4797b2d2d8645552fd98"
          }
        },
        "9693c55c86d747eab0700c51b0f10423": {
          "model_module": "@jupyter-widgets/controls",
          "model_name": "HTMLModel",
          "model_module_version": "1.5.0",
          "state": {
            "_view_name": "HTMLView",
            "style": "IPY_MODEL_029f962ccc52471aab01c81cbdace29b",
            "_dom_classes": [],
            "description": "",
            "_model_name": "HTMLModel",
            "placeholder": "​",
            "_view_module": "@jupyter-widgets/controls",
            "_model_module_version": "1.5.0",
            "value": " 29696/? [00:00&lt;00:00, 682420.65it/s]",
            "_view_count": null,
            "_view_module_version": "1.5.0",
            "description_tooltip": null,
            "_model_module": "@jupyter-widgets/controls",
            "layout": "IPY_MODEL_92e444182f0b40678bd8203441003a84"
          }
        },
        "de17569a60bf440e8d059e8d15cbe4b1": {
          "model_module": "@jupyter-widgets/controls",
          "model_name": "DescriptionStyleModel",
          "model_module_version": "1.5.0",
          "state": {
            "_view_name": "StyleView",
            "_model_name": "DescriptionStyleModel",
            "description_width": "",
            "_view_module": "@jupyter-widgets/base",
            "_model_module_version": "1.5.0",
            "_view_count": null,
            "_view_module_version": "1.2.0",
            "_model_module": "@jupyter-widgets/controls"
          }
        },
        "de7cc2c67b694e90ace772c7c02eb57a": {
          "model_module": "@jupyter-widgets/base",
          "model_name": "LayoutModel",
          "model_module_version": "1.2.0",
          "state": {
            "_view_name": "LayoutView",
            "grid_template_rows": null,
            "right": null,
            "justify_content": null,
            "_view_module": "@jupyter-widgets/base",
            "overflow": null,
            "_model_module_version": "1.2.0",
            "_view_count": null,
            "flex_flow": null,
            "width": null,
            "min_width": null,
            "border": null,
            "align_items": null,
            "bottom": null,
            "_model_module": "@jupyter-widgets/base",
            "top": null,
            "grid_column": null,
            "overflow_y": null,
            "overflow_x": null,
            "grid_auto_flow": null,
            "grid_area": null,
            "grid_template_columns": null,
            "flex": null,
            "_model_name": "LayoutModel",
            "justify_items": null,
            "grid_row": null,
            "max_height": null,
            "align_content": null,
            "visibility": null,
            "align_self": null,
            "height": null,
            "min_height": null,
            "padding": null,
            "grid_auto_rows": null,
            "grid_gap": null,
            "max_width": null,
            "order": null,
            "_view_module_version": "1.2.0",
            "grid_template_areas": null,
            "object_position": null,
            "object_fit": null,
            "grid_auto_columns": null,
            "margin": null,
            "display": null,
            "left": null
          }
        },
        "88a9f80cb385400b82ae0f933e247399": {
          "model_module": "@jupyter-widgets/controls",
          "model_name": "ProgressStyleModel",
          "model_module_version": "1.5.0",
          "state": {
            "_view_name": "StyleView",
            "_model_name": "ProgressStyleModel",
            "description_width": "",
            "_view_module": "@jupyter-widgets/base",
            "_model_module_version": "1.5.0",
            "_view_count": null,
            "_view_module_version": "1.2.0",
            "bar_color": null,
            "_model_module": "@jupyter-widgets/controls"
          }
        },
        "c2cf1cd7df2c4797b2d2d8645552fd98": {
          "model_module": "@jupyter-widgets/base",
          "model_name": "LayoutModel",
          "model_module_version": "1.2.0",
          "state": {
            "_view_name": "LayoutView",
            "grid_template_rows": null,
            "right": null,
            "justify_content": null,
            "_view_module": "@jupyter-widgets/base",
            "overflow": null,
            "_model_module_version": "1.2.0",
            "_view_count": null,
            "flex_flow": null,
            "width": null,
            "min_width": null,
            "border": null,
            "align_items": null,
            "bottom": null,
            "_model_module": "@jupyter-widgets/base",
            "top": null,
            "grid_column": null,
            "overflow_y": null,
            "overflow_x": null,
            "grid_auto_flow": null,
            "grid_area": null,
            "grid_template_columns": null,
            "flex": null,
            "_model_name": "LayoutModel",
            "justify_items": null,
            "grid_row": null,
            "max_height": null,
            "align_content": null,
            "visibility": null,
            "align_self": null,
            "height": null,
            "min_height": null,
            "padding": null,
            "grid_auto_rows": null,
            "grid_gap": null,
            "max_width": null,
            "order": null,
            "_view_module_version": "1.2.0",
            "grid_template_areas": null,
            "object_position": null,
            "object_fit": null,
            "grid_auto_columns": null,
            "margin": null,
            "display": null,
            "left": null
          }
        },
        "029f962ccc52471aab01c81cbdace29b": {
          "model_module": "@jupyter-widgets/controls",
          "model_name": "DescriptionStyleModel",
          "model_module_version": "1.5.0",
          "state": {
            "_view_name": "StyleView",
            "_model_name": "DescriptionStyleModel",
            "description_width": "",
            "_view_module": "@jupyter-widgets/base",
            "_model_module_version": "1.5.0",
            "_view_count": null,
            "_view_module_version": "1.2.0",
            "_model_module": "@jupyter-widgets/controls"
          }
        },
        "92e444182f0b40678bd8203441003a84": {
          "model_module": "@jupyter-widgets/base",
          "model_name": "LayoutModel",
          "model_module_version": "1.2.0",
          "state": {
            "_view_name": "LayoutView",
            "grid_template_rows": null,
            "right": null,
            "justify_content": null,
            "_view_module": "@jupyter-widgets/base",
            "overflow": null,
            "_model_module_version": "1.2.0",
            "_view_count": null,
            "flex_flow": null,
            "width": null,
            "min_width": null,
            "border": null,
            "align_items": null,
            "bottom": null,
            "_model_module": "@jupyter-widgets/base",
            "top": null,
            "grid_column": null,
            "overflow_y": null,
            "overflow_x": null,
            "grid_auto_flow": null,
            "grid_area": null,
            "grid_template_columns": null,
            "flex": null,
            "_model_name": "LayoutModel",
            "justify_items": null,
            "grid_row": null,
            "max_height": null,
            "align_content": null,
            "visibility": null,
            "align_self": null,
            "height": null,
            "min_height": null,
            "padding": null,
            "grid_auto_rows": null,
            "grid_gap": null,
            "max_width": null,
            "order": null,
            "_view_module_version": "1.2.0",
            "grid_template_areas": null,
            "object_position": null,
            "object_fit": null,
            "grid_auto_columns": null,
            "margin": null,
            "display": null,
            "left": null
          }
        },
        "2a29c2e73f1f4af78e1a6e43109717ca": {
          "model_module": "@jupyter-widgets/controls",
          "model_name": "HBoxModel",
          "model_module_version": "1.5.0",
          "state": {
            "_view_name": "HBoxView",
            "_dom_classes": [],
            "_model_name": "HBoxModel",
            "_view_module": "@jupyter-widgets/controls",
            "_model_module_version": "1.5.0",
            "_view_count": null,
            "_view_module_version": "1.5.0",
            "box_style": "",
            "layout": "IPY_MODEL_d760016c70a84db2b4d76f0ece8d0122",
            "_model_module": "@jupyter-widgets/controls",
            "children": [
              "IPY_MODEL_fdb4bea1963f4d5f92f8cde7760f8d66",
              "IPY_MODEL_97bcdad9fe8e479b9662a45479c44ca7",
              "IPY_MODEL_e026807ee16c49f6a22e500ad9ba8467"
            ]
          }
        },
        "d760016c70a84db2b4d76f0ece8d0122": {
          "model_module": "@jupyter-widgets/base",
          "model_name": "LayoutModel",
          "model_module_version": "1.2.0",
          "state": {
            "_view_name": "LayoutView",
            "grid_template_rows": null,
            "right": null,
            "justify_content": null,
            "_view_module": "@jupyter-widgets/base",
            "overflow": null,
            "_model_module_version": "1.2.0",
            "_view_count": null,
            "flex_flow": null,
            "width": null,
            "min_width": null,
            "border": null,
            "align_items": null,
            "bottom": null,
            "_model_module": "@jupyter-widgets/base",
            "top": null,
            "grid_column": null,
            "overflow_y": null,
            "overflow_x": null,
            "grid_auto_flow": null,
            "grid_area": null,
            "grid_template_columns": null,
            "flex": null,
            "_model_name": "LayoutModel",
            "justify_items": null,
            "grid_row": null,
            "max_height": null,
            "align_content": null,
            "visibility": null,
            "align_self": null,
            "height": null,
            "min_height": null,
            "padding": null,
            "grid_auto_rows": null,
            "grid_gap": null,
            "max_width": null,
            "order": null,
            "_view_module_version": "1.2.0",
            "grid_template_areas": null,
            "object_position": null,
            "object_fit": null,
            "grid_auto_columns": null,
            "margin": null,
            "display": null,
            "left": null
          }
        },
        "fdb4bea1963f4d5f92f8cde7760f8d66": {
          "model_module": "@jupyter-widgets/controls",
          "model_name": "HTMLModel",
          "model_module_version": "1.5.0",
          "state": {
            "_view_name": "HTMLView",
            "style": "IPY_MODEL_7d3d87aae45b496090be6128dc729267",
            "_dom_classes": [],
            "description": "",
            "_model_name": "HTMLModel",
            "placeholder": "​",
            "_view_module": "@jupyter-widgets/controls",
            "_model_module_version": "1.5.0",
            "value": "",
            "_view_count": null,
            "_view_module_version": "1.5.0",
            "description_tooltip": null,
            "_model_module": "@jupyter-widgets/controls",
            "layout": "IPY_MODEL_598d007e995f451d8887e70cfbbf1bb9"
          }
        },
        "97bcdad9fe8e479b9662a45479c44ca7": {
          "model_module": "@jupyter-widgets/controls",
          "model_name": "FloatProgressModel",
          "model_module_version": "1.5.0",
          "state": {
            "_view_name": "ProgressView",
            "style": "IPY_MODEL_bed5aeee530248388172bd6a04dde02c",
            "_dom_classes": [],
            "description": "",
            "_model_name": "FloatProgressModel",
            "bar_style": "success",
            "max": 1648877,
            "_view_module": "@jupyter-widgets/controls",
            "_model_module_version": "1.5.0",
            "value": 1648877,
            "_view_count": null,
            "_view_module_version": "1.5.0",
            "orientation": "horizontal",
            "min": 0,
            "description_tooltip": null,
            "_model_module": "@jupyter-widgets/controls",
            "layout": "IPY_MODEL_5cad303569b24ce59a2e2a417ddfb838"
          }
        },
        "e026807ee16c49f6a22e500ad9ba8467": {
          "model_module": "@jupyter-widgets/controls",
          "model_name": "HTMLModel",
          "model_module_version": "1.5.0",
          "state": {
            "_view_name": "HTMLView",
            "style": "IPY_MODEL_ce14048b65bb4cadacb9c218207389fb",
            "_dom_classes": [],
            "description": "",
            "_model_name": "HTMLModel",
            "placeholder": "​",
            "_view_module": "@jupyter-widgets/controls",
            "_model_module_version": "1.5.0",
            "value": " 1649664/? [00:00&lt;00:00, 5440846.18it/s]",
            "_view_count": null,
            "_view_module_version": "1.5.0",
            "description_tooltip": null,
            "_model_module": "@jupyter-widgets/controls",
            "layout": "IPY_MODEL_e2b39178bde140cfbca09679d38cc915"
          }
        },
        "7d3d87aae45b496090be6128dc729267": {
          "model_module": "@jupyter-widgets/controls",
          "model_name": "DescriptionStyleModel",
          "model_module_version": "1.5.0",
          "state": {
            "_view_name": "StyleView",
            "_model_name": "DescriptionStyleModel",
            "description_width": "",
            "_view_module": "@jupyter-widgets/base",
            "_model_module_version": "1.5.0",
            "_view_count": null,
            "_view_module_version": "1.2.0",
            "_model_module": "@jupyter-widgets/controls"
          }
        },
        "598d007e995f451d8887e70cfbbf1bb9": {
          "model_module": "@jupyter-widgets/base",
          "model_name": "LayoutModel",
          "model_module_version": "1.2.0",
          "state": {
            "_view_name": "LayoutView",
            "grid_template_rows": null,
            "right": null,
            "justify_content": null,
            "_view_module": "@jupyter-widgets/base",
            "overflow": null,
            "_model_module_version": "1.2.0",
            "_view_count": null,
            "flex_flow": null,
            "width": null,
            "min_width": null,
            "border": null,
            "align_items": null,
            "bottom": null,
            "_model_module": "@jupyter-widgets/base",
            "top": null,
            "grid_column": null,
            "overflow_y": null,
            "overflow_x": null,
            "grid_auto_flow": null,
            "grid_area": null,
            "grid_template_columns": null,
            "flex": null,
            "_model_name": "LayoutModel",
            "justify_items": null,
            "grid_row": null,
            "max_height": null,
            "align_content": null,
            "visibility": null,
            "align_self": null,
            "height": null,
            "min_height": null,
            "padding": null,
            "grid_auto_rows": null,
            "grid_gap": null,
            "max_width": null,
            "order": null,
            "_view_module_version": "1.2.0",
            "grid_template_areas": null,
            "object_position": null,
            "object_fit": null,
            "grid_auto_columns": null,
            "margin": null,
            "display": null,
            "left": null
          }
        },
        "bed5aeee530248388172bd6a04dde02c": {
          "model_module": "@jupyter-widgets/controls",
          "model_name": "ProgressStyleModel",
          "model_module_version": "1.5.0",
          "state": {
            "_view_name": "StyleView",
            "_model_name": "ProgressStyleModel",
            "description_width": "",
            "_view_module": "@jupyter-widgets/base",
            "_model_module_version": "1.5.0",
            "_view_count": null,
            "_view_module_version": "1.2.0",
            "bar_color": null,
            "_model_module": "@jupyter-widgets/controls"
          }
        },
        "5cad303569b24ce59a2e2a417ddfb838": {
          "model_module": "@jupyter-widgets/base",
          "model_name": "LayoutModel",
          "model_module_version": "1.2.0",
          "state": {
            "_view_name": "LayoutView",
            "grid_template_rows": null,
            "right": null,
            "justify_content": null,
            "_view_module": "@jupyter-widgets/base",
            "overflow": null,
            "_model_module_version": "1.2.0",
            "_view_count": null,
            "flex_flow": null,
            "width": null,
            "min_width": null,
            "border": null,
            "align_items": null,
            "bottom": null,
            "_model_module": "@jupyter-widgets/base",
            "top": null,
            "grid_column": null,
            "overflow_y": null,
            "overflow_x": null,
            "grid_auto_flow": null,
            "grid_area": null,
            "grid_template_columns": null,
            "flex": null,
            "_model_name": "LayoutModel",
            "justify_items": null,
            "grid_row": null,
            "max_height": null,
            "align_content": null,
            "visibility": null,
            "align_self": null,
            "height": null,
            "min_height": null,
            "padding": null,
            "grid_auto_rows": null,
            "grid_gap": null,
            "max_width": null,
            "order": null,
            "_view_module_version": "1.2.0",
            "grid_template_areas": null,
            "object_position": null,
            "object_fit": null,
            "grid_auto_columns": null,
            "margin": null,
            "display": null,
            "left": null
          }
        },
        "ce14048b65bb4cadacb9c218207389fb": {
          "model_module": "@jupyter-widgets/controls",
          "model_name": "DescriptionStyleModel",
          "model_module_version": "1.5.0",
          "state": {
            "_view_name": "StyleView",
            "_model_name": "DescriptionStyleModel",
            "description_width": "",
            "_view_module": "@jupyter-widgets/base",
            "_model_module_version": "1.5.0",
            "_view_count": null,
            "_view_module_version": "1.2.0",
            "_model_module": "@jupyter-widgets/controls"
          }
        },
        "e2b39178bde140cfbca09679d38cc915": {
          "model_module": "@jupyter-widgets/base",
          "model_name": "LayoutModel",
          "model_module_version": "1.2.0",
          "state": {
            "_view_name": "LayoutView",
            "grid_template_rows": null,
            "right": null,
            "justify_content": null,
            "_view_module": "@jupyter-widgets/base",
            "overflow": null,
            "_model_module_version": "1.2.0",
            "_view_count": null,
            "flex_flow": null,
            "width": null,
            "min_width": null,
            "border": null,
            "align_items": null,
            "bottom": null,
            "_model_module": "@jupyter-widgets/base",
            "top": null,
            "grid_column": null,
            "overflow_y": null,
            "overflow_x": null,
            "grid_auto_flow": null,
            "grid_area": null,
            "grid_template_columns": null,
            "flex": null,
            "_model_name": "LayoutModel",
            "justify_items": null,
            "grid_row": null,
            "max_height": null,
            "align_content": null,
            "visibility": null,
            "align_self": null,
            "height": null,
            "min_height": null,
            "padding": null,
            "grid_auto_rows": null,
            "grid_gap": null,
            "max_width": null,
            "order": null,
            "_view_module_version": "1.2.0",
            "grid_template_areas": null,
            "object_position": null,
            "object_fit": null,
            "grid_auto_columns": null,
            "margin": null,
            "display": null,
            "left": null
          }
        },
        "20c9581460654dfa82a0410acb9ed601": {
          "model_module": "@jupyter-widgets/controls",
          "model_name": "HBoxModel",
          "model_module_version": "1.5.0",
          "state": {
            "_view_name": "HBoxView",
            "_dom_classes": [],
            "_model_name": "HBoxModel",
            "_view_module": "@jupyter-widgets/controls",
            "_model_module_version": "1.5.0",
            "_view_count": null,
            "_view_module_version": "1.5.0",
            "box_style": "",
            "layout": "IPY_MODEL_cbbe8d307e8a4e8f84a4cfdf3336d055",
            "_model_module": "@jupyter-widgets/controls",
            "children": [
              "IPY_MODEL_f1af69f0f58244a3a8b60be1f33d839a",
              "IPY_MODEL_4a73a1c8613d409184e3cb24f0294139",
              "IPY_MODEL_86dd41e68354481da180b9d6b07e1944"
            ]
          }
        },
        "cbbe8d307e8a4e8f84a4cfdf3336d055": {
          "model_module": "@jupyter-widgets/base",
          "model_name": "LayoutModel",
          "model_module_version": "1.2.0",
          "state": {
            "_view_name": "LayoutView",
            "grid_template_rows": null,
            "right": null,
            "justify_content": null,
            "_view_module": "@jupyter-widgets/base",
            "overflow": null,
            "_model_module_version": "1.2.0",
            "_view_count": null,
            "flex_flow": null,
            "width": null,
            "min_width": null,
            "border": null,
            "align_items": null,
            "bottom": null,
            "_model_module": "@jupyter-widgets/base",
            "top": null,
            "grid_column": null,
            "overflow_y": null,
            "overflow_x": null,
            "grid_auto_flow": null,
            "grid_area": null,
            "grid_template_columns": null,
            "flex": null,
            "_model_name": "LayoutModel",
            "justify_items": null,
            "grid_row": null,
            "max_height": null,
            "align_content": null,
            "visibility": null,
            "align_self": null,
            "height": null,
            "min_height": null,
            "padding": null,
            "grid_auto_rows": null,
            "grid_gap": null,
            "max_width": null,
            "order": null,
            "_view_module_version": "1.2.0",
            "grid_template_areas": null,
            "object_position": null,
            "object_fit": null,
            "grid_auto_columns": null,
            "margin": null,
            "display": null,
            "left": null
          }
        },
        "f1af69f0f58244a3a8b60be1f33d839a": {
          "model_module": "@jupyter-widgets/controls",
          "model_name": "HTMLModel",
          "model_module_version": "1.5.0",
          "state": {
            "_view_name": "HTMLView",
            "style": "IPY_MODEL_c99e4978a6af46388e7120bffbb0f28d",
            "_dom_classes": [],
            "description": "",
            "_model_name": "HTMLModel",
            "placeholder": "​",
            "_view_module": "@jupyter-widgets/controls",
            "_model_module_version": "1.5.0",
            "value": "",
            "_view_count": null,
            "_view_module_version": "1.5.0",
            "description_tooltip": null,
            "_model_module": "@jupyter-widgets/controls",
            "layout": "IPY_MODEL_7ccd28008d244cbfa11445a84d492c6e"
          }
        },
        "4a73a1c8613d409184e3cb24f0294139": {
          "model_module": "@jupyter-widgets/controls",
          "model_name": "FloatProgressModel",
          "model_module_version": "1.5.0",
          "state": {
            "_view_name": "ProgressView",
            "style": "IPY_MODEL_550f7d17765242c5ab6d4da753684fd9",
            "_dom_classes": [],
            "description": "",
            "_model_name": "FloatProgressModel",
            "bar_style": "success",
            "max": 4542,
            "_view_module": "@jupyter-widgets/controls",
            "_model_module_version": "1.5.0",
            "value": 4542,
            "_view_count": null,
            "_view_module_version": "1.5.0",
            "orientation": "horizontal",
            "min": 0,
            "description_tooltip": null,
            "_model_module": "@jupyter-widgets/controls",
            "layout": "IPY_MODEL_ea483a9c6e754ae297ed35020be63064"
          }
        },
        "86dd41e68354481da180b9d6b07e1944": {
          "model_module": "@jupyter-widgets/controls",
          "model_name": "HTMLModel",
          "model_module_version": "1.5.0",
          "state": {
            "_view_name": "HTMLView",
            "style": "IPY_MODEL_b14ec52f369c4c90b072a4f19009cfc4",
            "_dom_classes": [],
            "description": "",
            "_model_name": "HTMLModel",
            "placeholder": "​",
            "_view_module": "@jupyter-widgets/controls",
            "_model_module_version": "1.5.0",
            "value": " 5120/? [00:00&lt;00:00, 104961.13it/s]",
            "_view_count": null,
            "_view_module_version": "1.5.0",
            "description_tooltip": null,
            "_model_module": "@jupyter-widgets/controls",
            "layout": "IPY_MODEL_db7617868bba4569b6da49bf6959c4e5"
          }
        },
        "c99e4978a6af46388e7120bffbb0f28d": {
          "model_module": "@jupyter-widgets/controls",
          "model_name": "DescriptionStyleModel",
          "model_module_version": "1.5.0",
          "state": {
            "_view_name": "StyleView",
            "_model_name": "DescriptionStyleModel",
            "description_width": "",
            "_view_module": "@jupyter-widgets/base",
            "_model_module_version": "1.5.0",
            "_view_count": null,
            "_view_module_version": "1.2.0",
            "_model_module": "@jupyter-widgets/controls"
          }
        },
        "7ccd28008d244cbfa11445a84d492c6e": {
          "model_module": "@jupyter-widgets/base",
          "model_name": "LayoutModel",
          "model_module_version": "1.2.0",
          "state": {
            "_view_name": "LayoutView",
            "grid_template_rows": null,
            "right": null,
            "justify_content": null,
            "_view_module": "@jupyter-widgets/base",
            "overflow": null,
            "_model_module_version": "1.2.0",
            "_view_count": null,
            "flex_flow": null,
            "width": null,
            "min_width": null,
            "border": null,
            "align_items": null,
            "bottom": null,
            "_model_module": "@jupyter-widgets/base",
            "top": null,
            "grid_column": null,
            "overflow_y": null,
            "overflow_x": null,
            "grid_auto_flow": null,
            "grid_area": null,
            "grid_template_columns": null,
            "flex": null,
            "_model_name": "LayoutModel",
            "justify_items": null,
            "grid_row": null,
            "max_height": null,
            "align_content": null,
            "visibility": null,
            "align_self": null,
            "height": null,
            "min_height": null,
            "padding": null,
            "grid_auto_rows": null,
            "grid_gap": null,
            "max_width": null,
            "order": null,
            "_view_module_version": "1.2.0",
            "grid_template_areas": null,
            "object_position": null,
            "object_fit": null,
            "grid_auto_columns": null,
            "margin": null,
            "display": null,
            "left": null
          }
        },
        "550f7d17765242c5ab6d4da753684fd9": {
          "model_module": "@jupyter-widgets/controls",
          "model_name": "ProgressStyleModel",
          "model_module_version": "1.5.0",
          "state": {
            "_view_name": "StyleView",
            "_model_name": "ProgressStyleModel",
            "description_width": "",
            "_view_module": "@jupyter-widgets/base",
            "_model_module_version": "1.5.0",
            "_view_count": null,
            "_view_module_version": "1.2.0",
            "bar_color": null,
            "_model_module": "@jupyter-widgets/controls"
          }
        },
        "ea483a9c6e754ae297ed35020be63064": {
          "model_module": "@jupyter-widgets/base",
          "model_name": "LayoutModel",
          "model_module_version": "1.2.0",
          "state": {
            "_view_name": "LayoutView",
            "grid_template_rows": null,
            "right": null,
            "justify_content": null,
            "_view_module": "@jupyter-widgets/base",
            "overflow": null,
            "_model_module_version": "1.2.0",
            "_view_count": null,
            "flex_flow": null,
            "width": null,
            "min_width": null,
            "border": null,
            "align_items": null,
            "bottom": null,
            "_model_module": "@jupyter-widgets/base",
            "top": null,
            "grid_column": null,
            "overflow_y": null,
            "overflow_x": null,
            "grid_auto_flow": null,
            "grid_area": null,
            "grid_template_columns": null,
            "flex": null,
            "_model_name": "LayoutModel",
            "justify_items": null,
            "grid_row": null,
            "max_height": null,
            "align_content": null,
            "visibility": null,
            "align_self": null,
            "height": null,
            "min_height": null,
            "padding": null,
            "grid_auto_rows": null,
            "grid_gap": null,
            "max_width": null,
            "order": null,
            "_view_module_version": "1.2.0",
            "grid_template_areas": null,
            "object_position": null,
            "object_fit": null,
            "grid_auto_columns": null,
            "margin": null,
            "display": null,
            "left": null
          }
        },
        "b14ec52f369c4c90b072a4f19009cfc4": {
          "model_module": "@jupyter-widgets/controls",
          "model_name": "DescriptionStyleModel",
          "model_module_version": "1.5.0",
          "state": {
            "_view_name": "StyleView",
            "_model_name": "DescriptionStyleModel",
            "description_width": "",
            "_view_module": "@jupyter-widgets/base",
            "_model_module_version": "1.5.0",
            "_view_count": null,
            "_view_module_version": "1.2.0",
            "_model_module": "@jupyter-widgets/controls"
          }
        },
        "db7617868bba4569b6da49bf6959c4e5": {
          "model_module": "@jupyter-widgets/base",
          "model_name": "LayoutModel",
          "model_module_version": "1.2.0",
          "state": {
            "_view_name": "LayoutView",
            "grid_template_rows": null,
            "right": null,
            "justify_content": null,
            "_view_module": "@jupyter-widgets/base",
            "overflow": null,
            "_model_module_version": "1.2.0",
            "_view_count": null,
            "flex_flow": null,
            "width": null,
            "min_width": null,
            "border": null,
            "align_items": null,
            "bottom": null,
            "_model_module": "@jupyter-widgets/base",
            "top": null,
            "grid_column": null,
            "overflow_y": null,
            "overflow_x": null,
            "grid_auto_flow": null,
            "grid_area": null,
            "grid_template_columns": null,
            "flex": null,
            "_model_name": "LayoutModel",
            "justify_items": null,
            "grid_row": null,
            "max_height": null,
            "align_content": null,
            "visibility": null,
            "align_self": null,
            "height": null,
            "min_height": null,
            "padding": null,
            "grid_auto_rows": null,
            "grid_gap": null,
            "max_width": null,
            "order": null,
            "_view_module_version": "1.2.0",
            "grid_template_areas": null,
            "object_position": null,
            "object_fit": null,
            "grid_auto_columns": null,
            "margin": null,
            "display": null,
            "left": null
          }
        }
      }
    },
    "accelerator": "GPU"
  },
  "cells": [
    {
      "cell_type": "markdown",
      "metadata": {
        "id": "view-in-github",
        "colab_type": "text"
      },
      "source": [
        "<a href=\"https://colab.research.google.com/github/kd303/trnsfrmr_pytrch_end_p1/blob/main/pytorch_intro/PyTorchAssginment1.ipynb\" target=\"_parent\"><img src=\"https://colab.research.google.com/assets/colab-badge.svg\" alt=\"Open In Colab\"/></a>"
      ]
    },
    {
      "cell_type": "code",
      "metadata": {
        "id": "p6unO7wDLiMT"
      },
      "source": [
        ""
      ],
      "execution_count": null,
      "outputs": []
    },
    {
      "cell_type": "markdown",
      "metadata": {
        "id": "b4ncwCtaLjYB"
      },
      "source": [
        "## Problem Statement:\n",
        "\n",
        "We are to solve for a neural network which outputs a sum of  an image of a number between **0 & 9** and also a *random number generated* between **0 & 9** \n",
        "\n",
        "\n",
        "Nueral nets are not great at solving linear equations, this is an excersize in understanding **PyTorch** Data Loader and built an intution on nural net and their working.\n",
        "\n",
        "  \n",
        "### **Following Image shows a sample of what we are trying to achieve:**\n",
        "---\n",
        "5 is an image and 7 is a generated number, which gives two outputs number that is recongnized by NN and 13 is a sum of two input numbers\n",
        "\n",
        "![SampleNN.JPG](data:image/jpeg;base64,/9j/4AAQSkZJRgABAQEAYABgAAD/4RD0RXhpZgAATU0AKgAAAAgABAE7AAIAAAAOAAAISodpAAQAAAABAAAIWJydAAEAAAAcAAAQ0OocAAcAAAgMAAAAPgAAAAAc6gAAAAgAAAAAAAAAAAAAAAAAAAAAAAAAAAAAAAAAAAAAAAAAAAAAAAAAAAAAAAAAAAAAAAAAAAAAAAAAAAAAAAAAAAAAAAAAAAAAAAAAAAAAAAAAAAAAAAAAAAAAAAAAAAAAAAAAAAAAAAAAAAAAAAAAAAAAAAAAAAAAAAAAAAAAAAAAAAAAAAAAAAAAAAAAAAAAAAAAAAAAAAAAAAAAAAAAAAAAAAAAAAAAAAAAAAAAAAAAAAAAAAAAAAAAAAAAAAAAAAAAAAAAAAAAAAAAAAAAAAAAAAAAAAAAAAAAAAAAAAAAAAAAAAAAAAAAAAAAAAAAAAAAAAAAAAAAAAAAAAAAAAAAAAAAAAAAAAAAAAAAAAAAAAAAAAAAAAAAAAAAAAAAAAAAAAAAAAAAAAAAAAAAAAAAAAAAAAAAAAAAAAAAAAAAAAAAAAAAAAAAAAAAAAAAAAAAAAAAAAAAAAAAAAAAAAAAAAAAAAAAAAAAAAAAAAAAAAAAAAAAAAAAAAAAAAAAAAAAAAAAAAAAAAAAAAAAAAAAAAAAAAAAAAAAAAAAAAAAAAAAAAAAAAAAAAAAAAAAAAAAAAAAAAAAAAAAAAAAAAAAAAAAAAAAAAAAAAAAAAAAAAAAAAAAAAAAAAAAAAAAAAAAAAAAAAAAAAAAAAAAAAAAAAAAAAAAAAAAAAAAAAAAAAAAAAAAAAAAAAAAAAAAAAAAAAAAAAAAAAAAAAAAAAAAAAAAAAAAAAAAAAAAAAAAAAAAAAAAAAAAAAAAAAAAAAAAAAAAAAAAAAAAAAAAAAAAAAAAAAAAAAAAAAAAAAAAAAAAAAAAAAAAAAAAAAAAAAAAAAAAAAAAAAAAAAAAAAAAAAAAAAAAAAAAAAAAAAAAAAAAAAAAAAAAAAAAAAAAAAAAAAAAAAAAAAAAAAAAAAAAAAAAAAAAAAAAAAAAAAAAAAAAAAAAAAAAAAAAAAAAAAAAAAAAAAAAAAAAAAAAAAAAAAAAAAAAAAAAAAAAAAAAAAAAAAAAAAAAAAAAAAAAAAAAAAAAAAAAAAAAAAAAAAAAAAAAAAAAAAAAAAAAAAAAAAAAAAAAAAAAAAAAAAAAAAAAAAAAAAAAAAAAAAAAAAAAAAAAAAAAAAAAAAAAAAAAAAAAAAAAAAAAAAAAAAAAAAAAAAAAAAAAAAAAAAAAAAAAAAAAAAAAAAAAAAAAAAAAAAAAAAAAAAAAAAAAAAAAAAAAAAAAAAAAAAAAAAAAAAAAAAAAAAAAAAAAAAAAAAAAAAAAAAAAAAAAAAAAAAAAAAAAAAAAAAAAAAAAAAAAAAAAAAAAAAAAAAAAAAAAAAAAAAAAAAAAAAAAAAAAAAAAAAAAAAAAAAAAAAAAAAAAAAAAAAAAAAAAAAAAAAAAAAAAAAAAAAAAAAAAAAAAAAAAAAAAAAAAAAAAAAAAAAAAAAAAAAAAAAAAAAAAAAAAAAAAAAAAAAAAAAAAAAAAAAAAAAAAAAAAAAAAAAAAAAAAAAAAAAAAAAAAAAAAAAAAAAAAAAAAAAAAAAAAAAAAAAAAAAAAAAAAAAAAAAAAAAAAAAAAAAAAAAAAAAAAAAAAAAAAAAAAAAAAAAAAAAAAAAAAAAAAAAAAAAAAAAAAAAAAAAAAAAAAAAAAAAAAAAAAAAAAAAAAAAAAAAAAAAAAAAAAAAAAAAAAAAAAAAAAAAAAAAAAAAAAAAAAAAAAAAAAAAAAAAAAAAAAAAAAAAAAAAAAAAAAAAAAAAAAAAAAAAAAAAAAAAAAAAAAAAAAAAAAAAAAAAAAAAAAAAAAAAAAAAAAAAAAAAAAAAAAAAAAAAAAAAAAAAAAAAAAAAAAAAAAAAAAAAAAAAAAAAAAAAAAAAAAAAAAAAAAAAAAAAAAAAAAAAAAAAAAAAAAAAAAAAAAAAAAAAAAAAAAAAAAAAAAAAAAAAAAAAAAAAAAAAAAAAAAAAAAAAAAAAAAAAAAAAAAAAAAAAAAAAAAAAAAAAAAAAAAAAAAAAAAAAAAAAAAAAAAAAAAAAAAAAAAAAAAAAAAAAAAAAAAAAAAAAAAAAAAAAAAAAAAAAAAAAAAAAAAAAAAAAAAAAAAAAAAAAAAAAAAAAAAAAAAAAAAAAAAAAAAAAAAAAAAAAAAAAAAAAAAAAAAAAAAAAAAAAAAAAAAAAAAAAAAAAAAAAAAAAAAAAAAAAAAAAAAAAAAAAAAAAAAAAAAAAAAAAAAAAAAAAAAAAAAAAAAAAAAAAAAAAAAAAAAAAAAAAAAAAAAAAAAAAAAAAAAAAAAAAAAAAAAAAAAAAAAAAAAAAAAAAAAAAAAAAAAAAAAAAAAAAAAAAAAAAAAAAAAAAAAAAAAAAAAAAAAAAAAAAAAAAAAAAAAAAAAAAAAAAAAAAAAAAAAAAAAAAAAAAAAAAAAAAAAAAAAAAAAAAAAAAAAAAAAAAAAAAAAAAAAAAAAAAAAAAAAAAAAAAAAAAAAAAAAAAAAAAAAAAAAAAAAAAAAAAAAAAAAAAAAAAAAAAAAAAAAAAAAAAAAAAAAAAAAAAAAAAAAAAAAAAAAAAAAAAAAAAAAAAAAAAAAAAAAAAAAAAAAAAAAAAAAAAAAAAAAAAAAAAAAAAAAAAAAAAAAAAAAAAAAAAAAAAAAAAAAAAAAAAAAAAAAAAAAAAAAAAAAAAAAAAAAAAAAAAAAAAAAAAAAAAAAAAAAAAAAAAAAAAAAAAAAAAAAAAAAAAAAAAAAAAAAAAAAAAAAAAAAAAAAAAAAAAAAAAAAAEthdXNoYWwgRGVzYWkAAAWQAwACAAAAFAAAEKaQBAACAAAAFAAAELqSkQACAAAAAzY2AACSkgACAAAAAzY2AADqHAAHAAAIDAAACJoAAAAAHOoAAAAIAAAAAAAAAAAAAAAAAAAAAAAAAAAAAAAAAAAAAAAAAAAAAAAAAAAAAAAAAAAAAAAAAAAAAAAAAAAAAAAAAAAAAAAAAAAAAAAAAAAAAAAAAAAAAAAAAAAAAAAAAAAAAAAAAAAAAAAAAAAAAAAAAAAAAAAAAAAAAAAAAAAAAAAAAAAAAAAAAAAAAAAAAAAAAAAAAAAAAAAAAAAAAAAAAAAAAAAAAAAAAAAAAAAAAAAAAAAAAAAAAAAAAAAAAAAAAAAAAAAAAAAAAAAAAAAAAAAAAAAAAAAAAAAAAAAAAAAAAAAAAAAAAAAAAAAAAAAAAAAAAAAAAAAAAAAAAAAAAAAAAAAAAAAAAAAAAAAAAAAAAAAAAAAAAAAAAAAAAAAAAAAAAAAAAAAAAAAAAAAAAAAAAAAAAAAAAAAAAAAAAAAAAAAAAAAAAAAAAAAAAAAAAAAAAAAAAAAAAAAAAAAAAAAAAAAAAAAAAAAAAAAAAAAAAAAAAAAAAAAAAAAAAAAAAAAAAAAAAAAAAAAAAAAAAAAAAAAAAAAAAAAAAAAAAAAAAAAAAAAAAAAAAAAAAAAAAAAAAAAAAAAAAAAAAAAAAAAAAAAAAAAAAAAAAAAAAAAAAAAAAAAAAAAAAAAAAAAAAAAAAAAAAAAAAAAAAAAAAAAAAAAAAAAAAAAAAAAAAAAAAAAAAAAAAAAAAAAAAAAAAAAAAAAAAAAAAAAAAAAAAAAAAAAAAAAAAAAAAAAAAAAAAAAAAAAAAAAAAAAAAAAAAAAAAAAAAAAAAAAAAAAAAAAAAAAAAAAAAAAAAAAAAAAAAAAAAAAAAAAAAAAAAAAAAAAAAAAAAAAAAAAAAAAAAAAAAAAAAAAAAAAAAAAAAAAAAAAAAAAAAAAAAAAAAAAAAAAAAAAAAAAAAAAAAAAAAAAAAAAAAAAAAAAAAAAAAAAAAAAAAAAAAAAAAAAAAAAAAAAAAAAAAAAAAAAAAAAAAAAAAAAAAAAAAAAAAAAAAAAAAAAAAAAAAAAAAAAAAAAAAAAAAAAAAAAAAAAAAAAAAAAAAAAAAAAAAAAAAAAAAAAAAAAAAAAAAAAAAAAAAAAAAAAAAAAAAAAAAAAAAAAAAAAAAAAAAAAAAAAAAAAAAAAAAAAAAAAAAAAAAAAAAAAAAAAAAAAAAAAAAAAAAAAAAAAAAAAAAAAAAAAAAAAAAAAAAAAAAAAAAAAAAAAAAAAAAAAAAAAAAAAAAAAAAAAAAAAAAAAAAAAAAAAAAAAAAAAAAAAAAAAAAAAAAAAAAAAAAAAAAAAAAAAAAAAAAAAAAAAAAAAAAAAAAAAAAAAAAAAAAAAAAAAAAAAAAAAAAAAAAAAAAAAAAAAAAAAAAAAAAAAAAAAAAAAAAAAAAAAAAAAAAAAAAAAAAAAAAAAAAAAAAAAAAAAAAAAAAAAAAAAAAAAAAAAAAAAAAAAAAAAAAAAAAAAAAAAAAAAAAAAAAAAAAAAAAAAAAAAAAAAAAAAAAAAAAAAAAAAAAAAAAAAAAAAAAAAAAAAAAAAAAAAAAAAAAAAAAAAAAAAAAAAAAAAAAAAAAAAAAAAAAAAAAAAAAAAAAAAAAAAAAAAAAAAAAAAAAAAAAAAAAAAAAAAAAAAAAAAAAAAAAAAAAAAAAAAAAAAAAAAAAAAAAAAAAAAAAAAAAAAAAAAAAAAAAAAAAAAAAAAAAAAAAAAAAAAAAAAAAAAAAAAAAAAAAAAAAAAAAAAAAAAAAAAAAAAAAAAAAAAAAAAAAAAAAAAAAAAAAAAAAAAAAAAAAAAAAAAAAAAAAAAAAAAAAAAAAAAAAAAAAAAAAAAAAAAAAAAAAAAAAAAAAAAAAAAAAAAAAAAAAAAAAAAAAAAAAAAAAAAAAAAAAAAAAAAAAAAAAAAAAAAAAAAAAAAAAAAAAAAAAAAAAAAAAAAAAAAAAAAAAAAAAAAAAAAAAAAAAAAAAAAAAAAAAAAAAAAAAAAAAAAAAAAAAAAAAAAAAAAAAAAAAAAAAAAAAAAAAAAAAAAAAAAAAAAAAAAAAAAAAAAAAAAAAAAAAAAAAAAAAAAAAAAAAAAAAAAAAAAAAAAAAAAAAAAAAAAAAAAAAAAAAAAAAAAAAAAAAAAAAAAAAAAAAAAAAAAAAAAAAAAAAAAAAAAAAAAAAAAAAAAAAAAAAAAAAAAAAAAAAAAAAAAAAAAAAAAAAAAAAAAAAAAAAAAAAAAAAAAAAAAAAAAAAAAAAAAAAAAAAAAAAAAAAAAAAAAAAAAAAAAAAAAAAAAAAAAAAAAAAAAAAAAAAAAAAAAAAAAAAAAAAAAAAAAAAAAAAAAAAAAAAAAAAAAAAAAAAAAAAAAAAAAAAAAAAAAAAAAAAAAAAAAAAAAAAAAAAAAAAAAAAAAAAAAAAAAAAAAAAAAAAAAAAAAAAAAAAAAAAAAAAAAAAAAAAAAAAAAAAAAAAAAAAAAAAAAAAAAAAAAAAAAAAAAAAAAAAAAAAAAAAAAAAAAAAAAAAAAAAAAAAAAAAAAAAAAAAAAAAAAAAAAAAAAAAAAAAAAAAAAAAAAAAAAAAAAAAAAAAAAAAAAAAAAAAAAAAAAAAAAAAAAAAAAAAAAAAAAAAAAAAAAAAAAAAAAAAAAAAAAAAAAAAAAAAAAAAAAAAAAAAAAAAAAAAAAAAAAAAAAAAAAAAAAAAAAAAAAAAAAAAAAAAAAAAAAAAAAAAAAAAAAAAAAAAAAAAAAAAAAAAAAAAAAAAAAAAAAAAAAAAAAAAAAAAAAyMDIxOjEwOjE1IDE0OjM1OjE0ADIwMjE6MTA6MTUgMTQ6MzU6MTQAAABLAGEAdQBzAGgAYQBsACAARABlAHMAYQBpAAAA/+ELIGh0dHA6Ly9ucy5hZG9iZS5jb20veGFwLzEuMC8APD94cGFja2V0IGJlZ2luPSfvu78nIGlkPSdXNU0wTXBDZWhpSHpyZVN6TlRjemtjOWQnPz4NCjx4OnhtcG1ldGEgeG1sbnM6eD0iYWRvYmU6bnM6bWV0YS8iPjxyZGY6UkRGIHhtbG5zOnJkZj0iaHR0cDovL3d3dy53My5vcmcvMTk5OS8wMi8yMi1yZGYtc3ludGF4LW5zIyI+PHJkZjpEZXNjcmlwdGlvbiByZGY6YWJvdXQ9InV1aWQ6ZmFmNWJkZDUtYmEzZC0xMWRhLWFkMzEtZDMzZDc1MTgyZjFiIiB4bWxuczpkYz0iaHR0cDovL3B1cmwub3JnL2RjL2VsZW1lbnRzLzEuMS8iLz48cmRmOkRlc2NyaXB0aW9uIHJkZjphYm91dD0idXVpZDpmYWY1YmRkNS1iYTNkLTExZGEtYWQzMS1kMzNkNzUxODJmMWIiIHhtbG5zOnhtcD0iaHR0cDovL25zLmFkb2JlLmNvbS94YXAvMS4wLyI+PHhtcDpDcmVhdGVEYXRlPjIwMjEtMTAtMTVUMTQ6MzU6MTQuNjYwPC94bXA6Q3JlYXRlRGF0ZT48L3JkZjpEZXNjcmlwdGlvbj48cmRmOkRlc2NyaXB0aW9uIHJkZjphYm91dD0idXVpZDpmYWY1YmRkNS1iYTNkLTExZGEtYWQzMS1kMzNkNzUxODJmMWIiIHhtbG5zOmRjPSJodHRwOi8vcHVybC5vcmcvZGMvZWxlbWVudHMvMS4xLyI+PGRjOmNyZWF0b3I+PHJkZjpTZXEgeG1sbnM6cmRmPSJodHRwOi8vd3d3LnczLm9yZy8xOTk5LzAyLzIyLXJkZi1zeW50YXgtbnMjIj48cmRmOmxpPkthdXNoYWwgRGVzYWk8L3JkZjpsaT48L3JkZjpTZXE+DQoJCQk8L2RjOmNyZWF0b3I+PC9yZGY6RGVzY3JpcHRpb24+PC9yZGY6UkRGPjwveDp4bXBtZXRhPg0KICAgICAgICAgICAgICAgICAgICAgICAgICAgICAgICAgICAgICAgICAgICAgICAgICAgICAgICAgICAgICAgICAgICAgICAgICAgICAgICAgICAgICAgICAgICAgICAgICAgIAogICAgICAgICAgICAgICAgICAgICAgICAgICAgICAgICAgICAgICAgICAgICAgICAgICAgICAgICAgICAgICAgICAgICAgICAgICAgICAgICAgICAgICAgICAgICAgICAgICAgCiAgICAgICAgICAgICAgICAgICAgICAgICAgICAgICAgICAgICAgICAgICAgICAgICAgICAgICAgICAgICAgICAgICAgICAgICAgICAgICAgICAgICAgICAgICAgICAgICAgICAKICAgICAgICAgICAgICAgICAgICAgICAgICAgICAgICAgICAgICAgICAgICAgICAgICAgICAgICAgICAgICAgICAgICAgICAgICAgICAgICAgICAgICAgICAgICAgICAgICAgIAogICAgICAgICAgICAgICAgICAgICAgICAgICAgICAgICAgICAgICAgICAgICAgICAgICAgICAgICAgICAgICAgICAgICAgICAgICAgICAgICAgICAgICAgICAgICAgICAgICAgCiAgICAgICAgICAgICAgICAgICAgICAgICAgICAgICAgICAgICAgICAgICAgICAgICAgICAgICAgICAgICAgICAgICAgICAgICAgICAgICAgICAgICAgICAgICAgICAgICAgICAKICAgICAgICAgICAgICAgICAgICAgICAgICAgICAgICAgICAgICAgICAgICAgICAgICAgICAgICAgICAgICAgICAgICAgICAgICAgICAgICAgICAgICAgICAgICAgICAgICAgIAogICAgICAgICAgICAgICAgICAgICAgICAgICAgICAgICAgICAgICAgICAgICAgICAgICAgICAgICAgICAgICAgICAgICAgICAgICAgICAgICAgICAgICAgICAgICAgICAgICAgCiAgICAgICAgICAgICAgICAgICAgICAgICAgICAgICAgICAgICAgICAgICAgICAgICAgICAgICAgICAgICAgICAgICAgICAgICAgICAgICAgICAgICAgICAgICAgICAgICAgICAKICAgICAgICAgICAgICAgICAgICAgICAgICAgICAgICAgICAgICAgICAgICAgICAgICAgICAgICAgICAgICAgICAgICAgICAgICAgICAgICAgICAgICAgICAgICAgICAgICAgIAogICAgICAgICAgICAgICAgICAgICAgICAgICAgICAgICAgICAgICAgICAgICAgICAgICAgICAgICAgICAgICAgICAgICAgICAgICAgICAgICAgICAgICAgICAgICAgICAgICAgCiAgICAgICAgICAgICAgICAgICAgICAgICAgICAgICAgICAgICAgICAgICAgICAgICAgICAgICAgICAgICAgICAgICAgICAgICAgICAgICAgICAgICAgICAgICAgICAgICAgICAKICAgICAgICAgICAgICAgICAgICAgICAgICAgICAgICAgICAgICAgICAgICAgICAgICAgICAgICAgICAgICAgICAgICAgICAgICAgICAgICAgICAgICAgICAgICAgICAgICAgIAogICAgICAgICAgICAgICAgICAgICAgICAgICAgICAgICAgICAgICAgICAgICAgICAgICAgICAgICAgICAgICAgICAgICAgICAgICAgICAgICAgICAgICAgICAgICAgICAgICAgCiAgICAgICAgICAgICAgICAgICAgICAgICAgICAgICAgICAgICAgICAgICAgICAgICAgICAgICAgICAgICAgICAgICAgICAgICAgICAgICAgICAgICAgICAgICAgICAgICAgICAKICAgICAgICAgICAgICAgICAgICAgICAgICAgICAgICAgICAgICAgICAgICAgICAgICAgICAgICAgICAgICAgICAgICAgICAgICAgICAgICAgICAgICAgICAgICAgICAgICAgIAogICAgICAgICAgICAgICAgICAgICAgICAgICAgICAgICAgICAgICAgICAgICAgICAgICAgICAgICAgICAgICAgICAgICAgICAgICAgICAgICAgICAgICAgICAgICAgICAgICAgCiAgICAgICAgICAgICAgICAgICAgICAgICAgICAgICAgICAgICAgICAgICAgICAgICAgICAgICAgICAgICAgICAgICAgICAgICAgICAgICAgICAgICAgICAgICAgICAgICAgICAKICAgICAgICAgICAgICAgICAgICAgICAgICAgICAgICAgICAgICAgICAgICAgICAgICAgICAgICAgICAgICAgICAgICAgICAgICAgICAgICAgICAgICAgICAgICAgICAgICAgIAogICAgICAgICAgICAgICAgICAgICAgICAgICAgICAgICAgICAgICAgICAgICAgICAgICAgICAgICAgICAgICAgICAgICAgICAgICAgICAgICAgICAgICAgICAgICAgICAgICAgCiAgICAgICAgICAgICAgICAgICAgICAgICAgICA8P3hwYWNrZXQgZW5kPSd3Jz8+/9sAQwAHBQUGBQQHBgUGCAcHCAoRCwoJCQoVDxAMERgVGhkYFRgXGx4nIRsdJR0XGCIuIiUoKSssKxogLzMvKjInKisq/9sAQwEHCAgKCQoUCwsUKhwYHCoqKioqKioqKioqKioqKioqKioqKioqKioqKioqKioqKioqKioqKioqKioqKioqKioq/8AAEQgAsgHPAwEiAAIRAQMRAf/EAB8AAAEFAQEBAQEBAAAAAAAAAAABAgMEBQYHCAkKC//EALUQAAIBAwMCBAMFBQQEAAABfQECAwAEEQUSITFBBhNRYQcicRQygZGhCCNCscEVUtHwJDNicoIJChYXGBkaJSYnKCkqNDU2Nzg5OkNERUZHSElKU1RVVldYWVpjZGVmZ2hpanN0dXZ3eHl6g4SFhoeIiYqSk5SVlpeYmZqio6Slpqeoqaqys7S1tre4ubrCw8TFxsfIycrS09TV1tfY2drh4uPk5ebn6Onq8fLz9PX29/j5+v/EAB8BAAMBAQEBAQEBAQEAAAAAAAABAgMEBQYHCAkKC//EALURAAIBAgQEAwQHBQQEAAECdwABAgMRBAUhMQYSQVEHYXETIjKBCBRCkaGxwQkjM1LwFWJy0QoWJDThJfEXGBkaJicoKSo1Njc4OTpDREVGR0hJSlNUVVZXWFlaY2RlZmdoaWpzdHV2d3h5eoKDhIWGh4iJipKTlJWWl5iZmqKjpKWmp6ipqrKztLW2t7i5usLDxMXGx8jJytLT1NXW19jZ2uLj5OXm5+jp6vLz9PX29/j5+v/aAAwDAQACEQMRAD8A+kaKKKACiimPIF60APoqo16ink0z+0Y/7w/OgC9RVH+0Y/7w/Oj+0Y/7w/OgC9RVH+0Y/wC8Pzo/tGP+8PzoAvUVR/tGP+8Pzo/tGP8AvD86AL1FUf7Rj/vD86et8jHgigC3RUaShuhqSgAooooAKKKKACiiigAooooAKKKKACiiigAooooAKKKKACiiigAooooAKKKKACiiigAooooAKKKKACiiigAooooAKKKKACiiigAooooAKKKKACiiigAooooARjgVzviXVjpek3d0o3GCF5ApOM4BOP0roX+7XB+P3I8Oaj/17Sf+gmgDwWb9pTVZTkaFbr/28t/8TUP/AA0Zq3/QGg/8CG/wrxqigD2X/hozVv8AoDQf+BDf4Uf8NGat/wBAaD/wIb/CvGqKAPZf+GjNW/6A0H/gQ3+FH/DRmrf9AaD/AMCG/wAK8cSMucAgfU1as9Mlvb2G2heMPM4Rdx4yaAPWf+GjNW/6A0H/AIEN/hR/w0Zq3/QGg/8AAhv8K5W1+EXiC8bbFPY5xnmVv/iareFvhhrfi68lttLms1eKXym86QgZ/AGgDs/+GjNW/wCgNB/4EN/hUsX7SeqxNn+w4G/7eW/+JrI179nzxb4esRdX1xprRl9mI5mJz/3zXl88TQXEkL43RsVOPUHFAH3j4I8RP4h8MabqksYhe8to5mjDZCFlBxn8a65Tla8u+Ebk+ANCHpYw/wDoAr0+P7goAfRRRQAUUUUAFFFFABRRUF7eQ6fYzXd04SGFC7sewFG4bEepapZaRZtdalcJbwr1ZzjPsPU1xNz8UhM5Gh6NcXcYPEsv7tW+neuXuLq48W6kdW1bd9nDH7HaN91F/vEdyaugYGBwK9COHhBe9qzglXnJ+7ojXj+JuoRNnUPDsgj7mCUOR+FdZoHivSvEcZOnXAMqj54XG11/CvPaoXlg/npfabIbXUITujmTjJ9D6iqlRpy2VhRrVI76ntVFYHg7xIPEuhLcSKI7uFjFcxA/dcf0P+elb9efKLjJxZ3RkpK6CiiipKCiiigAooooAKKKKACiiigAooooAKKKKACiiigAooooAKKKKACiiigAooooAKKKKACiiigAooooAa/3TXA/ED/kXNR/69pP/QTXfP8AdNcD8QP+Rc1H/r2k/wDQTQB8OUUUUAei/CjwHp3jbXms76/mtsWzS5iCk5DAY5B9a9+0f9nvRNMYOupXM/zBsSRp/hXzF4H8XXHhHWmvbeZoi0Jjyq54JB/pXtmnfH03euaZbLeXPlyOqyqYetAHs2k/D/RtLmMht4p/lxtkhUj+VX1svDa3ColnYLLuwoEK5z+VZ/iTxjbaX4Yh1ZTKsUz7VwmT+VfJ198YfFcfiKWWHVGEMdy5QeWMhdxx+lAH1D8SfEVl4K8OxX6W1oN84i/eLgcgnt9K8f0z43W2hxztZWOls8jbujDn8K4Xxz8VJfGfga10y+upZ7yOcSyFo8A4yOv415lQB6946+NN94lsfI+zW0Y80P8Aunf0x3NeRyuZZXkbqzEmm0UAfYfwn1fToPAuiJPf28bLZRAq8oBB2ivTI/EOj7B/xNbP/v8Ar/jXl3wiutMl8HaNbzJEs4s4htlQAt8o5GetetRWFnsH+iwf9+xV2it0yLyexD/wkGj/APQVs/8Av+v+NH/CQaP/ANBWz/7/AK/41Z/s+z/59IP+/YpP7Osv+fSD/v2KPc8w98g/t/R/+grZf+BC/wCNH9v6P/0FbL/wIX/Gp/7Osv8An0g/79ij+zbL/n0g/wC/Yo9zzD3yH+3tI/6Cll/4EL/jR/bmk/8AQUs//AhP8al/s2x/584P+/Yo/syx/wCfOD/v2KPc8w98p33iTTbSxmuIr21naNd3lrcIC2PTnrXDeNPGmmeIfCEdto9zmS7nSOSNvldBnJBHpXd6no1hPpk8Riitw6ENKsYyo7mvNvFmk+GNK8KxP4elt2uLW4R2IcM7jODmurDqm5LR3uc2IdRRe1rAiLHGqIMKoAA9BTqajrJGrocqwBB9RTq6TmCiiigC54Bn+yfEDULRXCxXlks5U93Vtox+BNen14/4e8Px+KPFmpGRnjjs7RY1mjbBSUtuUj14B4rsNPfWNPuvsD3o+0qPkiu8tHOvqj9R9D0rnxEFKV09bI6KE3GNmtLnYUVjL4g+ysE1mzlsj08zG+M/8CFasFzDdRiS3lSVD0ZGzXG4tbnWpJ7ElFFFSUFFFFABRRVLVNYsNFtTcancx28fbceT9B3ppNuyE2krsu0Vwc/xUsi5GnaVe3idnC7Afzp9t8U9NMgXU7C8sAf43Xco/EVt9Xq22MfrFLudzRVexv7XUrVbmwnjnhYcOjZFWKxaa0Zve+wUUUUgCiiigAooooAKKKKACio/tEP/AD1T/voUfaIf+eqf99CldASUUUUwCiiigAooooAKKKKAGv8AdNcD8QP+Rc1H/r2k/wDQTXfP901wPxA/5FzUf+vaT/0E0AfDlFFFABVrTr17DUre7UBmhcOATwcVVooA+w/hz4o07x34RstLvJbX7SkLStArB2XBPY188+NPhzruna3cywaTevFLPK4bySAF3nBHtis3wJ43vvBurm7tLl4cxmPKRq5wT/tV9UeFvFfhf4h2KJLaXUsqKkUjSjZlmHONreooA+Mbm2ms52guY2ilX7yMMEVFX0l8V/gon2qbU9FtrWGOWVQu+4fONvoc+lfOt5aSWc7RyYyGI4PpQBXooooA+uPhVLbXXg3RNP1m2QF7KIwM33ZBtHQ9m9q9Oj0zUdOQNpF350Q/5dbs5H/AX6j8c1wHwvsoNQ+HGi290m9GsYSOcFTsGCD2I9a72zv7jR5UstZfzIHO23viMA+iv6N79DWsW2tPuMmrPX7yeHxDCsy2+qwyadcMcAT/AHHP+y/Q1sAgjIOR6imTQRXMLRXEaSxsMMjqGB/A1kHQZrE79AvWtB/z7TAywH2AJyv4HHtU+6/Ir3l5m1RWKuvvZER6/ZvYnp9oQ+ZA3/AgMr/wICpbjxHp0LCO3lN9OwysNoPMY/XHAHuSBRyS7Bzx7mrVK/1ex0wD7XOqu3CRr8zufQKOTVHydb1T/j4lXSbY/wDLOEiSdh7sflX8AfrV2w0ax01i9rAPOb788hLyP9WPJotFbsLyexSM+s6qCLaBdNt2/wCWlwN0jD2Tt+P5VyMXgrQdD1bUdR8SXUIinykCzsoyCOWx6+gr0eSRIYmkldURRlmY4AFctqWnjxvC0ckKx6WoOyR0HmXDdiuRlV9+pralUav0XUyqQT82eZWOoQafM9p55m08Sslpe7SEcDB25PcZFbgIIyORXeaT4S0+18H22h39tHcxKn70MM5c8kg/j161z9z8LEicnQ9burFO0UqCZV9hnGBXT7enJu+hzewqRStqYlULu+czpYabGbm/mO2OJOce59BXTRfDC+lbGo+Jpnj7rBbrGT/wLNdXoPhXSfDcRGm22JW+/PId0j/U/wCFKVanHZ3HGjUlvoReD/Di+GtCW2dhJdTMZbmX+85/oK1NQ0631O28m6UnByjqcMh9Qexq1RXA5ycuZ7ncopR5VsYdvfzabOun64Q6SHbBdkfLL/st6N/Opp/Dtk8nnWZksZuvmWzbc/Veh/KtG5toby3eC6jWWJxhlYZBrFWe48NuI71nuNKJwlyeXt/Z/Vf9rt39atNv4dyGkvi2Jd+u6d/rI4tUhH8UZEcoH0PB/Op7TxBYXU3kPI1tc/8APC4Uxv8AgD1/CtJWV0DIQysMgg5BFQ3dla38PlXtvHPH/dkUMP1qeZPdFWa2ZODnpRWKdCuLL5tE1KW3HaC4zNF+p3D8G/Cs7XfFGo+H9FubjU9OVJI0PlTwyCSF27Ag4Zcn2P1pqnzO0WJz5VeSNnxBrdv4e0O41G75WJflQdXY9FH1NeT+Xda3enVdfbzZ35jhP3IR2AFXfFHiq08YSeH4rFz5O57i5gPVHUAKD+Z+oNOrvpU3Sjruziq1FUlpshAABgDA9BSMqupV1DKeoIzTqKszKNrdXXhG+/tPSNxtc5urPPysvdgOxFew6ffQanp8F7aPvhnQOh9jXlbKGUqwyCMEHvXQfCy6K6Rf6a75Wyu2SMHsp5/mTWOIipQ5+qNqEuWfL0Z3lFJuX1H50bl9R+deed4tFJuX1H50bl9R+dAC0Um5fUfnWS/ijSoNbbSby4Frd4DIJvlWUHurdPbHWmot7CcktzXqlrE/2bRruXONsTc/hV2sDxrP5HhS75xvAQfiayqS5YN+QpO0WzhvD3hm71+1e4W9eIK2OSTmtgfDu8DA/wBpt19/8ay/D1/4ij08QaJar5QOTIy5yfxrUtvG2raVfLb+I7QBGP31XBA9fQ15lNYdQi5xfrrY5IqnZcyO8t4zFbpGzbiqgE+tSVHBPHcwJNCwZHGVI7ipK9c7QooooAKKKKACiiigBr/dNcD8QP8AkXNR/wCvaT/0E13z/dNcD8QP+Rc1H/r2k/8AQTQB8OUUUUAFFFXLDS7rUZ1it4ySzBQccZoAp10nhyPxJFcJLo8F1JtdWKxuQCe3evT/AAL8CL7UFiudVtbeWCSMkAyYOc17zoPwz8N6Hbr5dgkT4UsfMPUCgBfhh9sv/hrpja/alLoh/Mjm+Yr87Y6+1eFftE6DpOn39g9pKkbmJ22IoG47vYV7/rfjHQ/B1iFuWYRq2wCP5sE818nfF/xxp/jTVLOTTGlK26ureYm3qaAPOaKKKAPs/wCEX/IhaH/14w/+gCvTXt4rq0aC4jWSJxhlYZBFeX/CiaK3+HuiSTyLGgsYcsxwPuCu6TXZbxdmh2jXPbz5PkiH49/wqoxb1RLkloxizT+GmEd2zz6UThJzy1t7N6r79qsTeIoHkMOlQyajN/0x/wBWv1c8flmmf2BJf/Nr1012D/y7p8sQ/Dv+NQ/ZpfC7M9jEZdJZi0kCDLW5PVl9V9R2rX3Zeb/Ay95ehK2lajqin+2bzyoG62loSoI9GfqfwwKRfCtrZN5mhSNpkuOfJ5R/95Dwfr1rZt7iK6t0mt5FkjcZVlOQakqOeS0L5IvUxP7Wv9N+XWrIvGP+Xq0BZfqydR+Gavf2xp509r1buJrdB8zhs49sdc+3WnajqNvplqZrpup2qijLOewA7mufTwr/AGrdHU9RBsbgkNBDbnHlY6FuzNVJRkry0E3JO0dS7Ha3HiGVbjUkaHT1O6G0bgy+jSf0Wt0AKoCjAHQCsX7XrGl8XtuNQtx/y2txiQD3Tv8AhVLSPHWm6lq1/YtKsT22XUtxvTHPXuPShwlJXWyEpRi7PdnSyzRwRNLPIscajLO5wAPrXJX3xN8P2szRWzXF+6nB+zRFgD9a43WdZuvGt87u7w6NE5EMKnHn4/ib2p8NvFbxhII1jUdAoxXTHDxivf3OeWIk37mx1EPxU0VnAu7W+tVP8ckPyj6mus07VbHV7UXGm3UdxEe6HOPqO1eXMoYYYAj0IqgsN1ot4NS8PuYJ05eEfclHcEU5YeEvh0Yo15x+LVHtdFZXhvXrfxJokOoW3ylvlkjPWNx1U1q1wSi4uzO5NSV0FIyq6lXAZSMEEdaWikMwGgufDjmSxRrjSycyWy8tb+rR+q+q/l6HatrqG8tkuLWRZYnGVZTwaJrmC3XdcTRxj1dgK5SfUoLHUDceGfMvDI3+kWcEZKN6sD0U/wA62SdT1Mm1D0OwrL1620eWzE+vwQy28JzmZN6r74/rVGy1rVNahMmm2kFsgJVjcyZZT6FR0P1p91oV7fWkqajqc0wdCPJhAjQ8dD6iko8svedgcuaOiucD4uXRYPE2iXehNaC3mjkhcW20AHgrkDuc/pTquTfD3Q9F8Hz293fwRao2JFupHA2OOQAOw7VgaTqy3sQinIS5UfMp43D+8PUGvSjaUfdd7HnyvGXvaXNOiiikAVofDrQdP1e31TUdQsoblZbthC0sYb5R6Z965+d7jVLxdH0YebeT/K7DkQr3YmvW9C0iDQtFttOtvuQpgn+8e5/E1lWnyQt1ZrRhzzv0RX/4RLw//wBAez/78rR/wiXh/wD6A9n/AN+VrYorh9pPudvJHsY//CJeH/8AoD2f/flaP+ES8P8A/QHs/wDvytbFFHtJ9w5I9jH/AOES8P8A/QHs/wDvytYs3wz0W814391AghQBYrWFdiDHdsdTmuyoqlVqR2YnSg90MhijghSKFFSNFCqqjAUDoKp6tqWnafAv9qyrHHIcDcpIJq/WR4l0Ndd0prfO2RTujb0Nc9Ry5W47lSul7poWZtntUeyC+UwypUcGuV+JMcJ0GGRwPNEwCHv0OaybG+8T+G4zZmx+0xL93gkD8RUcuna/4u1CJtRiMEEZ4XGAB3riq1XVpuCi7vyMZTc48qWp1XghpG8L2/m54GFz6V0NQWNpHY2cdvEMLGuBU9d0I8sUuxvFWVgoooqhhRRRQAUUUUANf7prgfiB/wAi5qP/AF7Sf+gmu+f7tcJ4/Qnw5qP/AF7Sf+gmgD4ZrY0vwnrusN/xLdKurkZAJiiLYz0rIUgMCemea99+HnxR+HvhixkXUINQ88mNgY48jKjn+L1oAi8G/s+Sanpdvdawb+xnkQl4nt/undjHPtXt3g74WaV4RgcRyC7LsHzNCuVwMVyE/wC0t4IS2CWX9pIwPe2HT/vquL1L9o6Z7W4Gn31wspU+UWtUwD2oA938Q+M9B8MW58+/sbZ1bYUkkCYrwHxz+0DeXay2ljbWrxuskfmQzngZwDxXkviTx3rviqRzrF2s4dw5xEq8/gK5wnNAGlqmu32q3kk89xMN5B2eaxA4xWaTmiigAooooA+vvhLpFpN4M0Se9LXLfY4iqStlU+UcBen517BCUWIBSoAHAHavHfhLo+j6h4I0hiizSizi8wLM2VbaM5APFemx+FNG2D/RD/3+f/4qtHZ7t/18zNXWyRs71/vD86Ny/wB4fnWR/wAIpo3/AD6t/wB/5P8A4qj/AIRXR/8An1f/AL/yf/FUrQ7/AIf8Ed59v6+4huLObR7h73Rl8yBzunsgevqyeh9u9TS+JbEWMU1oxuZZzthgT77N3BHbHfPSszU9M0i2mWysLF7nUJBlIhcyAIP7zndwP1PaqZ+H0Fki3tpm4vwS06PK6pOD1UEHK+x5981slBpObMW5ptRR0GnaY5uf7R1aRJr0j5FBykA9F9/U1rbh6j865zTdJ0HU4GaK2mjljO2aF7iQPE3oRu/XvV3/AIRbSf8AnhL/AOBMv/xVZy5b6t/d/wAE0jzW0X4/8Au6jcw22nTzXDOIkQlzHywHcjFeW+MdJ8Lx+GVv/D+2a6vJ1jWdJixOT82efSu81DwlYTadPFZxtHM6FVeS4lKrnjJG7muA8T+ALHwl4Zt7+0kluJ4blGmkdsAgnHCjgfqa6cM4KStJ3uc+IU3F3irWCCFLe3SGMYRFCipKQEEAg5B6GlroOcKKKKAL3w9uv7P8YarpxZVt7i2W8GTgKwbafzyT+FdvL4n0tJDFDObuUdY7VDKw/Bc4rzXw9oNp4l8c3cd7G729rZLllONsm8Eex4ycHIr0OLStX0yMR6ZqUM0K/dhu7YDj0DR7cf8AfJrnrqHPdvXQ6KDnyWWxJ/aWsXX/AB46R5CnpJeShP8Ax1cn8wKP7L1W6/4/9XaNT1js4wn/AI8c/wAhR/bGpWv/ACEtFmwOsllIJl/I7W/IGprfxHpVxIIxeJFKekVwDE//AHy2DXP7y2X6nR7r3f6CQ+G9LibfJb/aZOu+4YyH9eK0kRY1CxqqqOgUYApwORkciisnJvc0UUtjJ1DSZPtJ1DSXWC9A+ZT9yceje/vS23iC0ezmkvG+xy2w/wBIhlODH/iD2I61a1HUrfTLfzbljljtjjQZaRvRR3NYU3hy41yZdU1JxaXseDZxooYQYORv/vkkDI6DtzzWsbSXv7Gcrp+4Y3iXwjJ43iN8bYWZDItuGXEjqWAZ39Btzhev8q3tX8DaNq9jBBJCYJLeMJDPCdroAMAZ7ilm8WQ6XauNfjFpdwsgdQfkkVnC+Yh7qM5I6j8id6WeGCAzTypHEoyXdgAB9TVyqVUktktiIwpu73b3POJvh34htm26frNtPGOn2qMhv0p0Hw31q6YDVtbiii/iW0jOT7ZPSt+7+JXhe0lMf9oee46iCJnH54xUlh8RPDGoTCKPU1hkPRZ1Mf6kY/WtfaYi1+X8DLkw97X/ABNHQfDWmeHLUw6ZBtLf6yVjl5D6k1q0isrqGQhlYZBByCKWuKUnJ3Z2RSirIKKKKQwooooAKKKKACiiigAIB6jNAGOlFFABRRRQAUUUUAFFFFABRRRQAjDIrA8Q6T/ammXNqTt8+Jo92OmQRn9a6CmugYc0AfLc37NIjOF1qU/9shUB/Zwb/oLyf9+hX1I1ojdRTfsMf92gD5c/4Zwb/oLyf9+hR/wzg3/QXk/79CvqP7DH/do+wx/3aAPlz/hnBv8AoLyf9+hR/wAM4N/0F5P+/Qr6j+wx/wB2j7DH/doA+XP+GcG/6C8n/foUf8M4N/0F5P8Av0K+o/sMf92j7DH/AHaAPl3/AIZwb/oLyf8AfoVNF+zV5jYbWpR/2yFfTn2GP+7TltEX+EUAcd4b8CWemeH9OsGL+fZW6QLdxHZIdqgZyPp0reU61pS/OF1W3HcYSYD+TfpWysYXpT+lWpPZ6kuK3RQsdastQby4pdk4+9BKNjj8D/Sq1/qs0102m6KFkux/rZmGUtx6n1b0X86oapHH4muDZWMS7I2xNf45j/2UPdv5VNbaTqHh+MppDpeW24sYJziTJ6kP3P1rTlitevYz5pPTp3NTTNLh0yFghaSaQ7pZ5Dl5G9Sau1l2mv2k832e4D2dz3huBtJ+h6GrV7qVnp8XmXk6RjsCeT9BWbUm9dzROKWhV1PSWmnW+02QW2oRjCvj5ZB/ccdx/LtSWev28kUi6iVsbmD/AF0MrAY9wf4gexqH+0NU1PjTLT7JCf8Al4uhgn6J1/OoLnwfb3eLi5upZ9RQho7qTnYR2C9NvtVpK1pszd73giabVptUjeDSLA3ETgq09yCkWPp1b9K4rTPhi91rGpHVpn+xDKQxoSqsxHUDPQdq7vTNVdp/7P1KNbe9QcAfclH95P8ADtWtVKrKldR0uS6calnLU8UtxcaPfPomr/JcwcROeBMnYitCvRdf8M6b4ktBDqMOWXmOVOHQ+oNcRcfD/wAQ2LEaXqUF5CPurcLhx+NdUa0J7uzOaVGcNldFGqeoagllEAAZJ5DtihXlnbsMVqxeCfFty22aeys07svzmup8OeA9P0Kf7ZO7X1//AM95udv+6O1OVWnDVu/oKNOpLS1hfAfhyXQdFeW/H/Ewvn864P8Ad/ur+AP611FFFedOTnJyZ6EIqEVFBUNxZ213GUuoI5UPUOoNTUVOxRjHwzaRHOmzXGnn0tpSq/8AfH3f0qjfX2s6NNFBFcwarNMcRwPHslI/vErwAPXFaWo6tItx/Z+lILi/YZOfuQr/AHnP9OpqXTNJTT980sjXF5LzLcP1b2HoPatlJpXnqY8qbtHQwrG4ns7xr7xJp9y12chZY18yKFfRQOR9cZNbkWvabcRM1vdRuyqT5ZO1j+Bwa0aytc0OLVtPlhjSGKaQYExjyV9x70uaMn72g+WUVpqcp4r0vQfF3h1tel1i5Szhj3gRyZVT6bT0btXHRtqXiKztjrlzI1pBGqw2+cbgBjc3qTU3iLwlB4ZvNM0a0v7ieK9dprlHOFITG35R6kmr4GBgdK9KFowXK7rp5HnyvKT5lZ9fMjhtoYECQxIijsq4ptxZW11GUuIUkX3Wp6KV3uFkRaNrl74KukIkkudEdsSwudzQZ/iX29q9cgnjubeOeBw8cihlYdCDXkssaTRPHINyOCCD3FdR8Lr6SXw9cafM25tOuGhUnqV6j+eKwxEFKPP1N8PNxlydDtqKKK4DuCiiigAooqrHqdnJfSWS3CfaYsboicNg9DinZsV0i1WHfeKbSx1yLS2Vnlkxll6LmqHihvEpvgui8WxQZIxnd3rhbWG7g8XQJqO43HmgvuOTXDWxEoyUYp77mM6jTSSPZQcjNYuveKLHQQq3BaSdhlYk649T6Vsr9wfSvPRoN7qfjqW41K3b7N5hKk9CBwK2rSmklDd/gXNyVlEtr8SUBBl0uZI/727P9K6nSdas9atfOsnyP4lPVaLvT9P/ALPkS4hiWEIc5AGBXB/D5nXX7lIc+SQfp14rLmqU6sYSd0yLyjNJu9z0uiiiuw3CiiigAooooAKKKKACiiigAqOe4htYjLcypFGOrO2APxqSuD+M2gal4m+Gd9pmi2/2i7kZCse4LnB55NAHWf2/pH/QTtP+/wAv+NH9v6R/0E7T/v8AL/jXxSfgp49H/MDb/v8AJ/jSf8KV8e/9AJv+/wAn+NAH2v8A2/pH/QTtP+/y/wCNA1/SD01O0/7/AC/418SyfBrx1FG0kmiMiKCWZp4wAPU/NXL6RpN7qXiC306xhM9y0wUKhz0PJz6e9AH6IqyuoZCCCMgjvS1meHIZbfw9ZQ3H+sjhVW+oGKv3FxDaW7z3MixRRjc7scACgB7MqIWchVUZJJ4ArBae48SOY7Nng0sHD3A4a49k9F/2vyoWG48SuJLtHt9JBylu3D3Pu/ov+z37+lWZ9esrZ/stij3twnyiC0UNt9ifur+JrVRa23/Iybvvt+ZpW9tDaW6QW0axxIMKqjgVUv8AW7HTnWKeXfO/3LeIF5H+ijmqf2PWNU5v7oadbn/lhZnMhH+1IRx/wED61oWGlWWmIy2NukRbl36u59WY8sfqaVord3Ku3srGRd2mpeIofKubaLT7Q/8APZRJMfcDop98k+1RQ+FJdJuBdaRcfaJQACmoHzM/7r9V/I109FP2kkrLYXs4t3e5jxeIYoZFh1iB9NmY4Bm/1bn/AGXHH4dfatcEMAVOQehFJLFHNG0cyLIjDDKwyCPpWOfD7WTb9Au3se/2Zh5kDf8AAD93/gJFT7r8h+8vMv6lpsGp24jnyrqd0cqHDRt6g1nW+rzabL9i13CyAEw3IGEnAHT2b2/KnDXZrE7NesmtR/z8w5khP1OMr+Ix71j6sNP8dx3mkwaxLbfZSC6wlGWReofpkj6EVpGL2lt3M5SW8dzqdPvodT06C9tW3QzoHU/Ws7UvF+gaRIY7/VLeOResYfcw+oHNeUWl5qv9nyeHNN1V/wCyLWZlN5Eux5gf4F5OBnPPfNWbXSLCzUCG1jz3ZhuY/ia6PqsU/eZh9Zk1oj0W1+IHhe8lEcWrwKx4HmZTP54roY5EljDxOrowyGU5Brx6awtLhSs1tE490FR6fe6l4Pn+06NI89gDmewkYkY7lPQ0pYaLXuPXzHHESXxrTyPZ6Kp6RqtrrelQahYPvhmXI9Qe4PuKtswRSzkKqjJJOABXE007M7E01dC1iXWpXGpXL6fobAFDtuLwjKQ+w/vN7du9Rvc3HiNzDp7vb6YDiS6Xh5/9mP0H+1+XrWtGlnpNiqJ5VrbRDjJCqv4mrty77kX5tthunabb6ZbeVbKcsd0kjnLSN6se5q3WM3iJbk7NGs59Rb/noo8uIf8AA26j/dBpP7O1fUOdS1EWkR/5YWAwfoZG5P4BaHF3vJgpLaJdv9XsNNA+2XKRs33Uzlm+ijk1yvi241fVNDmuNGtbuxa3UyRzyP5bSf7Ij5Jz7gV1Vho+n6aS1nbIkjfelPzSN9WOSfxNXacZxg7pXFKMpqzdjxXVNM1nTNY0K48SXrXV1dwyrhsfucYO3I6nmr9dr478PSeIPD2LLAv7NxcWx9WHVfxH64rz7Tr9L6AnBjmjO2WJuGRu4IrvhP2kObscM4eznbuXKKKKokKu/DzR11M6xdtc3MKG8KL5Em0Ngdaw9Ru5FMdlYIZtQujsgiXrk/xH0Ar1LwroSeHfDttp6nc6Lulf+855J/Os60uSn5s0ox56nkhP+Eai/wCgjqP/AIEf/Wo/4RqL/oI6j/4Ef/WrZorg9pLud3JHsY3/AAjUX/QR1H/wI/8ArUf8I1F/0EdR/wDAj/61bNFHtJdw5I9jG/4RqL/oI6j/AOBH/wBauYvfhvLqfisahNqVxBbQKqxlZMzPjk/N/COa9Aoqo1px2ZMqMJboZDGIYUjDMwRQu5jkn615lrX/ACUof9dU/lXqFeX61/yUof8AXVP5V52L2j/iRNbZep6ev3B9KWmgZiwODivOdE1i60nxlcWmr3kxiZmUedIWA54PPTitqlVU5RT6mkpqLV+pPrXhXxFctMy3zTxMxIi3kcemKZ4C1GK0vpNMuLcRzkn5+5I7Gu8nv7S3tzPPcRpEBncWGK820POrePZby1UiHzWfOO1ck4RpVouG7/IxlFQmnHqeo0UUV6J0hRRRQAUUUUAFFFFABRRRQAUEZ60UUAN8tP7o/Kjy0/uj8qdXN+P/ABhbeBvBV/rl1tLQptgjJ/1sp4Vfz6+wNAHj/wC0d8TRp1t/wh2hyAXM6hr6RDyiHpH9T1PtirXwA+GC6Rpi69q0P+m3SgqGH+rTsPrXknwu8OXnxL+Jkmp6wWuI0l+03TtzvcnIH+fSvs6ztY7O1SGJQqqMYFAGZ4h8U6V4WtUk1OUrv4jjQZZvoK5nTfEieMLr7RbW8l6IHzDZZ2xxHJw8p7njIGOPrWX8WvCeqapeW+p6bFJdRpH5bxIMlOeuKZ8MvBOq2aXV7qMt1pomUIkcbbWbBzkj0r0I06UaPPfU4JVKsq3JbQ7z+xrzUedbvSYz/wAuttlI/oT1b8eK1bW0t7KERWkKQxr0VFwKzf7Ak/6DGo/9/h/hR/YMv/QZ1H/v6P8ACuRtPqdSTXQ2KKx/7Bl/6DOo/wDf0f4Uf2DL/wBBnUf+/o/wqeWPcq8uxsUVj/2FN/0GdQ/7+D/Cj+wZ/wDoM6h/38H+FHLHuHNLsbFFY/8AYU//AEGdQ/7+D/Cj+wp/+g1qH/fY/wAKOWPcOaXY0b6SOKyleaYQIF5kIB2+/NeVeLPCdn4c0uXWtM1a7kvbuQRK4dcOHOG6D0rudV8P3kuk3McGpXtxI8ZVYnkADE8c8dK851zwZf8AhbwzZ3N9qUlykd2hkgBzHHnjjNdmGsnpL5dzkxF2tY/PsT2dqllZxW8Qwsa4+p7mp6KK33MNgpOvWlooAvfD7U49G1jWNLupRFZ+UL6MsfljGQrfmSPyrbudah1ufbcGT7CDlLKBd0tx7vj7q/7JP1rkvDui2ev/ABClhv0MsEFgHZAxALeYMA/nnFesWtlbWUey0gjhX/YXGa567hGd+p0UFKULdDLRtavECW0MOlW4GAXG+THsOg/WpYfDlmJVmvmkv515Ely27B9h0H4VrUVyc76aHVyLrqIqhRhQAPQClooqCwooooAK5LxL4CtdZuTf6fMdP1HvLGPlk/3h3rraKuE5Qd4kThGatI8mm8NeMLJthsra9XtJFJtJ+op0HhTxfqDBXhtdOjPWRm3sPwr1eiuj61LsjD6tHuzm/DHgqw8OFrjc13fyDEl1Ly30HoK6SiiuaUpTd5HRGKirRCiiipKCiiigAooooAK5678I2t3rw1RpXEgYNt7cV0NFTKMZfEhNJ7gBgAVh674VsddIkmBjnAwJE61uUUSjGatJXQNJqzOFX4bR7v3l/KyeldRo+h2eiweXaJgnqx6mtKiohRp03eKJjCMdkFFFFalhRRRQAUUUUAFFFFABRRRQAUUUUAFfKH7TvjRtV8W2/hi0lza6WoknAPDTMOM/RSP++jX1FrWpw6Nod5qVy22K1haV29ABmvhjw5bz+P8A4sWxvfnbUb83E4IyNuS7D6YGKAPp/wCA3g0eGvAltNPFtu7sefLkcgt0H4DA/CvVarafbLaWMUKDAVQKs0AFFFFABRRRQAUUUUAFFFFABRRRQAVmeItHj17QLrTpePOT5Gx91ux/OtOimm4u6E0mrM8U02eVGk07UFMV/Zny5Y26nHRh6g1oV2/inwVZeJNlwsjWeoxDEV3EOR7MP4hXEXHh7xfpjFJNOh1NB0ltpQhI9we/0r041IVNU7PsedKnOGlroKr3t5FY2rTzthVHA7k+gqSLTfFd22y38PmAn/lpcTrtH4Dmuk8P/DryryPUfE1wt/dRnMcCjEMR+nc/WnKUIayYoxnPSKLHw40Kew0y41XUU2XmpsJCh6xxj7o+vOfyrs6KK82pNzk5M9CEFCKigoooqCwooooAKKKKACiiigAooooAKKKKACiiigAooooAKKKKACiiigAooooAKKKKACiiigAooooAKKKKACiiigAooooAKKKKAPMf2gtUl0/4R6hDbBzNesluAgJJUn5v0zXin7Nnh+W58e3N/cQuq2lvtXepHzMev5Kfzr6zurO3vYfKuoklT0dc1BZ6PY6e5azto4i3UooGaALoGBRRRQAUUUUAFFFFABRRRQAUUUUAFFFFABRRRQAUUUUAFFFFABRRRQAUUUUAFFFFABRRRQAUUUUAFFFFABRRRQAUUUUAFFFFABRRRQAUUUUAFFFFABRRRQAUUUUAFFFFABRRRQAUUUUAFFFFABRRRQAUUUUAFFFFABRRRQAUUUUAFFFFABRRRQAUUUUAFFFFABRRRQAUUUUAFFFFABRRRQAUUUUAFFFFABRRRQAUUUUAFFFFABRRRQAUUUUAFFFFABRRRQAUUUUAFFFFABRRRQAUUUUAf//Z)\n"
      ]
    },
    {
      "cell_type": "markdown",
      "metadata": {
        "id": "4H7StXVbNpcK"
      },
      "source": [
        "## Lets start with DataSet and Data Loader creation.."
      ]
    },
    {
      "cell_type": "code",
      "metadata": {
        "id": "azUC4K-pNms1"
      },
      "source": [
        "import torch\n",
        "from torchvision import datasets\n",
        "import torchvision.transforms as transforms"
      ],
      "execution_count": null,
      "outputs": []
    },
    {
      "cell_type": "code",
      "metadata": {
        "id": "ngVmOihHnidg"
      },
      "source": [
        "from torch.utils.data import Dataset\n",
        "from torchvision.datasets import MNIST\n",
        "import torch.nn as nn\n",
        "from PIL import Image\n",
        "import random as r\n",
        "from typing import Any, Callable, Dict, List, Optional, Tuple\n",
        "from torch.autograd import Variable"
      ],
      "execution_count": 19,
      "outputs": []
    },
    {
      "cell_type": "code",
      "metadata": {
        "id": "iyjF1Ky_RdlJ",
        "outputId": "70c101c1-4959-4aa1-8d9f-3618692601f3",
        "colab": {
          "base_uri": "https://localhost:8080/"
        }
      },
      "source": [
        "device = torch.device(\"cuda:0\" if torch.cuda.is_available() else \"cpu\")\n",
        "print(device)"
      ],
      "execution_count": 4,
      "outputs": [
        {
          "output_type": "stream",
          "name": "stdout",
          "text": [
            "cuda:0\n"
          ]
        }
      ]
    },
    {
      "cell_type": "code",
      "metadata": {
        "id": "3E19TBz_oqoO"
      },
      "source": [
        "class MyDataset(MNIST):\n",
        "  def __init__(\n",
        "      self,\n",
        "            root: str,\n",
        "            train: bool = True,\n",
        "            transform: Optional[Callable] = None,\n",
        "            target_transform: Optional[Callable] = None,\n",
        "            download: bool = False,\n",
        "    )-> None :\n",
        "    super(MyDataset, self).__init__(root, transform=transform, \n",
        "                                    target_transform = target_transform,\n",
        "                                    download = download,\n",
        "                                    train = train)\n",
        "   \n",
        "  def __getitem__(self, index):\n",
        "    \n",
        "    img, target = self.data[index], int(self.targets[index])\n",
        "\n",
        "    # doing this so that it is consistent with all other datasets\n",
        "    # to return a PIL Image\n",
        "    img = Image.fromarray(img.numpy(), mode='L')\n",
        "\n",
        "    rand_input = r.randrange(0,9)\n",
        "\n",
        "    rand_sum = rand_input + int(target)\n",
        "\n",
        "\n",
        "    if self.transform is not None:\n",
        "        img = self.transform(img)\n",
        "\n",
        "    if self.target_transform is not None:\n",
        "        target = self.target_transform(target)\n",
        "\n",
        "    return img, target, rand_input, rand_sum\n",
        "\n",
        "  def __len__(self):\n",
        "    return len(self.data)"
      ],
      "execution_count": 3,
      "outputs": []
    },
    {
      "cell_type": "code",
      "metadata": {
        "id": "CKEbqRupvSyf",
        "outputId": "80c30436-7ba8-419c-d579-f895424bd5f5",
        "colab": {
          "base_uri": "https://localhost:8080/",
          "height": 471,
          "referenced_widgets": [
            "63c2ca9bac684e58bda292026bb1d93a",
            "a01d363af4f54e3a8c49b5078980edb4",
            "1e201684230342d1a774933d14a55c40",
            "97bd316c64a249b8a44f2ad1d82ffc7f",
            "441000a913bf4fbfb5bf165d04d5158d",
            "ed1db90e153041fdbcc70701c179d637",
            "261790f9c4764d98857818345464bb66",
            "ebcf791981cd4c25a3a27f886d98e278",
            "1869eeb89b7140f28194c0abecd5bf0f",
            "4c2ab0d5b49846bebe8bcedb808bf234",
            "6ee056ae44c94825aaeb6296856cc3d5",
            "d2e1e5fcb17f4f6987ec6dec41c199a5",
            "d6206a16085f4ca582cb18e218a6f667",
            "10039bd7019c4ca59f549568217b8e4d",
            "784a1a5ac5f74ff58543f6e12d90fbcb",
            "9693c55c86d747eab0700c51b0f10423",
            "de17569a60bf440e8d059e8d15cbe4b1",
            "de7cc2c67b694e90ace772c7c02eb57a",
            "88a9f80cb385400b82ae0f933e247399",
            "c2cf1cd7df2c4797b2d2d8645552fd98",
            "029f962ccc52471aab01c81cbdace29b",
            "92e444182f0b40678bd8203441003a84",
            "2a29c2e73f1f4af78e1a6e43109717ca",
            "d760016c70a84db2b4d76f0ece8d0122",
            "fdb4bea1963f4d5f92f8cde7760f8d66",
            "97bcdad9fe8e479b9662a45479c44ca7",
            "e026807ee16c49f6a22e500ad9ba8467",
            "7d3d87aae45b496090be6128dc729267",
            "598d007e995f451d8887e70cfbbf1bb9",
            "bed5aeee530248388172bd6a04dde02c",
            "5cad303569b24ce59a2e2a417ddfb838",
            "ce14048b65bb4cadacb9c218207389fb",
            "e2b39178bde140cfbca09679d38cc915",
            "20c9581460654dfa82a0410acb9ed601",
            "cbbe8d307e8a4e8f84a4cfdf3336d055",
            "f1af69f0f58244a3a8b60be1f33d839a",
            "4a73a1c8613d409184e3cb24f0294139",
            "86dd41e68354481da180b9d6b07e1944",
            "c99e4978a6af46388e7120bffbb0f28d",
            "7ccd28008d244cbfa11445a84d492c6e",
            "550f7d17765242c5ab6d4da753684fd9",
            "ea483a9c6e754ae297ed35020be63064",
            "b14ec52f369c4c90b072a4f19009cfc4",
            "db7617868bba4569b6da49bf6959c4e5"
          ]
        }
      },
      "source": [
        "train_data = MyDataset(root = './data', \n",
        "               download=True, \n",
        "               transform = transforms.Compose([transforms.ToTensor()]),\n",
        "               train = True)"
      ],
      "execution_count": 5,
      "outputs": [
        {
          "output_type": "stream",
          "name": "stdout",
          "text": [
            "Downloading http://yann.lecun.com/exdb/mnist/train-images-idx3-ubyte.gz\n",
            "Downloading http://yann.lecun.com/exdb/mnist/train-images-idx3-ubyte.gz to ./data/MyDataset/raw/train-images-idx3-ubyte.gz\n"
          ]
        },
        {
          "output_type": "display_data",
          "data": {
            "application/vnd.jupyter.widget-view+json": {
              "model_id": "63c2ca9bac684e58bda292026bb1d93a",
              "version_minor": 0,
              "version_major": 2
            },
            "text/plain": [
              "  0%|          | 0/9912422 [00:00<?, ?it/s]"
            ]
          },
          "metadata": {}
        },
        {
          "output_type": "stream",
          "name": "stdout",
          "text": [
            "Extracting ./data/MyDataset/raw/train-images-idx3-ubyte.gz to ./data/MyDataset/raw\n",
            "\n",
            "Downloading http://yann.lecun.com/exdb/mnist/train-labels-idx1-ubyte.gz\n",
            "Downloading http://yann.lecun.com/exdb/mnist/train-labels-idx1-ubyte.gz to ./data/MyDataset/raw/train-labels-idx1-ubyte.gz\n"
          ]
        },
        {
          "output_type": "display_data",
          "data": {
            "application/vnd.jupyter.widget-view+json": {
              "model_id": "d2e1e5fcb17f4f6987ec6dec41c199a5",
              "version_minor": 0,
              "version_major": 2
            },
            "text/plain": [
              "  0%|          | 0/28881 [00:00<?, ?it/s]"
            ]
          },
          "metadata": {}
        },
        {
          "output_type": "stream",
          "name": "stdout",
          "text": [
            "Extracting ./data/MyDataset/raw/train-labels-idx1-ubyte.gz to ./data/MyDataset/raw\n",
            "\n",
            "Downloading http://yann.lecun.com/exdb/mnist/t10k-images-idx3-ubyte.gz\n",
            "Downloading http://yann.lecun.com/exdb/mnist/t10k-images-idx3-ubyte.gz to ./data/MyDataset/raw/t10k-images-idx3-ubyte.gz\n"
          ]
        },
        {
          "output_type": "display_data",
          "data": {
            "application/vnd.jupyter.widget-view+json": {
              "model_id": "2a29c2e73f1f4af78e1a6e43109717ca",
              "version_minor": 0,
              "version_major": 2
            },
            "text/plain": [
              "  0%|          | 0/1648877 [00:00<?, ?it/s]"
            ]
          },
          "metadata": {}
        },
        {
          "output_type": "stream",
          "name": "stdout",
          "text": [
            "Extracting ./data/MyDataset/raw/t10k-images-idx3-ubyte.gz to ./data/MyDataset/raw\n",
            "\n",
            "Downloading http://yann.lecun.com/exdb/mnist/t10k-labels-idx1-ubyte.gz\n",
            "Downloading http://yann.lecun.com/exdb/mnist/t10k-labels-idx1-ubyte.gz to ./data/MyDataset/raw/t10k-labels-idx1-ubyte.gz\n"
          ]
        },
        {
          "output_type": "display_data",
          "data": {
            "application/vnd.jupyter.widget-view+json": {
              "model_id": "20c9581460654dfa82a0410acb9ed601",
              "version_minor": 0,
              "version_major": 2
            },
            "text/plain": [
              "  0%|          | 0/4542 [00:00<?, ?it/s]"
            ]
          },
          "metadata": {}
        },
        {
          "output_type": "stream",
          "name": "stdout",
          "text": [
            "Extracting ./data/MyDataset/raw/t10k-labels-idx1-ubyte.gz to ./data/MyDataset/raw\n",
            "\n"
          ]
        },
        {
          "output_type": "stream",
          "name": "stderr",
          "text": [
            "/usr/local/lib/python3.7/dist-packages/torchvision/datasets/mnist.py:498: UserWarning: The given NumPy array is not writeable, and PyTorch does not support non-writeable tensors. This means you can write to the underlying (supposedly non-writeable) NumPy array using the tensor. You may want to copy the array to protect its data or make it writeable before converting it to a tensor. This type of warning will be suppressed for the rest of this program. (Triggered internally at  /pytorch/torch/csrc/utils/tensor_numpy.cpp:180.)\n",
            "  return torch.from_numpy(parsed.astype(m[2], copy=False)).view(*s)\n"
          ]
        }
      ]
    },
    {
      "cell_type": "code",
      "metadata": {
        "colab": {
          "base_uri": "https://localhost:8080/",
          "height": 450
        },
        "id": "P-8noCXvSlaM",
        "outputId": "05385564-31be-46b8-bd56-4c36420b857a"
      },
      "source": [
        "# Data visualization\n",
        "\n",
        "import matplotlib.pyplot as plt\n",
        "\n",
        "figure = plt.figure(figsize=(10, 8))\n",
        "cols, rows = 5, 3\n",
        "for i in range(1, cols * rows + 1):\n",
        "    sample_idx = torch.randint(len(train_data), size=(1,)).item()\n",
        "    img, label, ran_input, ran_sum = train_data[sample_idx]\n",
        "    figure.add_subplot(rows, cols, i)\n",
        "    plt.title(str(label) +':' + str(ran_input) + ':' + str(ran_sum))\n",
        "    plt.axis(\"off\")\n",
        "    plt.imshow(img.squeeze(), cmap=\"gray\")\n",
        "plt.show()"
      ],
      "execution_count": 6,
      "outputs": [
        {
          "output_type": "display_data",
          "data": {
            "image/png": "[encoded data removed]",
            "text/plain": [
              "<Figure size 720x576 with 15 Axes>"
            ]
          },
          "metadata": {
            "needs_background": "light"
          }
        }
      ]
    },
    {
      "cell_type": "code",
      "metadata": {
        "id": "H1RhmT6BYe6U"
      },
      "source": [
        "## This to create an input layer for converting the random inputs to one-hot encoded vectors, used\n",
        "## as one of the processing layers, see the use of Variable\n",
        "## courtsey : https://lirnli.wordpress.com/2017/09/03/one-hot-encoding-in-pytorch/\n",
        "\n",
        "class One_Hot(nn.Module):\n",
        "    def __init__(self, depth):\n",
        "        super(One_Hot,self).__init__()\n",
        "        self.depth = depth\n",
        "        self.ones = torch.sparse.torch.eye(depth)\n",
        "        self.ones = self.ones.to(device)\n",
        "    def forward(self, X_in):\n",
        "        X_in = X_in.to(device)\n",
        "        X_in = X_in.long()\n",
        "        return Variable(self.ones.index_select(0,X_in.data))\n",
        "    def __repr__(self):\n",
        "        return self.__class__.__name__ + \"({})\".format(self.depth)"
      ],
      "execution_count": 35,
      "outputs": []
    },
    {
      "cell_type": "markdown",
      "metadata": {
        "id": "ptdGxNN9XXYi"
      },
      "source": [
        "## Lets Define the model \n",
        "\n",
        "We are looking something following logically\n",
        "\n",
        "![image.png](data:image/png;base64,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)"
      ]
    },
    {
      "cell_type": "code",
      "metadata": {
        "id": "B6xwhrOzTAMF"
      },
      "source": [
        "class CustomCNN(nn.Module):\n",
        "  def __init__(self):\n",
        "    super().__init__()\n",
        "    self.conv1 = nn.Conv2d(in_channels=1, out_channels=6, kernel_size=5) \n",
        "    self.conv2 = nn.Conv2d(in_channels=6, out_channels=12, kernel_size=5)\n",
        "    self.fc1 = nn.Linear(in_features=212, out_features=212)\n",
        "    self.fc2 = nn.Linear(in_features=212, out_features=100)\n",
        "    self.out = nn.Linear(in_features=100, out_features=29)\n",
        "    self.preprocess_rand1 = nn.Linear(in_features = 10, out_features=20)\n",
        "    self.one_hot_input = One_Hot(10)\n",
        "  \n",
        "  def forward(self, t):\n",
        "    # input layer, t will have [image, img_label, ran_input, rand_sum]\n",
        "    x = t[0]\n",
        "    rand_input = t[2] \n",
        "\n",
        "    # print(x.shape, rand_input.shape, t[1].shape, t[3].shape)\n",
        "    # conv1 layer\n",
        "    x = self.conv1(x)\n",
        "    x = F.relu(x)\n",
        "    x = F.max_pool2d(x, kernel_size=2, stride=2) # 28 | 24 | 12\n",
        "\n",
        "    # conv2 layer\n",
        "    x = self.conv2(x)\n",
        "    x = F.relu(x)\n",
        "    x = F.max_pool2d(x, kernel_size=2, stride=2) # 12 | 8 | 4 >> 12x4x4\n",
        "\n",
        "    # reshape\n",
        "    x = x.reshape(-1, 12 * 4 * 4)\n",
        "\n",
        "    # preprocess the random input\n",
        "    r_one_hot = self.one_hot_input(rand_input)\n",
        "    y = self.preprocess_rand1(r_one_hot)    \n",
        "    y = F.relu(y)\n",
        "\n",
        "    # print(x.shape, y.shape)\n",
        "\n",
        "    # Concate two inputs from Fc1 and rand_input\n",
        "    x1 = torch.cat((x, y), dim=1)\n",
        "\n",
        "    # print(x1.shape)\n",
        "     # fc1 layer\n",
        "    x1 = self.fc1(x1)\n",
        "    x1 = F.relu(x1)\n",
        "\n",
        "    # print('post fc1 ', x1.shape)\n",
        "    # fc2 layer\n",
        "    x1 = self.fc2(x1)\n",
        "    x1 = F.relu(x1)\n",
        "    # print('post fc2 ', x1.shape)\n",
        "    # fc3 layer\n",
        "    x1 = self.out(x1)\n",
        "    # print('post out ', x1.shape)\n",
        "    x1 = F.softmax(x1, dim=1)\n",
        "    return x1"
      ],
      "execution_count": 36,
      "outputs": []
    },
    {
      "cell_type": "code",
      "metadata": {
        "colab": {
          "base_uri": "https://localhost:8080/"
        },
        "id": "JPWvrCGQatEY",
        "outputId": "d272c43b-eae8-4b03-a67d-2746c771915d"
      },
      "source": [
        "cnn = CustomCNN()\n",
        "loss = nn.CrossEntropyLoss()\n",
        "\n",
        "print(cnn)\n",
        "print(loss)\n",
        "\n",
        "cnn.to(device)\n",
        "\n"
      ],
      "execution_count": 37,
      "outputs": [
        {
          "output_type": "stream",
          "name": "stdout",
          "text": [
            "CustomCNN(\n",
            "  (conv1): Conv2d(1, 6, kernel_size=(5, 5), stride=(1, 1))\n",
            "  (conv2): Conv2d(6, 12, kernel_size=(5, 5), stride=(1, 1))\n",
            "  (fc1): Linear(in_features=212, out_features=212, bias=True)\n",
            "  (fc2): Linear(in_features=212, out_features=100, bias=True)\n",
            "  (out): Linear(in_features=100, out_features=29, bias=True)\n",
            "  (preprocess_rand1): Linear(in_features=10, out_features=20, bias=True)\n",
            "  (one_hot_input): One_Hot(10)\n",
            ")\n",
            "CrossEntropyLoss()\n"
          ]
        },
        {
          "output_type": "execute_result",
          "data": {
            "text/plain": [
              "CustomCNN(\n",
              "  (conv1): Conv2d(1, 6, kernel_size=(5, 5), stride=(1, 1))\n",
              "  (conv2): Conv2d(6, 12, kernel_size=(5, 5), stride=(1, 1))\n",
              "  (fc1): Linear(in_features=212, out_features=212, bias=True)\n",
              "  (fc2): Linear(in_features=212, out_features=100, bias=True)\n",
              "  (out): Linear(in_features=100, out_features=29, bias=True)\n",
              "  (preprocess_rand1): Linear(in_features=10, out_features=20, bias=True)\n",
              "  (one_hot_input): One_Hot(10)\n",
              ")"
            ]
          },
          "metadata": {},
          "execution_count": 37
        }
      ]
    },
    {
      "cell_type": "code",
      "metadata": {
        "id": "W1QhQf2gazGV"
      },
      "source": [
        "from torch import optim\n",
        "import torch.nn.functional as F\n",
        "\n",
        "optimizer = optim.Adam(cnn.parameters(), lr = 0.1)\n"
      ],
      "execution_count": 47,
      "outputs": []
    },
    {
      "cell_type": "code",
      "metadata": {
        "id": "QZsypgDNfGHm"
      },
      "source": [
        "def get_num_correct(preds, labels):\n",
        "  return preds.argmax(dim=1).eq(labels).sum().item()"
      ],
      "execution_count": 15,
      "outputs": []
    },
    {
      "cell_type": "code",
      "metadata": {
        "id": "b4pF-WrUPrxe"
      },
      "source": [
        "def get_num_correct_sum(preds, labels):\n",
        "  "
      ],
      "execution_count": null,
      "outputs": []
    },
    {
      "cell_type": "code",
      "metadata": {
        "id": "OT-2ANQmhWb-"
      },
      "source": [
        "train_loader = torch.utils.data.DataLoader(train_data\n",
        "    ,batch_size=64\n",
        "    ,shuffle=True\n",
        ")"
      ],
      "execution_count": 48,
      "outputs": []
    },
    {
      "cell_type": "code",
      "metadata": {
        "colab": {
          "base_uri": "https://localhost:8080/"
        },
        "id": "s89eaHbhdXuZ",
        "outputId": "7f10c747-d39e-4159-f8d9-2a23ea7e8d3d"
      },
      "source": [
        "# train_loader = torch.utils.data.DataLoader(train_set, batch_size=32)\n",
        "\n",
        "for epoch in range(10):\n",
        "\n",
        "    total_loss = 0\n",
        "    total_correct_digits = 0\n",
        "    total_correct_sum = 0\n",
        "\n",
        "    for batch in train_loader: # Get Batch\n",
        "        images, labels, rand_inputs, rand_sums = batch \n",
        "        # print(images.shape, labels.shape)\n",
        "        images, labels, rand_inputs, rand_sums = images.to(device), labels.to(device), rand_inputs.to(device), rand_sums.to(device)\n",
        "        preds = cnn((images, labels, rand_inputs, rand_sums)) # Pass Batch\n",
        "        \n",
        "        \n",
        "        # First 10 digits represents the predictions\n",
        "\n",
        "        loss_mnist = F.cross_entropy(preds[:,:10], labels)\n",
        "        # last 19 digits represents the output\n",
        "        loss_sum = F.cross_entropy(preds[: , 10:], rand_sums) \n",
        "\n",
        "        loss = loss_mnist + loss_sum\n",
        "        \n",
        "        optimizer.zero_grad()\n",
        "        loss.backward() # Calculate Gradients\n",
        "        optimizer.step() # Update Weights\n",
        "\n",
        "        total_loss += loss.item()\n",
        "        total_correct_digits += get_num_correct(preds[:,:10], labels)\n",
        "        total_correct_sum += get_num_correct(preds[:,10:], rand_sums)\n",
        "\n",
        "    print(\n",
        "        \"epoch\", epoch, \n",
        "        \"total_correct_digits:\", total_correct_digits, \n",
        "        \"total_correct_sum:\", total_correct_sum, \n",
        "        \"loss:\", total_loss\n",
        "    )"
      ],
      "execution_count": 49,
      "outputs": [
        {
          "output_type": "stream",
          "name": "stdout",
          "text": [
            "epoch 0 total_correct_digits: 5928 total_correct_sum: 6160 loss: 4906.605236053467\n",
            "epoch 1 total_correct_digits: 5929 total_correct_sum: 6088 loss: 4907.698986053467\n",
            "epoch 2 total_correct_digits: 5927 total_correct_sum: 6006 loss: 4909.011486053467\n",
            "epoch 3 total_correct_digits: 5927 total_correct_sum: 6026 loss: 4908.683361053467\n",
            "epoch 4 total_correct_digits: 5929 total_correct_sum: 5956 loss: 4909.761486053467\n",
            "epoch 5 total_correct_digits: 5928 total_correct_sum: 5988 loss: 4909.308361053467\n",
            "epoch 6 total_correct_digits: 5929 total_correct_sum: 5963 loss: 4909.683361053467\n",
            "epoch 7 total_correct_digits: 5928 total_correct_sum: 6023 loss: 4908.761486053467\n",
            "epoch 8 total_correct_digits: 5928 total_correct_sum: 5928 loss: 4910.292736053467\n",
            "epoch 9 total_correct_digits: 5929 total_correct_sum: 6025 loss: 4908.714611053467\n"
          ]
        }
      ]
    },
    {
      "cell_type": "code",
      "metadata": {
        "id": "k7amxtuednzC",
        "outputId": "f7e617a3-5f3f-436f-f079-3809bb0836ec",
        "colab": {
          "base_uri": "https://localhost:8080/"
        }
      },
      "source": [
        "torch.cuda.is_available()"
      ],
      "execution_count": 41,
      "outputs": [
        {
          "output_type": "execute_result",
          "data": {
            "text/plain": [
              "True"
            ]
          },
          "metadata": {},
          "execution_count": 41
        }
      ]
    },
    {
      "cell_type": "code",
      "metadata": {
        "id": "KBIxIBV-Fpei"
      },
      "source": [
        ""
      ],
      "execution_count": 37,
      "outputs": []
    },
    {
      "cell_type": "code",
      "metadata": {
        "id": "KCIUY0cdFsIL",
        "outputId": "29e3daf9-6d83-4409-91a7-99150d0c74cc",
        "colab": {
          "base_uri": "https://localhost:8080/"
        }
      },
      "source": [
        "torch.sparse.torch.eye(10)"
      ],
      "execution_count": 43,
      "outputs": [
        {
          "output_type": "execute_result",
          "data": {
            "text/plain": [
              "tensor([[1., 0., 0., 0., 0., 0., 0., 0., 0., 0.],\n",
              "        [0., 1., 0., 0., 0., 0., 0., 0., 0., 0.],\n",
              "        [0., 0., 1., 0., 0., 0., 0., 0., 0., 0.],\n",
              "        [0., 0., 0., 1., 0., 0., 0., 0., 0., 0.],\n",
              "        [0., 0., 0., 0., 1., 0., 0., 0., 0., 0.],\n",
              "        [0., 0., 0., 0., 0., 1., 0., 0., 0., 0.],\n",
              "        [0., 0., 0., 0., 0., 0., 1., 0., 0., 0.],\n",
              "        [0., 0., 0., 0., 0., 0., 0., 1., 0., 0.],\n",
              "        [0., 0., 0., 0., 0., 0., 0., 0., 1., 0.],\n",
              "        [0., 0., 0., 0., 0., 0., 0., 0., 0., 1.]])"
            ]
          },
          "metadata": {},
          "execution_count": 43
        }
      ]
    },
    {
      "cell_type": "code",
      "metadata": {
        "id": "T0dNhNaxGC-G"
      },
      "source": [
        ""
      ],
      "execution_count": null,
      "outputs": []
    }
  ]
}