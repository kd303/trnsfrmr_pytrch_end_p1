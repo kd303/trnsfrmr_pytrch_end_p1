{
  "nbformat": 4,
  "nbformat_minor": 0,
  "metadata": {
    "colab": {
      "name": "END2.0 Session 1.ipynb",
      "provenance": [],
      "collapsed_sections": [],
      "include_colab_link": true
    },
    "kernelspec": {
      "name": "python3",
      "display_name": "Python 3"
    },
    "language_info": {
      "name": "python"
    }
  },
  "cells": [
    {
      "cell_type": "markdown",
      "metadata": {
        "id": "view-in-github",
        "colab_type": "text"
      },
      "source": [
        "<a href=\"https://colab.research.google.com/github/kd303/trnsfrmr_pytrch_end_p1/blob/main/assignment_01/END2_0_Session_1.ipynb\" target=\"_parent\"><img src=\"https://colab.research.google.com/assets/colab-badge.svg\" alt=\"Open In Colab\"/></a>"
      ]
    },
    {
      "cell_type": "code",
      "metadata": {
        "colab": {
          "base_uri": "https://localhost:8080/"
        },
        "id": "GC_6PeobwwkH",
        "outputId": "4a4070a7-a65d-438d-9b05-f36ff6a29942"
      },
      "source": [
        "import torch\n",
        "from torch.autograd import Variable\n",
        "import torch.nn as nn\n",
        "import torch.nn.functional as F\n",
        "import torch.optim as optim\n",
        "import numpy as np\n",
        "import matplotlib.pyplot as plt\n",
        "%matplotlib inline\n",
        "torch.manual_seed(2)"
      ],
      "execution_count": 3,
      "outputs": [
        {
          "output_type": "execute_result",
          "data": {
            "text/plain": [
              "<torch._C.Generator at 0x7fee27ea4d90>"
            ]
          },
          "metadata": {},
          "execution_count": 3
        }
      ]
    },
    {
      "cell_type": "code",
      "metadata": {
        "colab": {
          "base_uri": "https://localhost:8080/"
        },
        "id": "mTcNgdyeo5ng",
        "outputId": "fe4bd535-9a03-4ff5-989b-300f35a93f14"
      },
      "source": [
        "X = torch.Tensor([[0,0], [0,1], [1,0], [1,1]])\n",
        "print(X.shape)\n",
        "Y = torch.Tensor([0, 1, 1, 0]).view(-1,1)\n",
        "print(Y.shape)"
      ],
      "execution_count": 4,
      "outputs": [
        {
          "output_type": "stream",
          "name": "stdout",
          "text": [
            "torch.Size([4, 2])\n",
            "torch.Size([4, 1])\n"
          ]
        }
      ]
    },
    {
      "cell_type": "code",
      "metadata": {
        "id": "aC82kEAIw3Wf"
      },
      "source": [
        "# removed the usage of torch.nn.functional due to deprication\n",
        "class XOR(nn.Module):\n",
        "    def __init__(self, input_dim = 2, output_dim=1, num_hddn_layer = 6 ):\n",
        "        super(XOR, self).__init__()\n",
        "        self.lin1 = nn.Linear(input_dim, 2)\n",
        "        # self.lin2 = nn.Linear(2, output_dim), to ensure number 44, removed the bias\n",
        "        self.lin2 = nn.Linear(2, output_dim, bias=False)\n",
        "        self.num_hddn_layer = num_hddn_layer\n",
        "    \n",
        "    def forward(self, x):\n",
        "      # input layer, can be combined with below loop - total param (6) = input_dim * 2 (= num of nueron) + 2 bias (= num of nueron)\n",
        "      x = self.lin1(x)\n",
        "      x = torch.tanh(x)\n",
        "      # adding hidden layer\n",
        "      for _ in range(self.num_hddn_layer):\n",
        "        x = self.lin1(x)\n",
        "        x = torch.tanh(x)\n",
        "      x = self.lin2(x)\n",
        "      return x"
      ],
      "execution_count": 43,
      "outputs": []
    },
    {
      "cell_type": "code",
      "metadata": {
        "colab": {
          "base_uri": "https://localhost:8080/"
        },
        "id": "8gQIQExYw65K",
        "outputId": "dc9b2c16-6478-42a3-e856-e9bf57bd1713"
      },
      "source": [
        "model = XOR()\n",
        "print(model)\n",
        "from torchsummary import summary\n",
        "summary(model, (2,2))"
      ],
      "execution_count": 44,
      "outputs": [
        {
          "output_type": "stream",
          "name": "stdout",
          "text": [
            "XOR(\n",
            "  (lin1): Linear(in_features=2, out_features=2, bias=True)\n",
            "  (lin2): Linear(in_features=2, out_features=1, bias=False)\n",
            ")\n",
            "----------------------------------------------------------------\n",
            "        Layer (type)               Output Shape         Param #\n",
            "================================================================\n",
            "            Linear-1                 [-1, 2, 2]               6\n",
            "            Linear-2                 [-1, 2, 2]               6\n",
            "            Linear-3                 [-1, 2, 2]               6\n",
            "            Linear-4                 [-1, 2, 2]               6\n",
            "            Linear-5                 [-1, 2, 2]               6\n",
            "            Linear-6                 [-1, 2, 2]               6\n",
            "            Linear-7                 [-1, 2, 2]               6\n",
            "            Linear-8                 [-1, 2, 1]               2\n",
            "================================================================\n",
            "Total params: 44\n",
            "Trainable params: 44\n",
            "Non-trainable params: 0\n",
            "----------------------------------------------------------------\n",
            "Input size (MB): 0.00\n",
            "Forward/backward pass size (MB): 0.00\n",
            "Params size (MB): 0.00\n",
            "Estimated Total Size (MB): 0.00\n",
            "----------------------------------------------------------------\n"
          ]
        }
      ]
    },
    {
      "cell_type": "code",
      "metadata": {
        "id": "yeotEq19x6XF"
      },
      "source": [
        "def weights_init(model):\n",
        "    for m in model.modules():\n",
        "        if isinstance(m, nn.Linear):\n",
        "            # initialize the weight tensor, here we use a normal distribution\n",
        "            m.weight.data.normal_(0, 1)\n",
        "\n",
        "weights_init(model)"
      ],
      "execution_count": 46,
      "outputs": []
    },
    {
      "cell_type": "code",
      "metadata": {
        "id": "WrD_sNzLx78e"
      },
      "source": [
        "loss_func = nn.L1Loss()"
      ],
      "execution_count": 47,
      "outputs": []
    },
    {
      "cell_type": "code",
      "metadata": {
        "id": "-zvbrMd2x_lA"
      },
      "source": [
        "# best loss at epoch 2001 for learning rate 0.01 instead of 0.02 or original value\n",
        "# Epoch: 2001, Loss: 0.004144206643104553,\n",
        "optimizer = optim.SGD(model.parameters(), lr=0.01, momentum=0.9)"
      ],
      "execution_count": 48,
      "outputs": []
    },
    {
      "cell_type": "code",
      "metadata": {
        "colab": {
          "base_uri": "https://localhost:8080/"
        },
        "id": "q7tWa3D7yA5X",
        "outputId": "2c806612-cfa9-4980-adbc-9270149fd190"
      },
      "source": [
        "# since need to run for 2001 epoch\n",
        "epochs = 2002\n",
        "steps = X.size(0)\n",
        "for i in range(epochs):\n",
        "    for j in range(steps):\n",
        "        data_point = np.random.randint(X.size(0))\n",
        "        x_var = Variable(X[data_point], requires_grad=False)\n",
        "        y_var = Variable(Y[data_point], requires_grad=False)\n",
        "        \n",
        "        optimizer.zero_grad()\n",
        "        y_hat = model(x_var)\n",
        "        loss = loss_func.forward(y_hat, y_var)\n",
        "        loss.backward()\n",
        "        optimizer.step()\n",
        "        \n",
        "    if (i%50 == 0) or (i%3 == 0 and i > 2000):\n",
        "        print( \"Epoch: {0}, Loss: {1}, \".format(i, loss.data.numpy()))"
      ],
      "execution_count": 49,
      "outputs": [
        {
          "output_type": "stream",
          "name": "stdout",
          "text": [
            "Epoch: 0, Loss: 0.5194016098976135, \n",
            "Epoch: 50, Loss: 0.6642938256263733, \n",
            "Epoch: 100, Loss: 1.2391655445098877, \n",
            "Epoch: 150, Loss: 0.0514373779296875, \n",
            "Epoch: 200, Loss: 0.06350192427635193, \n",
            "Epoch: 250, Loss: 0.19660460948944092, \n",
            "Epoch: 300, Loss: 0.20716214179992676, \n",
            "Epoch: 350, Loss: 0.4995642304420471, \n",
            "Epoch: 400, Loss: 0.0037343502044677734, \n",
            "Epoch: 450, Loss: 0.27745282649993896, \n",
            "Epoch: 500, Loss: 0.016884803771972656, \n",
            "Epoch: 550, Loss: 0.7849690318107605, \n",
            "Epoch: 600, Loss: 0.028978198766708374, \n",
            "Epoch: 650, Loss: 0.9821717739105225, \n",
            "Epoch: 700, Loss: 0.649364173412323, \n",
            "Epoch: 750, Loss: 0.0129319429397583, \n",
            "Epoch: 800, Loss: 0.6039001941680908, \n",
            "Epoch: 850, Loss: 0.027707695960998535, \n",
            "Epoch: 900, Loss: 0.8490724563598633, \n",
            "Epoch: 950, Loss: 0.7234007120132446, \n",
            "Epoch: 1000, Loss: 1.2115460634231567, \n",
            "Epoch: 1050, Loss: 0.7659206390380859, \n",
            "Epoch: 1100, Loss: 0.39863187074661255, \n",
            "Epoch: 1150, Loss: 0.08634406328201294, \n",
            "Epoch: 1200, Loss: 0.7851572036743164, \n",
            "Epoch: 1250, Loss: 0.7676992416381836, \n",
            "Epoch: 1300, Loss: 0.7089195251464844, \n",
            "Epoch: 1350, Loss: 0.3091350793838501, \n",
            "Epoch: 1400, Loss: 0.16418051719665527, \n",
            "Epoch: 1450, Loss: 0.30256205797195435, \n",
            "Epoch: 1500, Loss: 0.03737008571624756, \n",
            "Epoch: 1550, Loss: 1.02419114112854, \n",
            "Epoch: 1600, Loss: 0.05746319890022278, \n",
            "Epoch: 1650, Loss: 0.26539260149002075, \n",
            "Epoch: 1700, Loss: 0.7791866064071655, \n",
            "Epoch: 1750, Loss: 0.4181213974952698, \n",
            "Epoch: 1800, Loss: 0.9492610096931458, \n",
            "Epoch: 1850, Loss: 0.05992770195007324, \n",
            "Epoch: 1900, Loss: 0.5986906290054321, \n",
            "Epoch: 1950, Loss: 0.017568916082382202, \n",
            "Epoch: 2000, Loss: 0.29518285393714905, \n",
            "Epoch: 2001, Loss: 0.7532895803451538, \n"
          ]
        }
      ]
    },
    {
      "cell_type": "code",
      "metadata": {
        "id": "QV0dIdveyCRi"
      },
      "source": [
        ""
      ],
      "execution_count": null,
      "outputs": []
    }
  ]
}