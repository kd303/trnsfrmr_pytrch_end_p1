{
  "nbformat": 4,
  "nbformat_minor": 0,
  "metadata": {
    "colab": {
      "name": "session_7_evaluation_score_assignment.ipynb",
      "provenance": [],
      "authorship_tag": "ABX9TyOlgqKg0SoKKQxJrT9HCJaM",
      "include_colab_link": true
    },
    "kernelspec": {
      "name": "python3",
      "display_name": "Python 3"
    },
    "language_info": {
      "name": "python"
    },
    "accelerator": "GPU",
    "widgets": {
      "application/vnd.jupyter.widget-state+json": {
        "bf95f4f698054623847a3cf286c857cf": {
          "model_module": "@jupyter-widgets/controls",
          "model_name": "HBoxModel",
          "model_module_version": "1.5.0",
          "state": {
            "_view_name": "HBoxView",
            "_dom_classes": [],
            "_model_name": "HBoxModel",
            "_view_module": "@jupyter-widgets/controls",
            "_model_module_version": "1.5.0",
            "_view_count": null,
            "_view_module_version": "1.5.0",
            "box_style": "",
            "layout": "IPY_MODEL_0b4a569e777b47ac93312083b3a240be",
            "_model_module": "@jupyter-widgets/controls",
            "children": [
              "IPY_MODEL_bd43a4866bc0490f8b3727feb154f5a9",
              "IPY_MODEL_3d3e1aaf9e984a1b91a1998cbb12819d",
              "IPY_MODEL_2c28b98569d947d1b250ece4d90ccdcd"
            ]
          }
        },
        "0b4a569e777b47ac93312083b3a240be": {
          "model_module": "@jupyter-widgets/base",
          "model_name": "LayoutModel",
          "model_module_version": "1.2.0",
          "state": {
            "_view_name": "LayoutView",
            "grid_template_rows": null,
            "right": null,
            "justify_content": null,
            "_view_module": "@jupyter-widgets/base",
            "overflow": null,
            "_model_module_version": "1.2.0",
            "_view_count": null,
            "flex_flow": null,
            "width": null,
            "min_width": null,
            "border": null,
            "align_items": null,
            "bottom": null,
            "_model_module": "@jupyter-widgets/base",
            "top": null,
            "grid_column": null,
            "overflow_y": null,
            "overflow_x": null,
            "grid_auto_flow": null,
            "grid_area": null,
            "grid_template_columns": null,
            "flex": null,
            "_model_name": "LayoutModel",
            "justify_items": null,
            "grid_row": null,
            "max_height": null,
            "align_content": null,
            "visibility": null,
            "align_self": null,
            "height": null,
            "min_height": null,
            "padding": null,
            "grid_auto_rows": null,
            "grid_gap": null,
            "max_width": null,
            "order": null,
            "_view_module_version": "1.2.0",
            "grid_template_areas": null,
            "object_position": null,
            "object_fit": null,
            "grid_auto_columns": null,
            "margin": null,
            "display": null,
            "left": null
          }
        },
        "bd43a4866bc0490f8b3727feb154f5a9": {
          "model_module": "@jupyter-widgets/controls",
          "model_name": "HTMLModel",
          "model_module_version": "1.5.0",
          "state": {
            "_view_name": "HTMLView",
            "style": "IPY_MODEL_4d2c63356c174906a9deafb2b3163ded",
            "_dom_classes": [],
            "description": "",
            "_model_name": "HTMLModel",
            "placeholder": "​",
            "_view_module": "@jupyter-widgets/controls",
            "_model_module_version": "1.5.0",
            "value": "Downloading: 100%",
            "_view_count": null,
            "_view_module_version": "1.5.0",
            "description_tooltip": null,
            "_model_module": "@jupyter-widgets/controls",
            "layout": "IPY_MODEL_e16baea88d0a41e98eb8f0b6fdc9669c"
          }
        },
        "3d3e1aaf9e984a1b91a1998cbb12819d": {
          "model_module": "@jupyter-widgets/controls",
          "model_name": "FloatProgressModel",
          "model_module_version": "1.5.0",
          "state": {
            "_view_name": "ProgressView",
            "style": "IPY_MODEL_884bdf949f104dba8096e461c94b3209",
            "_dom_classes": [],
            "description": "",
            "_model_name": "FloatProgressModel",
            "bar_style": "success",
            "max": 482,
            "_view_module": "@jupyter-widgets/controls",
            "_model_module_version": "1.5.0",
            "value": 482,
            "_view_count": null,
            "_view_module_version": "1.5.0",
            "orientation": "horizontal",
            "min": 0,
            "description_tooltip": null,
            "_model_module": "@jupyter-widgets/controls",
            "layout": "IPY_MODEL_5f9485fe59404cdfb668e6dcc3ed2d2b"
          }
        },
        "2c28b98569d947d1b250ece4d90ccdcd": {
          "model_module": "@jupyter-widgets/controls",
          "model_name": "HTMLModel",
          "model_module_version": "1.5.0",
          "state": {
            "_view_name": "HTMLView",
            "style": "IPY_MODEL_af5100eb488348cf82b2d7a2b7958bb8",
            "_dom_classes": [],
            "description": "",
            "_model_name": "HTMLModel",
            "placeholder": "​",
            "_view_module": "@jupyter-widgets/controls",
            "_model_module_version": "1.5.0",
            "value": " 482/482 [00:00&lt;00:00, 11.5kB/s]",
            "_view_count": null,
            "_view_module_version": "1.5.0",
            "description_tooltip": null,
            "_model_module": "@jupyter-widgets/controls",
            "layout": "IPY_MODEL_f565456af2794169bf6fe809ed82e981"
          }
        },
        "4d2c63356c174906a9deafb2b3163ded": {
          "model_module": "@jupyter-widgets/controls",
          "model_name": "DescriptionStyleModel",
          "model_module_version": "1.5.0",
          "state": {
            "_view_name": "StyleView",
            "_model_name": "DescriptionStyleModel",
            "description_width": "",
            "_view_module": "@jupyter-widgets/base",
            "_model_module_version": "1.5.0",
            "_view_count": null,
            "_view_module_version": "1.2.0",
            "_model_module": "@jupyter-widgets/controls"
          }
        },
        "e16baea88d0a41e98eb8f0b6fdc9669c": {
          "model_module": "@jupyter-widgets/base",
          "model_name": "LayoutModel",
          "model_module_version": "1.2.0",
          "state": {
            "_view_name": "LayoutView",
            "grid_template_rows": null,
            "right": null,
            "justify_content": null,
            "_view_module": "@jupyter-widgets/base",
            "overflow": null,
            "_model_module_version": "1.2.0",
            "_view_count": null,
            "flex_flow": null,
            "width": null,
            "min_width": null,
            "border": null,
            "align_items": null,
            "bottom": null,
            "_model_module": "@jupyter-widgets/base",
            "top": null,
            "grid_column": null,
            "overflow_y": null,
            "overflow_x": null,
            "grid_auto_flow": null,
            "grid_area": null,
            "grid_template_columns": null,
            "flex": null,
            "_model_name": "LayoutModel",
            "justify_items": null,
            "grid_row": null,
            "max_height": null,
            "align_content": null,
            "visibility": null,
            "align_self": null,
            "height": null,
            "min_height": null,
            "padding": null,
            "grid_auto_rows": null,
            "grid_gap": null,
            "max_width": null,
            "order": null,
            "_view_module_version": "1.2.0",
            "grid_template_areas": null,
            "object_position": null,
            "object_fit": null,
            "grid_auto_columns": null,
            "margin": null,
            "display": null,
            "left": null
          }
        },
        "884bdf949f104dba8096e461c94b3209": {
          "model_module": "@jupyter-widgets/controls",
          "model_name": "ProgressStyleModel",
          "model_module_version": "1.5.0",
          "state": {
            "_view_name": "StyleView",
            "_model_name": "ProgressStyleModel",
            "description_width": "",
            "_view_module": "@jupyter-widgets/base",
            "_model_module_version": "1.5.0",
            "_view_count": null,
            "_view_module_version": "1.2.0",
            "bar_color": null,
            "_model_module": "@jupyter-widgets/controls"
          }
        },
        "5f9485fe59404cdfb668e6dcc3ed2d2b": {
          "model_module": "@jupyter-widgets/base",
          "model_name": "LayoutModel",
          "model_module_version": "1.2.0",
          "state": {
            "_view_name": "LayoutView",
            "grid_template_rows": null,
            "right": null,
            "justify_content": null,
            "_view_module": "@jupyter-widgets/base",
            "overflow": null,
            "_model_module_version": "1.2.0",
            "_view_count": null,
            "flex_flow": null,
            "width": null,
            "min_width": null,
            "border": null,
            "align_items": null,
            "bottom": null,
            "_model_module": "@jupyter-widgets/base",
            "top": null,
            "grid_column": null,
            "overflow_y": null,
            "overflow_x": null,
            "grid_auto_flow": null,
            "grid_area": null,
            "grid_template_columns": null,
            "flex": null,
            "_model_name": "LayoutModel",
            "justify_items": null,
            "grid_row": null,
            "max_height": null,
            "align_content": null,
            "visibility": null,
            "align_self": null,
            "height": null,
            "min_height": null,
            "padding": null,
            "grid_auto_rows": null,
            "grid_gap": null,
            "max_width": null,
            "order": null,
            "_view_module_version": "1.2.0",
            "grid_template_areas": null,
            "object_position": null,
            "object_fit": null,
            "grid_auto_columns": null,
            "margin": null,
            "display": null,
            "left": null
          }
        },
        "af5100eb488348cf82b2d7a2b7958bb8": {
          "model_module": "@jupyter-widgets/controls",
          "model_name": "DescriptionStyleModel",
          "model_module_version": "1.5.0",
          "state": {
            "_view_name": "StyleView",
            "_model_name": "DescriptionStyleModel",
            "description_width": "",
            "_view_module": "@jupyter-widgets/base",
            "_model_module_version": "1.5.0",
            "_view_count": null,
            "_view_module_version": "1.2.0",
            "_model_module": "@jupyter-widgets/controls"
          }
        },
        "f565456af2794169bf6fe809ed82e981": {
          "model_module": "@jupyter-widgets/base",
          "model_name": "LayoutModel",
          "model_module_version": "1.2.0",
          "state": {
            "_view_name": "LayoutView",
            "grid_template_rows": null,
            "right": null,
            "justify_content": null,
            "_view_module": "@jupyter-widgets/base",
            "overflow": null,
            "_model_module_version": "1.2.0",
            "_view_count": null,
            "flex_flow": null,
            "width": null,
            "min_width": null,
            "border": null,
            "align_items": null,
            "bottom": null,
            "_model_module": "@jupyter-widgets/base",
            "top": null,
            "grid_column": null,
            "overflow_y": null,
            "overflow_x": null,
            "grid_auto_flow": null,
            "grid_area": null,
            "grid_template_columns": null,
            "flex": null,
            "_model_name": "LayoutModel",
            "justify_items": null,
            "grid_row": null,
            "max_height": null,
            "align_content": null,
            "visibility": null,
            "align_self": null,
            "height": null,
            "min_height": null,
            "padding": null,
            "grid_auto_rows": null,
            "grid_gap": null,
            "max_width": null,
            "order": null,
            "_view_module_version": "1.2.0",
            "grid_template_areas": null,
            "object_position": null,
            "object_fit": null,
            "grid_auto_columns": null,
            "margin": null,
            "display": null,
            "left": null
          }
        },
        "68a6ef58c21e4dcb89d451676126c12d": {
          "model_module": "@jupyter-widgets/controls",
          "model_name": "HBoxModel",
          "model_module_version": "1.5.0",
          "state": {
            "_view_name": "HBoxView",
            "_dom_classes": [],
            "_model_name": "HBoxModel",
            "_view_module": "@jupyter-widgets/controls",
            "_model_module_version": "1.5.0",
            "_view_count": null,
            "_view_module_version": "1.5.0",
            "box_style": "",
            "layout": "IPY_MODEL_0bde885927824b34a3553df38a3fea86",
            "_model_module": "@jupyter-widgets/controls",
            "children": [
              "IPY_MODEL_bfca5f351ac14c6e883c501ea45dcf05",
              "IPY_MODEL_ee46e99c600944dc837b68dba631489c",
              "IPY_MODEL_b84fcfcf435d49459c2514d8beef28a6"
            ]
          }
        },
        "0bde885927824b34a3553df38a3fea86": {
          "model_module": "@jupyter-widgets/base",
          "model_name": "LayoutModel",
          "model_module_version": "1.2.0",
          "state": {
            "_view_name": "LayoutView",
            "grid_template_rows": null,
            "right": null,
            "justify_content": null,
            "_view_module": "@jupyter-widgets/base",
            "overflow": null,
            "_model_module_version": "1.2.0",
            "_view_count": null,
            "flex_flow": null,
            "width": null,
            "min_width": null,
            "border": null,
            "align_items": null,
            "bottom": null,
            "_model_module": "@jupyter-widgets/base",
            "top": null,
            "grid_column": null,
            "overflow_y": null,
            "overflow_x": null,
            "grid_auto_flow": null,
            "grid_area": null,
            "grid_template_columns": null,
            "flex": null,
            "_model_name": "LayoutModel",
            "justify_items": null,
            "grid_row": null,
            "max_height": null,
            "align_content": null,
            "visibility": null,
            "align_self": null,
            "height": null,
            "min_height": null,
            "padding": null,
            "grid_auto_rows": null,
            "grid_gap": null,
            "max_width": null,
            "order": null,
            "_view_module_version": "1.2.0",
            "grid_template_areas": null,
            "object_position": null,
            "object_fit": null,
            "grid_auto_columns": null,
            "margin": null,
            "display": null,
            "left": null
          }
        },
        "bfca5f351ac14c6e883c501ea45dcf05": {
          "model_module": "@jupyter-widgets/controls",
          "model_name": "HTMLModel",
          "model_module_version": "1.5.0",
          "state": {
            "_view_name": "HTMLView",
            "style": "IPY_MODEL_bc5b1480971e4cb9826bc04c00f60a4b",
            "_dom_classes": [],
            "description": "",
            "_model_name": "HTMLModel",
            "placeholder": "​",
            "_view_module": "@jupyter-widgets/controls",
            "_model_module_version": "1.5.0",
            "value": "Downloading: 100%",
            "_view_count": null,
            "_view_module_version": "1.5.0",
            "description_tooltip": null,
            "_model_module": "@jupyter-widgets/controls",
            "layout": "IPY_MODEL_038bca37fbf1449fa80fe02a1620d119"
          }
        },
        "ee46e99c600944dc837b68dba631489c": {
          "model_module": "@jupyter-widgets/controls",
          "model_name": "FloatProgressModel",
          "model_module_version": "1.5.0",
          "state": {
            "_view_name": "ProgressView",
            "style": "IPY_MODEL_5afa2cca23f848a39eda65cd5ff7c75f",
            "_dom_classes": [],
            "description": "",
            "_model_name": "FloatProgressModel",
            "bar_style": "success",
            "max": 898823,
            "_view_module": "@jupyter-widgets/controls",
            "_model_module_version": "1.5.0",
            "value": 898823,
            "_view_count": null,
            "_view_module_version": "1.5.0",
            "orientation": "horizontal",
            "min": 0,
            "description_tooltip": null,
            "_model_module": "@jupyter-widgets/controls",
            "layout": "IPY_MODEL_f1b6e526202941339f07344f34527789"
          }
        },
        "b84fcfcf435d49459c2514d8beef28a6": {
          "model_module": "@jupyter-widgets/controls",
          "model_name": "HTMLModel",
          "model_module_version": "1.5.0",
          "state": {
            "_view_name": "HTMLView",
            "style": "IPY_MODEL_861b337d64b44a5b8a8002c1fbdebe97",
            "_dom_classes": [],
            "description": "",
            "_model_name": "HTMLModel",
            "placeholder": "​",
            "_view_module": "@jupyter-widgets/controls",
            "_model_module_version": "1.5.0",
            "value": " 899k/899k [00:01&lt;00:00, 1.11MB/s]",
            "_view_count": null,
            "_view_module_version": "1.5.0",
            "description_tooltip": null,
            "_model_module": "@jupyter-widgets/controls",
            "layout": "IPY_MODEL_5fcba863761841a2b9014794c5e955df"
          }
        },
        "bc5b1480971e4cb9826bc04c00f60a4b": {
          "model_module": "@jupyter-widgets/controls",
          "model_name": "DescriptionStyleModel",
          "model_module_version": "1.5.0",
          "state": {
            "_view_name": "StyleView",
            "_model_name": "DescriptionStyleModel",
            "description_width": "",
            "_view_module": "@jupyter-widgets/base",
            "_model_module_version": "1.5.0",
            "_view_count": null,
            "_view_module_version": "1.2.0",
            "_model_module": "@jupyter-widgets/controls"
          }
        },
        "038bca37fbf1449fa80fe02a1620d119": {
          "model_module": "@jupyter-widgets/base",
          "model_name": "LayoutModel",
          "model_module_version": "1.2.0",
          "state": {
            "_view_name": "LayoutView",
            "grid_template_rows": null,
            "right": null,
            "justify_content": null,
            "_view_module": "@jupyter-widgets/base",
            "overflow": null,
            "_model_module_version": "1.2.0",
            "_view_count": null,
            "flex_flow": null,
            "width": null,
            "min_width": null,
            "border": null,
            "align_items": null,
            "bottom": null,
            "_model_module": "@jupyter-widgets/base",
            "top": null,
            "grid_column": null,
            "overflow_y": null,
            "overflow_x": null,
            "grid_auto_flow": null,
            "grid_area": null,
            "grid_template_columns": null,
            "flex": null,
            "_model_name": "LayoutModel",
            "justify_items": null,
            "grid_row": null,
            "max_height": null,
            "align_content": null,
            "visibility": null,
            "align_self": null,
            "height": null,
            "min_height": null,
            "padding": null,
            "grid_auto_rows": null,
            "grid_gap": null,
            "max_width": null,
            "order": null,
            "_view_module_version": "1.2.0",
            "grid_template_areas": null,
            "object_position": null,
            "object_fit": null,
            "grid_auto_columns": null,
            "margin": null,
            "display": null,
            "left": null
          }
        },
        "5afa2cca23f848a39eda65cd5ff7c75f": {
          "model_module": "@jupyter-widgets/controls",
          "model_name": "ProgressStyleModel",
          "model_module_version": "1.5.0",
          "state": {
            "_view_name": "StyleView",
            "_model_name": "ProgressStyleModel",
            "description_width": "",
            "_view_module": "@jupyter-widgets/base",
            "_model_module_version": "1.5.0",
            "_view_count": null,
            "_view_module_version": "1.2.0",
            "bar_color": null,
            "_model_module": "@jupyter-widgets/controls"
          }
        },
        "f1b6e526202941339f07344f34527789": {
          "model_module": "@jupyter-widgets/base",
          "model_name": "LayoutModel",
          "model_module_version": "1.2.0",
          "state": {
            "_view_name": "LayoutView",
            "grid_template_rows": null,
            "right": null,
            "justify_content": null,
            "_view_module": "@jupyter-widgets/base",
            "overflow": null,
            "_model_module_version": "1.2.0",
            "_view_count": null,
            "flex_flow": null,
            "width": null,
            "min_width": null,
            "border": null,
            "align_items": null,
            "bottom": null,
            "_model_module": "@jupyter-widgets/base",
            "top": null,
            "grid_column": null,
            "overflow_y": null,
            "overflow_x": null,
            "grid_auto_flow": null,
            "grid_area": null,
            "grid_template_columns": null,
            "flex": null,
            "_model_name": "LayoutModel",
            "justify_items": null,
            "grid_row": null,
            "max_height": null,
            "align_content": null,
            "visibility": null,
            "align_self": null,
            "height": null,
            "min_height": null,
            "padding": null,
            "grid_auto_rows": null,
            "grid_gap": null,
            "max_width": null,
            "order": null,
            "_view_module_version": "1.2.0",
            "grid_template_areas": null,
            "object_position": null,
            "object_fit": null,
            "grid_auto_columns": null,
            "margin": null,
            "display": null,
            "left": null
          }
        },
        "861b337d64b44a5b8a8002c1fbdebe97": {
          "model_module": "@jupyter-widgets/controls",
          "model_name": "DescriptionStyleModel",
          "model_module_version": "1.5.0",
          "state": {
            "_view_name": "StyleView",
            "_model_name": "DescriptionStyleModel",
            "description_width": "",
            "_view_module": "@jupyter-widgets/base",
            "_model_module_version": "1.5.0",
            "_view_count": null,
            "_view_module_version": "1.2.0",
            "_model_module": "@jupyter-widgets/controls"
          }
        },
        "5fcba863761841a2b9014794c5e955df": {
          "model_module": "@jupyter-widgets/base",
          "model_name": "LayoutModel",
          "model_module_version": "1.2.0",
          "state": {
            "_view_name": "LayoutView",
            "grid_template_rows": null,
            "right": null,
            "justify_content": null,
            "_view_module": "@jupyter-widgets/base",
            "overflow": null,
            "_model_module_version": "1.2.0",
            "_view_count": null,
            "flex_flow": null,
            "width": null,
            "min_width": null,
            "border": null,
            "align_items": null,
            "bottom": null,
            "_model_module": "@jupyter-widgets/base",
            "top": null,
            "grid_column": null,
            "overflow_y": null,
            "overflow_x": null,
            "grid_auto_flow": null,
            "grid_area": null,
            "grid_template_columns": null,
            "flex": null,
            "_model_name": "LayoutModel",
            "justify_items": null,
            "grid_row": null,
            "max_height": null,
            "align_content": null,
            "visibility": null,
            "align_self": null,
            "height": null,
            "min_height": null,
            "padding": null,
            "grid_auto_rows": null,
            "grid_gap": null,
            "max_width": null,
            "order": null,
            "_view_module_version": "1.2.0",
            "grid_template_areas": null,
            "object_position": null,
            "object_fit": null,
            "grid_auto_columns": null,
            "margin": null,
            "display": null,
            "left": null
          }
        },
        "3418ad1e9c4f42ed965d6dfa3322e64b": {
          "model_module": "@jupyter-widgets/controls",
          "model_name": "HBoxModel",
          "model_module_version": "1.5.0",
          "state": {
            "_view_name": "HBoxView",
            "_dom_classes": [],
            "_model_name": "HBoxModel",
            "_view_module": "@jupyter-widgets/controls",
            "_model_module_version": "1.5.0",
            "_view_count": null,
            "_view_module_version": "1.5.0",
            "box_style": "",
            "layout": "IPY_MODEL_75b4be1b6c0346d2a3a2f8452e99f354",
            "_model_module": "@jupyter-widgets/controls",
            "children": [
              "IPY_MODEL_650a52c37626418a9466de186ca92994",
              "IPY_MODEL_3add3e4d725a4b5f845f9fe340f2bab0",
              "IPY_MODEL_f48c75a92c954e738b62fc8c5852d3a8"
            ]
          }
        },
        "75b4be1b6c0346d2a3a2f8452e99f354": {
          "model_module": "@jupyter-widgets/base",
          "model_name": "LayoutModel",
          "model_module_version": "1.2.0",
          "state": {
            "_view_name": "LayoutView",
            "grid_template_rows": null,
            "right": null,
            "justify_content": null,
            "_view_module": "@jupyter-widgets/base",
            "overflow": null,
            "_model_module_version": "1.2.0",
            "_view_count": null,
            "flex_flow": null,
            "width": null,
            "min_width": null,
            "border": null,
            "align_items": null,
            "bottom": null,
            "_model_module": "@jupyter-widgets/base",
            "top": null,
            "grid_column": null,
            "overflow_y": null,
            "overflow_x": null,
            "grid_auto_flow": null,
            "grid_area": null,
            "grid_template_columns": null,
            "flex": null,
            "_model_name": "LayoutModel",
            "justify_items": null,
            "grid_row": null,
            "max_height": null,
            "align_content": null,
            "visibility": null,
            "align_self": null,
            "height": null,
            "min_height": null,
            "padding": null,
            "grid_auto_rows": null,
            "grid_gap": null,
            "max_width": null,
            "order": null,
            "_view_module_version": "1.2.0",
            "grid_template_areas": null,
            "object_position": null,
            "object_fit": null,
            "grid_auto_columns": null,
            "margin": null,
            "display": null,
            "left": null
          }
        },
        "650a52c37626418a9466de186ca92994": {
          "model_module": "@jupyter-widgets/controls",
          "model_name": "HTMLModel",
          "model_module_version": "1.5.0",
          "state": {
            "_view_name": "HTMLView",
            "style": "IPY_MODEL_1ee96c5610274c0c90aaa95b42c8006e",
            "_dom_classes": [],
            "description": "",
            "_model_name": "HTMLModel",
            "placeholder": "​",
            "_view_module": "@jupyter-widgets/controls",
            "_model_module_version": "1.5.0",
            "value": "Downloading: 100%",
            "_view_count": null,
            "_view_module_version": "1.5.0",
            "description_tooltip": null,
            "_model_module": "@jupyter-widgets/controls",
            "layout": "IPY_MODEL_fea4ace812a64f88a59a3b456967d14b"
          }
        },
        "3add3e4d725a4b5f845f9fe340f2bab0": {
          "model_module": "@jupyter-widgets/controls",
          "model_name": "FloatProgressModel",
          "model_module_version": "1.5.0",
          "state": {
            "_view_name": "ProgressView",
            "style": "IPY_MODEL_46622657417643309a595f8b532a18fc",
            "_dom_classes": [],
            "description": "",
            "_model_name": "FloatProgressModel",
            "bar_style": "success",
            "max": 456318,
            "_view_module": "@jupyter-widgets/controls",
            "_model_module_version": "1.5.0",
            "value": 456318,
            "_view_count": null,
            "_view_module_version": "1.5.0",
            "orientation": "horizontal",
            "min": 0,
            "description_tooltip": null,
            "_model_module": "@jupyter-widgets/controls",
            "layout": "IPY_MODEL_b5c0c8d0d0a04e5a97d0c5d2f1ebd03a"
          }
        },
        "f48c75a92c954e738b62fc8c5852d3a8": {
          "model_module": "@jupyter-widgets/controls",
          "model_name": "HTMLModel",
          "model_module_version": "1.5.0",
          "state": {
            "_view_name": "HTMLView",
            "style": "IPY_MODEL_ce871e0460824b4285e2e1ce43cbf1b7",
            "_dom_classes": [],
            "description": "",
            "_model_name": "HTMLModel",
            "placeholder": "​",
            "_view_module": "@jupyter-widgets/controls",
            "_model_module_version": "1.5.0",
            "value": " 456k/456k [00:00&lt;00:00, 622kB/s]",
            "_view_count": null,
            "_view_module_version": "1.5.0",
            "description_tooltip": null,
            "_model_module": "@jupyter-widgets/controls",
            "layout": "IPY_MODEL_af0795547e1f40f49b600420feba26d9"
          }
        },
        "1ee96c5610274c0c90aaa95b42c8006e": {
          "model_module": "@jupyter-widgets/controls",
          "model_name": "DescriptionStyleModel",
          "model_module_version": "1.5.0",
          "state": {
            "_view_name": "StyleView",
            "_model_name": "DescriptionStyleModel",
            "description_width": "",
            "_view_module": "@jupyter-widgets/base",
            "_model_module_version": "1.5.0",
            "_view_count": null,
            "_view_module_version": "1.2.0",
            "_model_module": "@jupyter-widgets/controls"
          }
        },
        "fea4ace812a64f88a59a3b456967d14b": {
          "model_module": "@jupyter-widgets/base",
          "model_name": "LayoutModel",
          "model_module_version": "1.2.0",
          "state": {
            "_view_name": "LayoutView",
            "grid_template_rows": null,
            "right": null,
            "justify_content": null,
            "_view_module": "@jupyter-widgets/base",
            "overflow": null,
            "_model_module_version": "1.2.0",
            "_view_count": null,
            "flex_flow": null,
            "width": null,
            "min_width": null,
            "border": null,
            "align_items": null,
            "bottom": null,
            "_model_module": "@jupyter-widgets/base",
            "top": null,
            "grid_column": null,
            "overflow_y": null,
            "overflow_x": null,
            "grid_auto_flow": null,
            "grid_area": null,
            "grid_template_columns": null,
            "flex": null,
            "_model_name": "LayoutModel",
            "justify_items": null,
            "grid_row": null,
            "max_height": null,
            "align_content": null,
            "visibility": null,
            "align_self": null,
            "height": null,
            "min_height": null,
            "padding": null,
            "grid_auto_rows": null,
            "grid_gap": null,
            "max_width": null,
            "order": null,
            "_view_module_version": "1.2.0",
            "grid_template_areas": null,
            "object_position": null,
            "object_fit": null,
            "grid_auto_columns": null,
            "margin": null,
            "display": null,
            "left": null
          }
        },
        "46622657417643309a595f8b532a18fc": {
          "model_module": "@jupyter-widgets/controls",
          "model_name": "ProgressStyleModel",
          "model_module_version": "1.5.0",
          "state": {
            "_view_name": "StyleView",
            "_model_name": "ProgressStyleModel",
            "description_width": "",
            "_view_module": "@jupyter-widgets/base",
            "_model_module_version": "1.5.0",
            "_view_count": null,
            "_view_module_version": "1.2.0",
            "bar_color": null,
            "_model_module": "@jupyter-widgets/controls"
          }
        },
        "b5c0c8d0d0a04e5a97d0c5d2f1ebd03a": {
          "model_module": "@jupyter-widgets/base",
          "model_name": "LayoutModel",
          "model_module_version": "1.2.0",
          "state": {
            "_view_name": "LayoutView",
            "grid_template_rows": null,
            "right": null,
            "justify_content": null,
            "_view_module": "@jupyter-widgets/base",
            "overflow": null,
            "_model_module_version": "1.2.0",
            "_view_count": null,
            "flex_flow": null,
            "width": null,
            "min_width": null,
            "border": null,
            "align_items": null,
            "bottom": null,
            "_model_module": "@jupyter-widgets/base",
            "top": null,
            "grid_column": null,
            "overflow_y": null,
            "overflow_x": null,
            "grid_auto_flow": null,
            "grid_area": null,
            "grid_template_columns": null,
            "flex": null,
            "_model_name": "LayoutModel",
            "justify_items": null,
            "grid_row": null,
            "max_height": null,
            "align_content": null,
            "visibility": null,
            "align_self": null,
            "height": null,
            "min_height": null,
            "padding": null,
            "grid_auto_rows": null,
            "grid_gap": null,
            "max_width": null,
            "order": null,
            "_view_module_version": "1.2.0",
            "grid_template_areas": null,
            "object_position": null,
            "object_fit": null,
            "grid_auto_columns": null,
            "margin": null,
            "display": null,
            "left": null
          }
        },
        "ce871e0460824b4285e2e1ce43cbf1b7": {
          "model_module": "@jupyter-widgets/controls",
          "model_name": "DescriptionStyleModel",
          "model_module_version": "1.5.0",
          "state": {
            "_view_name": "StyleView",
            "_model_name": "DescriptionStyleModel",
            "description_width": "",
            "_view_module": "@jupyter-widgets/base",
            "_model_module_version": "1.5.0",
            "_view_count": null,
            "_view_module_version": "1.2.0",
            "_model_module": "@jupyter-widgets/controls"
          }
        },
        "af0795547e1f40f49b600420feba26d9": {
          "model_module": "@jupyter-widgets/base",
          "model_name": "LayoutModel",
          "model_module_version": "1.2.0",
          "state": {
            "_view_name": "LayoutView",
            "grid_template_rows": null,
            "right": null,
            "justify_content": null,
            "_view_module": "@jupyter-widgets/base",
            "overflow": null,
            "_model_module_version": "1.2.0",
            "_view_count": null,
            "flex_flow": null,
            "width": null,
            "min_width": null,
            "border": null,
            "align_items": null,
            "bottom": null,
            "_model_module": "@jupyter-widgets/base",
            "top": null,
            "grid_column": null,
            "overflow_y": null,
            "overflow_x": null,
            "grid_auto_flow": null,
            "grid_area": null,
            "grid_template_columns": null,
            "flex": null,
            "_model_name": "LayoutModel",
            "justify_items": null,
            "grid_row": null,
            "max_height": null,
            "align_content": null,
            "visibility": null,
            "align_self": null,
            "height": null,
            "min_height": null,
            "padding": null,
            "grid_auto_rows": null,
            "grid_gap": null,
            "max_width": null,
            "order": null,
            "_view_module_version": "1.2.0",
            "grid_template_areas": null,
            "object_position": null,
            "object_fit": null,
            "grid_auto_columns": null,
            "margin": null,
            "display": null,
            "left": null
          }
        },
        "2844c7fa7ade4c4698bdb0b8b8c9fe14": {
          "model_module": "@jupyter-widgets/controls",
          "model_name": "HBoxModel",
          "model_module_version": "1.5.0",
          "state": {
            "_view_name": "HBoxView",
            "_dom_classes": [],
            "_model_name": "HBoxModel",
            "_view_module": "@jupyter-widgets/controls",
            "_model_module_version": "1.5.0",
            "_view_count": null,
            "_view_module_version": "1.5.0",
            "box_style": "",
            "layout": "IPY_MODEL_59080103d99245539359babd98026f2e",
            "_model_module": "@jupyter-widgets/controls",
            "children": [
              "IPY_MODEL_188f59f080984bda83783a4b279fbf12",
              "IPY_MODEL_db004364924441f39e6a3fb81c299be3",
              "IPY_MODEL_40aba3764e824052b096b60872bc89b6"
            ]
          }
        },
        "59080103d99245539359babd98026f2e": {
          "model_module": "@jupyter-widgets/base",
          "model_name": "LayoutModel",
          "model_module_version": "1.2.0",
          "state": {
            "_view_name": "LayoutView",
            "grid_template_rows": null,
            "right": null,
            "justify_content": null,
            "_view_module": "@jupyter-widgets/base",
            "overflow": null,
            "_model_module_version": "1.2.0",
            "_view_count": null,
            "flex_flow": null,
            "width": null,
            "min_width": null,
            "border": null,
            "align_items": null,
            "bottom": null,
            "_model_module": "@jupyter-widgets/base",
            "top": null,
            "grid_column": null,
            "overflow_y": null,
            "overflow_x": null,
            "grid_auto_flow": null,
            "grid_area": null,
            "grid_template_columns": null,
            "flex": null,
            "_model_name": "LayoutModel",
            "justify_items": null,
            "grid_row": null,
            "max_height": null,
            "align_content": null,
            "visibility": null,
            "align_self": null,
            "height": null,
            "min_height": null,
            "padding": null,
            "grid_auto_rows": null,
            "grid_gap": null,
            "max_width": null,
            "order": null,
            "_view_module_version": "1.2.0",
            "grid_template_areas": null,
            "object_position": null,
            "object_fit": null,
            "grid_auto_columns": null,
            "margin": null,
            "display": null,
            "left": null
          }
        },
        "188f59f080984bda83783a4b279fbf12": {
          "model_module": "@jupyter-widgets/controls",
          "model_name": "HTMLModel",
          "model_module_version": "1.5.0",
          "state": {
            "_view_name": "HTMLView",
            "style": "IPY_MODEL_4a2de78f837f4f78bebfa4c151624f35",
            "_dom_classes": [],
            "description": "",
            "_model_name": "HTMLModel",
            "placeholder": "​",
            "_view_module": "@jupyter-widgets/controls",
            "_model_module_version": "1.5.0",
            "value": "Downloading: 100%",
            "_view_count": null,
            "_view_module_version": "1.5.0",
            "description_tooltip": null,
            "_model_module": "@jupyter-widgets/controls",
            "layout": "IPY_MODEL_a4829eca537b47d3a27506dc1c7da28a"
          }
        },
        "db004364924441f39e6a3fb81c299be3": {
          "model_module": "@jupyter-widgets/controls",
          "model_name": "FloatProgressModel",
          "model_module_version": "1.5.0",
          "state": {
            "_view_name": "ProgressView",
            "style": "IPY_MODEL_e7ba0dabe1184aad93fc78e97fc0af79",
            "_dom_classes": [],
            "description": "",
            "_model_name": "FloatProgressModel",
            "bar_style": "success",
            "max": 1425941629,
            "_view_module": "@jupyter-widgets/controls",
            "_model_module_version": "1.5.0",
            "value": 1425941629,
            "_view_count": null,
            "_view_module_version": "1.5.0",
            "orientation": "horizontal",
            "min": 0,
            "description_tooltip": null,
            "_model_module": "@jupyter-widgets/controls",
            "layout": "IPY_MODEL_12712064961340048f978a5a5c0b86ba"
          }
        },
        "40aba3764e824052b096b60872bc89b6": {
          "model_module": "@jupyter-widgets/controls",
          "model_name": "HTMLModel",
          "model_module_version": "1.5.0",
          "state": {
            "_view_name": "HTMLView",
            "style": "IPY_MODEL_1d6730aa38bb44da998da6cdf3888a91",
            "_dom_classes": [],
            "description": "",
            "_model_name": "HTMLModel",
            "placeholder": "​",
            "_view_module": "@jupyter-widgets/controls",
            "_model_module_version": "1.5.0",
            "value": " 1.43G/1.43G [00:45&lt;00:00, 30.7MB/s]",
            "_view_count": null,
            "_view_module_version": "1.5.0",
            "description_tooltip": null,
            "_model_module": "@jupyter-widgets/controls",
            "layout": "IPY_MODEL_0b46fc8cd5e144c18a3e9c01281d0d57"
          }
        },
        "4a2de78f837f4f78bebfa4c151624f35": {
          "model_module": "@jupyter-widgets/controls",
          "model_name": "DescriptionStyleModel",
          "model_module_version": "1.5.0",
          "state": {
            "_view_name": "StyleView",
            "_model_name": "DescriptionStyleModel",
            "description_width": "",
            "_view_module": "@jupyter-widgets/base",
            "_model_module_version": "1.5.0",
            "_view_count": null,
            "_view_module_version": "1.2.0",
            "_model_module": "@jupyter-widgets/controls"
          }
        },
        "a4829eca537b47d3a27506dc1c7da28a": {
          "model_module": "@jupyter-widgets/base",
          "model_name": "LayoutModel",
          "model_module_version": "1.2.0",
          "state": {
            "_view_name": "LayoutView",
            "grid_template_rows": null,
            "right": null,
            "justify_content": null,
            "_view_module": "@jupyter-widgets/base",
            "overflow": null,
            "_model_module_version": "1.2.0",
            "_view_count": null,
            "flex_flow": null,
            "width": null,
            "min_width": null,
            "border": null,
            "align_items": null,
            "bottom": null,
            "_model_module": "@jupyter-widgets/base",
            "top": null,
            "grid_column": null,
            "overflow_y": null,
            "overflow_x": null,
            "grid_auto_flow": null,
            "grid_area": null,
            "grid_template_columns": null,
            "flex": null,
            "_model_name": "LayoutModel",
            "justify_items": null,
            "grid_row": null,
            "max_height": null,
            "align_content": null,
            "visibility": null,
            "align_self": null,
            "height": null,
            "min_height": null,
            "padding": null,
            "grid_auto_rows": null,
            "grid_gap": null,
            "max_width": null,
            "order": null,
            "_view_module_version": "1.2.0",
            "grid_template_areas": null,
            "object_position": null,
            "object_fit": null,
            "grid_auto_columns": null,
            "margin": null,
            "display": null,
            "left": null
          }
        },
        "e7ba0dabe1184aad93fc78e97fc0af79": {
          "model_module": "@jupyter-widgets/controls",
          "model_name": "ProgressStyleModel",
          "model_module_version": "1.5.0",
          "state": {
            "_view_name": "StyleView",
            "_model_name": "ProgressStyleModel",
            "description_width": "",
            "_view_module": "@jupyter-widgets/base",
            "_model_module_version": "1.5.0",
            "_view_count": null,
            "_view_module_version": "1.2.0",
            "bar_color": null,
            "_model_module": "@jupyter-widgets/controls"
          }
        },
        "12712064961340048f978a5a5c0b86ba": {
          "model_module": "@jupyter-widgets/base",
          "model_name": "LayoutModel",
          "model_module_version": "1.2.0",
          "state": {
            "_view_name": "LayoutView",
            "grid_template_rows": null,
            "right": null,
            "justify_content": null,
            "_view_module": "@jupyter-widgets/base",
            "overflow": null,
            "_model_module_version": "1.2.0",
            "_view_count": null,
            "flex_flow": null,
            "width": null,
            "min_width": null,
            "border": null,
            "align_items": null,
            "bottom": null,
            "_model_module": "@jupyter-widgets/base",
            "top": null,
            "grid_column": null,
            "overflow_y": null,
            "overflow_x": null,
            "grid_auto_flow": null,
            "grid_area": null,
            "grid_template_columns": null,
            "flex": null,
            "_model_name": "LayoutModel",
            "justify_items": null,
            "grid_row": null,
            "max_height": null,
            "align_content": null,
            "visibility": null,
            "align_self": null,
            "height": null,
            "min_height": null,
            "padding": null,
            "grid_auto_rows": null,
            "grid_gap": null,
            "max_width": null,
            "order": null,
            "_view_module_version": "1.2.0",
            "grid_template_areas": null,
            "object_position": null,
            "object_fit": null,
            "grid_auto_columns": null,
            "margin": null,
            "display": null,
            "left": null
          }
        },
        "1d6730aa38bb44da998da6cdf3888a91": {
          "model_module": "@jupyter-widgets/controls",
          "model_name": "DescriptionStyleModel",
          "model_module_version": "1.5.0",
          "state": {
            "_view_name": "StyleView",
            "_model_name": "DescriptionStyleModel",
            "description_width": "",
            "_view_module": "@jupyter-widgets/base",
            "_model_module_version": "1.5.0",
            "_view_count": null,
            "_view_module_version": "1.2.0",
            "_model_module": "@jupyter-widgets/controls"
          }
        },
        "0b46fc8cd5e144c18a3e9c01281d0d57": {
          "model_module": "@jupyter-widgets/base",
          "model_name": "LayoutModel",
          "model_module_version": "1.2.0",
          "state": {
            "_view_name": "LayoutView",
            "grid_template_rows": null,
            "right": null,
            "justify_content": null,
            "_view_module": "@jupyter-widgets/base",
            "overflow": null,
            "_model_module_version": "1.2.0",
            "_view_count": null,
            "flex_flow": null,
            "width": null,
            "min_width": null,
            "border": null,
            "align_items": null,
            "bottom": null,
            "_model_module": "@jupyter-widgets/base",
            "top": null,
            "grid_column": null,
            "overflow_y": null,
            "overflow_x": null,
            "grid_auto_flow": null,
            "grid_area": null,
            "grid_template_columns": null,
            "flex": null,
            "_model_name": "LayoutModel",
            "justify_items": null,
            "grid_row": null,
            "max_height": null,
            "align_content": null,
            "visibility": null,
            "align_self": null,
            "height": null,
            "min_height": null,
            "padding": null,
            "grid_auto_rows": null,
            "grid_gap": null,
            "max_width": null,
            "order": null,
            "_view_module_version": "1.2.0",
            "grid_template_areas": null,
            "object_position": null,
            "object_fit": null,
            "grid_auto_columns": null,
            "margin": null,
            "display": null,
            "left": null
          }
        },
        "b81d4814f83e48fa90a000242ec39a45": {
          "model_module": "@jupyter-widgets/controls",
          "model_name": "HBoxModel",
          "model_module_version": "1.5.0",
          "state": {
            "_view_name": "HBoxView",
            "_dom_classes": [],
            "_model_name": "HBoxModel",
            "_view_module": "@jupyter-widgets/controls",
            "_model_module_version": "1.5.0",
            "_view_count": null,
            "_view_module_version": "1.5.0",
            "box_style": "",
            "layout": "IPY_MODEL_1ac2c8ead62c498db5b3bad3936c1932",
            "_model_module": "@jupyter-widgets/controls",
            "children": [
              "IPY_MODEL_60aa6170cd5d40479be91ec8eb7bd4e9",
              "IPY_MODEL_3bcec444345045eca9ef29aa585ab711",
              "IPY_MODEL_c48dd3b9d8a14a449434b7e253e8b4be"
            ]
          }
        },
        "1ac2c8ead62c498db5b3bad3936c1932": {
          "model_module": "@jupyter-widgets/base",
          "model_name": "LayoutModel",
          "model_module_version": "1.2.0",
          "state": {
            "_view_name": "LayoutView",
            "grid_template_rows": null,
            "right": null,
            "justify_content": null,
            "_view_module": "@jupyter-widgets/base",
            "overflow": null,
            "_model_module_version": "1.2.0",
            "_view_count": null,
            "flex_flow": null,
            "width": null,
            "min_width": null,
            "border": null,
            "align_items": null,
            "bottom": null,
            "_model_module": "@jupyter-widgets/base",
            "top": null,
            "grid_column": null,
            "overflow_y": null,
            "overflow_x": null,
            "grid_auto_flow": null,
            "grid_area": null,
            "grid_template_columns": null,
            "flex": null,
            "_model_name": "LayoutModel",
            "justify_items": null,
            "grid_row": null,
            "max_height": null,
            "align_content": null,
            "visibility": null,
            "align_self": null,
            "height": null,
            "min_height": null,
            "padding": null,
            "grid_auto_rows": null,
            "grid_gap": null,
            "max_width": null,
            "order": null,
            "_view_module_version": "1.2.0",
            "grid_template_areas": null,
            "object_position": null,
            "object_fit": null,
            "grid_auto_columns": null,
            "margin": null,
            "display": null,
            "left": null
          }
        },
        "60aa6170cd5d40479be91ec8eb7bd4e9": {
          "model_module": "@jupyter-widgets/controls",
          "model_name": "HTMLModel",
          "model_module_version": "1.5.0",
          "state": {
            "_view_name": "HTMLView",
            "style": "IPY_MODEL_048d8128547944cf8e1814585b99751d",
            "_dom_classes": [],
            "description": "",
            "_model_name": "HTMLModel",
            "placeholder": "​",
            "_view_module": "@jupyter-widgets/controls",
            "_model_module_version": "1.5.0",
            "value": "100%",
            "_view_count": null,
            "_view_module_version": "1.5.0",
            "description_tooltip": null,
            "_model_module": "@jupyter-widgets/controls",
            "layout": "IPY_MODEL_719cc6f0d2e84c77aedeb9f230222f6f"
          }
        },
        "3bcec444345045eca9ef29aa585ab711": {
          "model_module": "@jupyter-widgets/controls",
          "model_name": "FloatProgressModel",
          "model_module_version": "1.5.0",
          "state": {
            "_view_name": "ProgressView",
            "style": "IPY_MODEL_87ca5d71cf7344cd822e13d35795a9e1",
            "_dom_classes": [],
            "description": "",
            "_model_name": "FloatProgressModel",
            "bar_style": "success",
            "max": 1,
            "_view_module": "@jupyter-widgets/controls",
            "_model_module_version": "1.5.0",
            "value": 1,
            "_view_count": null,
            "_view_module_version": "1.5.0",
            "orientation": "horizontal",
            "min": 0,
            "description_tooltip": null,
            "_model_module": "@jupyter-widgets/controls",
            "layout": "IPY_MODEL_caea2a73d2c24a5f82c7c1b5e9c571af"
          }
        },
        "c48dd3b9d8a14a449434b7e253e8b4be": {
          "model_module": "@jupyter-widgets/controls",
          "model_name": "HTMLModel",
          "model_module_version": "1.5.0",
          "state": {
            "_view_name": "HTMLView",
            "style": "IPY_MODEL_0a6ce264bf8f402097ec6dd420a70089",
            "_dom_classes": [],
            "description": "",
            "_model_name": "HTMLModel",
            "placeholder": "​",
            "_view_module": "@jupyter-widgets/controls",
            "_model_module_version": "1.5.0",
            "value": " 1/1 [00:00&lt;00:00,  2.30it/s]",
            "_view_count": null,
            "_view_module_version": "1.5.0",
            "description_tooltip": null,
            "_model_module": "@jupyter-widgets/controls",
            "layout": "IPY_MODEL_589708745cec450eaa8728fda2e5c084"
          }
        },
        "048d8128547944cf8e1814585b99751d": {
          "model_module": "@jupyter-widgets/controls",
          "model_name": "DescriptionStyleModel",
          "model_module_version": "1.5.0",
          "state": {
            "_view_name": "StyleView",
            "_model_name": "DescriptionStyleModel",
            "description_width": "",
            "_view_module": "@jupyter-widgets/base",
            "_model_module_version": "1.5.0",
            "_view_count": null,
            "_view_module_version": "1.2.0",
            "_model_module": "@jupyter-widgets/controls"
          }
        },
        "719cc6f0d2e84c77aedeb9f230222f6f": {
          "model_module": "@jupyter-widgets/base",
          "model_name": "LayoutModel",
          "model_module_version": "1.2.0",
          "state": {
            "_view_name": "LayoutView",
            "grid_template_rows": null,
            "right": null,
            "justify_content": null,
            "_view_module": "@jupyter-widgets/base",
            "overflow": null,
            "_model_module_version": "1.2.0",
            "_view_count": null,
            "flex_flow": null,
            "width": null,
            "min_width": null,
            "border": null,
            "align_items": null,
            "bottom": null,
            "_model_module": "@jupyter-widgets/base",
            "top": null,
            "grid_column": null,
            "overflow_y": null,
            "overflow_x": null,
            "grid_auto_flow": null,
            "grid_area": null,
            "grid_template_columns": null,
            "flex": null,
            "_model_name": "LayoutModel",
            "justify_items": null,
            "grid_row": null,
            "max_height": null,
            "align_content": null,
            "visibility": null,
            "align_self": null,
            "height": null,
            "min_height": null,
            "padding": null,
            "grid_auto_rows": null,
            "grid_gap": null,
            "max_width": null,
            "order": null,
            "_view_module_version": "1.2.0",
            "grid_template_areas": null,
            "object_position": null,
            "object_fit": null,
            "grid_auto_columns": null,
            "margin": null,
            "display": null,
            "left": null
          }
        },
        "87ca5d71cf7344cd822e13d35795a9e1": {
          "model_module": "@jupyter-widgets/controls",
          "model_name": "ProgressStyleModel",
          "model_module_version": "1.5.0",
          "state": {
            "_view_name": "StyleView",
            "_model_name": "ProgressStyleModel",
            "description_width": "",
            "_view_module": "@jupyter-widgets/base",
            "_model_module_version": "1.5.0",
            "_view_count": null,
            "_view_module_version": "1.2.0",
            "bar_color": null,
            "_model_module": "@jupyter-widgets/controls"
          }
        },
        "caea2a73d2c24a5f82c7c1b5e9c571af": {
          "model_module": "@jupyter-widgets/base",
          "model_name": "LayoutModel",
          "model_module_version": "1.2.0",
          "state": {
            "_view_name": "LayoutView",
            "grid_template_rows": null,
            "right": null,
            "justify_content": null,
            "_view_module": "@jupyter-widgets/base",
            "overflow": null,
            "_model_module_version": "1.2.0",
            "_view_count": null,
            "flex_flow": null,
            "width": null,
            "min_width": null,
            "border": null,
            "align_items": null,
            "bottom": null,
            "_model_module": "@jupyter-widgets/base",
            "top": null,
            "grid_column": null,
            "overflow_y": null,
            "overflow_x": null,
            "grid_auto_flow": null,
            "grid_area": null,
            "grid_template_columns": null,
            "flex": null,
            "_model_name": "LayoutModel",
            "justify_items": null,
            "grid_row": null,
            "max_height": null,
            "align_content": null,
            "visibility": null,
            "align_self": null,
            "height": null,
            "min_height": null,
            "padding": null,
            "grid_auto_rows": null,
            "grid_gap": null,
            "max_width": null,
            "order": null,
            "_view_module_version": "1.2.0",
            "grid_template_areas": null,
            "object_position": null,
            "object_fit": null,
            "grid_auto_columns": null,
            "margin": null,
            "display": null,
            "left": null
          }
        },
        "0a6ce264bf8f402097ec6dd420a70089": {
          "model_module": "@jupyter-widgets/controls",
          "model_name": "DescriptionStyleModel",
          "model_module_version": "1.5.0",
          "state": {
            "_view_name": "StyleView",
            "_model_name": "DescriptionStyleModel",
            "description_width": "",
            "_view_module": "@jupyter-widgets/base",
            "_model_module_version": "1.5.0",
            "_view_count": null,
            "_view_module_version": "1.2.0",
            "_model_module": "@jupyter-widgets/controls"
          }
        },
        "589708745cec450eaa8728fda2e5c084": {
          "model_module": "@jupyter-widgets/base",
          "model_name": "LayoutModel",
          "model_module_version": "1.2.0",
          "state": {
            "_view_name": "LayoutView",
            "grid_template_rows": null,
            "right": null,
            "justify_content": null,
            "_view_module": "@jupyter-widgets/base",
            "overflow": null,
            "_model_module_version": "1.2.0",
            "_view_count": null,
            "flex_flow": null,
            "width": null,
            "min_width": null,
            "border": null,
            "align_items": null,
            "bottom": null,
            "_model_module": "@jupyter-widgets/base",
            "top": null,
            "grid_column": null,
            "overflow_y": null,
            "overflow_x": null,
            "grid_auto_flow": null,
            "grid_area": null,
            "grid_template_columns": null,
            "flex": null,
            "_model_name": "LayoutModel",
            "justify_items": null,
            "grid_row": null,
            "max_height": null,
            "align_content": null,
            "visibility": null,
            "align_self": null,
            "height": null,
            "min_height": null,
            "padding": null,
            "grid_auto_rows": null,
            "grid_gap": null,
            "max_width": null,
            "order": null,
            "_view_module_version": "1.2.0",
            "grid_template_areas": null,
            "object_position": null,
            "object_fit": null,
            "grid_auto_columns": null,
            "margin": null,
            "display": null,
            "left": null
          }
        },
        "ef5919c426fa4071a1e3c7f6e52b437f": {
          "model_module": "@jupyter-widgets/controls",
          "model_name": "HBoxModel",
          "model_module_version": "1.5.0",
          "state": {
            "_view_name": "HBoxView",
            "_dom_classes": [],
            "_model_name": "HBoxModel",
            "_view_module": "@jupyter-widgets/controls",
            "_model_module_version": "1.5.0",
            "_view_count": null,
            "_view_module_version": "1.5.0",
            "box_style": "",
            "layout": "IPY_MODEL_002a37a056ee414ba22291d1aae0463a",
            "_model_module": "@jupyter-widgets/controls",
            "children": [
              "IPY_MODEL_de257cde7e474b7c915906fc2a3c5620",
              "IPY_MODEL_02bd5c20405c43689429c67799db6f05",
              "IPY_MODEL_3d6f31a4cf964b35be6d757fa2d89a3f"
            ]
          }
        },
        "002a37a056ee414ba22291d1aae0463a": {
          "model_module": "@jupyter-widgets/base",
          "model_name": "LayoutModel",
          "model_module_version": "1.2.0",
          "state": {
            "_view_name": "LayoutView",
            "grid_template_rows": null,
            "right": null,
            "justify_content": null,
            "_view_module": "@jupyter-widgets/base",
            "overflow": null,
            "_model_module_version": "1.2.0",
            "_view_count": null,
            "flex_flow": null,
            "width": null,
            "min_width": null,
            "border": null,
            "align_items": null,
            "bottom": null,
            "_model_module": "@jupyter-widgets/base",
            "top": null,
            "grid_column": null,
            "overflow_y": null,
            "overflow_x": null,
            "grid_auto_flow": null,
            "grid_area": null,
            "grid_template_columns": null,
            "flex": null,
            "_model_name": "LayoutModel",
            "justify_items": null,
            "grid_row": null,
            "max_height": null,
            "align_content": null,
            "visibility": null,
            "align_self": null,
            "height": null,
            "min_height": null,
            "padding": null,
            "grid_auto_rows": null,
            "grid_gap": null,
            "max_width": null,
            "order": null,
            "_view_module_version": "1.2.0",
            "grid_template_areas": null,
            "object_position": null,
            "object_fit": null,
            "grid_auto_columns": null,
            "margin": null,
            "display": null,
            "left": null
          }
        },
        "de257cde7e474b7c915906fc2a3c5620": {
          "model_module": "@jupyter-widgets/controls",
          "model_name": "HTMLModel",
          "model_module_version": "1.5.0",
          "state": {
            "_view_name": "HTMLView",
            "style": "IPY_MODEL_e984a7b0c66344d29c2b9604c3b56d71",
            "_dom_classes": [],
            "description": "",
            "_model_name": "HTMLModel",
            "placeholder": "​",
            "_view_module": "@jupyter-widgets/controls",
            "_model_module_version": "1.5.0",
            "value": "100%",
            "_view_count": null,
            "_view_module_version": "1.5.0",
            "description_tooltip": null,
            "_model_module": "@jupyter-widgets/controls",
            "layout": "IPY_MODEL_4d2a282ab8464617bf1d3f55ad3b79ac"
          }
        },
        "02bd5c20405c43689429c67799db6f05": {
          "model_module": "@jupyter-widgets/controls",
          "model_name": "FloatProgressModel",
          "model_module_version": "1.5.0",
          "state": {
            "_view_name": "ProgressView",
            "style": "IPY_MODEL_5f4767711dd740c7943f1dbb88cda4b9",
            "_dom_classes": [],
            "description": "",
            "_model_name": "FloatProgressModel",
            "bar_style": "success",
            "max": 1,
            "_view_module": "@jupyter-widgets/controls",
            "_model_module_version": "1.5.0",
            "value": 1,
            "_view_count": null,
            "_view_module_version": "1.5.0",
            "orientation": "horizontal",
            "min": 0,
            "description_tooltip": null,
            "_model_module": "@jupyter-widgets/controls",
            "layout": "IPY_MODEL_6b9a26e88a654d05860eb454536ec536"
          }
        },
        "3d6f31a4cf964b35be6d757fa2d89a3f": {
          "model_module": "@jupyter-widgets/controls",
          "model_name": "HTMLModel",
          "model_module_version": "1.5.0",
          "state": {
            "_view_name": "HTMLView",
            "style": "IPY_MODEL_f07316f7616e4893ae9d12f328138c25",
            "_dom_classes": [],
            "description": "",
            "_model_name": "HTMLModel",
            "placeholder": "​",
            "_view_module": "@jupyter-widgets/controls",
            "_model_module_version": "1.5.0",
            "value": " 1/1 [00:00&lt;00:00, 14.17it/s]",
            "_view_count": null,
            "_view_module_version": "1.5.0",
            "description_tooltip": null,
            "_model_module": "@jupyter-widgets/controls",
            "layout": "IPY_MODEL_241045f473194c81b61ee397774f3c26"
          }
        },
        "e984a7b0c66344d29c2b9604c3b56d71": {
          "model_module": "@jupyter-widgets/controls",
          "model_name": "DescriptionStyleModel",
          "model_module_version": "1.5.0",
          "state": {
            "_view_name": "StyleView",
            "_model_name": "DescriptionStyleModel",
            "description_width": "",
            "_view_module": "@jupyter-widgets/base",
            "_model_module_version": "1.5.0",
            "_view_count": null,
            "_view_module_version": "1.2.0",
            "_model_module": "@jupyter-widgets/controls"
          }
        },
        "4d2a282ab8464617bf1d3f55ad3b79ac": {
          "model_module": "@jupyter-widgets/base",
          "model_name": "LayoutModel",
          "model_module_version": "1.2.0",
          "state": {
            "_view_name": "LayoutView",
            "grid_template_rows": null,
            "right": null,
            "justify_content": null,
            "_view_module": "@jupyter-widgets/base",
            "overflow": null,
            "_model_module_version": "1.2.0",
            "_view_count": null,
            "flex_flow": null,
            "width": null,
            "min_width": null,
            "border": null,
            "align_items": null,
            "bottom": null,
            "_model_module": "@jupyter-widgets/base",
            "top": null,
            "grid_column": null,
            "overflow_y": null,
            "overflow_x": null,
            "grid_auto_flow": null,
            "grid_area": null,
            "grid_template_columns": null,
            "flex": null,
            "_model_name": "LayoutModel",
            "justify_items": null,
            "grid_row": null,
            "max_height": null,
            "align_content": null,
            "visibility": null,
            "align_self": null,
            "height": null,
            "min_height": null,
            "padding": null,
            "grid_auto_rows": null,
            "grid_gap": null,
            "max_width": null,
            "order": null,
            "_view_module_version": "1.2.0",
            "grid_template_areas": null,
            "object_position": null,
            "object_fit": null,
            "grid_auto_columns": null,
            "margin": null,
            "display": null,
            "left": null
          }
        },
        "5f4767711dd740c7943f1dbb88cda4b9": {
          "model_module": "@jupyter-widgets/controls",
          "model_name": "ProgressStyleModel",
          "model_module_version": "1.5.0",
          "state": {
            "_view_name": "StyleView",
            "_model_name": "ProgressStyleModel",
            "description_width": "",
            "_view_module": "@jupyter-widgets/base",
            "_model_module_version": "1.5.0",
            "_view_count": null,
            "_view_module_version": "1.2.0",
            "bar_color": null,
            "_model_module": "@jupyter-widgets/controls"
          }
        },
        "6b9a26e88a654d05860eb454536ec536": {
          "model_module": "@jupyter-widgets/base",
          "model_name": "LayoutModel",
          "model_module_version": "1.2.0",
          "state": {
            "_view_name": "LayoutView",
            "grid_template_rows": null,
            "right": null,
            "justify_content": null,
            "_view_module": "@jupyter-widgets/base",
            "overflow": null,
            "_model_module_version": "1.2.0",
            "_view_count": null,
            "flex_flow": null,
            "width": null,
            "min_width": null,
            "border": null,
            "align_items": null,
            "bottom": null,
            "_model_module": "@jupyter-widgets/base",
            "top": null,
            "grid_column": null,
            "overflow_y": null,
            "overflow_x": null,
            "grid_auto_flow": null,
            "grid_area": null,
            "grid_template_columns": null,
            "flex": null,
            "_model_name": "LayoutModel",
            "justify_items": null,
            "grid_row": null,
            "max_height": null,
            "align_content": null,
            "visibility": null,
            "align_self": null,
            "height": null,
            "min_height": null,
            "padding": null,
            "grid_auto_rows": null,
            "grid_gap": null,
            "max_width": null,
            "order": null,
            "_view_module_version": "1.2.0",
            "grid_template_areas": null,
            "object_position": null,
            "object_fit": null,
            "grid_auto_columns": null,
            "margin": null,
            "display": null,
            "left": null
          }
        },
        "f07316f7616e4893ae9d12f328138c25": {
          "model_module": "@jupyter-widgets/controls",
          "model_name": "DescriptionStyleModel",
          "model_module_version": "1.5.0",
          "state": {
            "_view_name": "StyleView",
            "_model_name": "DescriptionStyleModel",
            "description_width": "",
            "_view_module": "@jupyter-widgets/base",
            "_model_module_version": "1.5.0",
            "_view_count": null,
            "_view_module_version": "1.2.0",
            "_model_module": "@jupyter-widgets/controls"
          }
        },
        "241045f473194c81b61ee397774f3c26": {
          "model_module": "@jupyter-widgets/base",
          "model_name": "LayoutModel",
          "model_module_version": "1.2.0",
          "state": {
            "_view_name": "LayoutView",
            "grid_template_rows": null,
            "right": null,
            "justify_content": null,
            "_view_module": "@jupyter-widgets/base",
            "overflow": null,
            "_model_module_version": "1.2.0",
            "_view_count": null,
            "flex_flow": null,
            "width": null,
            "min_width": null,
            "border": null,
            "align_items": null,
            "bottom": null,
            "_model_module": "@jupyter-widgets/base",
            "top": null,
            "grid_column": null,
            "overflow_y": null,
            "overflow_x": null,
            "grid_auto_flow": null,
            "grid_area": null,
            "grid_template_columns": null,
            "flex": null,
            "_model_name": "LayoutModel",
            "justify_items": null,
            "grid_row": null,
            "max_height": null,
            "align_content": null,
            "visibility": null,
            "align_self": null,
            "height": null,
            "min_height": null,
            "padding": null,
            "grid_auto_rows": null,
            "grid_gap": null,
            "max_width": null,
            "order": null,
            "_view_module_version": "1.2.0",
            "grid_template_areas": null,
            "object_position": null,
            "object_fit": null,
            "grid_auto_columns": null,
            "margin": null,
            "display": null,
            "left": null
          }
        }
      }
    }
  },
  "cells": [
    {
      "cell_type": "markdown",
      "metadata": {
        "id": "view-in-github",
        "colab_type": "text"
      },
      "source": [
        "<a href=\"https://colab.research.google.com/github/kd303/trnsfrmr_pytrch_end_p1/blob/main/session_07_hyperparams/assignment/session_7_evaluation_score_assignment.ipynb\" target=\"_parent\"><img src=\"https://colab.research.google.com/assets/colab-badge.svg\" alt=\"Open In Colab\"/></a>"
      ]
    },
    {
      "cell_type": "code",
      "metadata": {
        "id": "cpdpoFgSUf6r"
      },
      "source": [
        "%matplotlib inline  "
      ],
      "execution_count": null,
      "outputs": []
    },
    {
      "cell_type": "code",
      "metadata": {
        "id": "_bMim88NUm5w"
      },
      "source": [
        "from __future__ import unicode_literals, print_function, division\n",
        "from io import open\n",
        "import unicodedata\n",
        "import string\n",
        "import re\n",
        "import random\n",
        "\n",
        "import torch\n",
        "import torch.nn as nn\n",
        "from torch import optim\n",
        "import torch.nn.functional as F\n",
        "\n",
        "device = torch.device(\"cuda\" if torch.cuda.is_available() else \"cpu\") "
      ],
      "execution_count": null,
      "outputs": []
    },
    {
      "cell_type": "code",
      "metadata": {
        "colab": {
          "base_uri": "https://localhost:8080/"
        },
        "id": "ouQ9-87EUtZP",
        "outputId": "4f68df2b-c17b-4c6c-adc2-1f17c7bc1829"
      },
      "source": [
        "!wget https://download.pytorch.org/tutorial/data.zip\n",
        "\n",
        "!unzip data.zip"
      ],
      "execution_count": null,
      "outputs": [
        {
          "output_type": "stream",
          "name": "stdout",
          "text": [
            "--2021-12-03 18:28:00--  https://download.pytorch.org/tutorial/data.zip\n",
            "Resolving download.pytorch.org (download.pytorch.org)... 52.85.79.74, 52.85.79.72, 52.85.79.49, ...\n",
            "Connecting to download.pytorch.org (download.pytorch.org)|52.85.79.74|:443... connected.\n",
            "HTTP request sent, awaiting response... 200 OK\n",
            "Length: 2882130 (2.7M) [application/zip]\n",
            "Saving to: ‘data.zip.1’\n",
            "\n",
            "data.zip.1          100%[===================>]   2.75M  5.77MB/s    in 0.5s    \n",
            "\n",
            "2021-12-03 18:28:01 (5.77 MB/s) - ‘data.zip.1’ saved [2882130/2882130]\n",
            "\n",
            "Archive:  data.zip\n",
            "replace data/eng-fra.txt? [y]es, [n]o, [A]ll, [N]one, [r]ename: n\n",
            "replace data/names/Arabic.txt? [y]es, [n]o, [A]ll, [N]one, [r]ename: N\n"
          ]
        }
      ]
    },
    {
      "cell_type": "code",
      "metadata": {
        "id": "I4aVFLPSU3tj"
      },
      "source": [
        ""
      ],
      "execution_count": null,
      "outputs": []
    },
    {
      "cell_type": "code",
      "metadata": {
        "id": "vZoM6ScOU4IO"
      },
      "source": [
        "SOS_token = 0\n",
        "EOS_token = 1\n",
        "\n",
        "\n",
        "class Lang:\n",
        "    def __init__(self, name):\n",
        "        self.name = name\n",
        "        self.word2index = {}\n",
        "        self.word2count = {}\n",
        "        self.index2word = {0: \"SOS\", 1: \"EOS\"}\n",
        "        self.n_words = 2  # Count SOS and EOS\n",
        "\n",
        "    def addSentence(self, sentence):\n",
        "        for word in sentence.split(' '):\n",
        "            self.addWord(word)\n",
        "\n",
        "    def addWord(self, word):\n",
        "        if word not in self.word2index:\n",
        "            self.word2index[word] = self.n_words\n",
        "            self.word2count[word] = 1\n",
        "            self.index2word[self.n_words] = word\n",
        "            self.n_words += 1\n",
        "        else:\n",
        "            self.word2count[word] += 1"
      ],
      "execution_count": null,
      "outputs": []
    },
    {
      "cell_type": "code",
      "metadata": {
        "id": "NUviexO8U85C"
      },
      "source": [
        "# Turn a Unicode string to plain ASCII, thanks to\n",
        "# https://stackoverflow.com/a/518232/2809427\n",
        "def unicodeToAscii(s):\n",
        "    return ''.join(\n",
        "        c for c in unicodedata.normalize('NFD', s)\n",
        "        if unicodedata.category(c) != 'Mn'\n",
        "    )\n",
        "\n",
        "# Lowercase, trim, and remove non-letter characters\n",
        "\n",
        "\n",
        "def normalizeString(s):\n",
        "    s = unicodeToAscii(s.lower().strip())\n",
        "    s = re.sub(r\"([.!?])\", r\" \\1\", s)\n",
        "    s = re.sub(r\"[^a-zA-Z.!?]+\", r\" \", s)\n",
        "    return s"
      ],
      "execution_count": null,
      "outputs": []
    },
    {
      "cell_type": "code",
      "metadata": {
        "id": "IZtmF9xLVAB8"
      },
      "source": [
        "def readLangs(lang1, lang2, reverse=False):\n",
        "    print(\"Reading lines...\")\n",
        "\n",
        "    # Read the file and split into lines\n",
        "    lines = open('data/%s-%s.txt' % (lang1, lang2), encoding='utf-8').\\\n",
        "        read().strip().split('\\n')\n",
        "\n",
        "    # Split every line into pairs and normalize\n",
        "    pairs = [[normalizeString(s) for s in l.split('\\t')] for l in lines]\n",
        "\n",
        "    # Reverse pairs, make Lang instances\n",
        "    if reverse:\n",
        "        pairs = [list(reversed(p)) for p in pairs]\n",
        "        input_lang = Lang(lang2)\n",
        "        output_lang = Lang(lang1)\n",
        "    else:\n",
        "        input_lang = Lang(lang1)\n",
        "        output_lang = Lang(lang2)\n",
        "\n",
        "    return input_lang, output_lang, pairs"
      ],
      "execution_count": null,
      "outputs": []
    },
    {
      "cell_type": "code",
      "metadata": {
        "id": "9HP2VtOpVFSe"
      },
      "source": [
        "MAX_LENGTH = 10\n",
        "\n",
        "eng_prefixes = (\n",
        "    \"i am \", \"i m \",\n",
        "    \"he is\", \"he s \",\n",
        "    \"she is\", \"she s \",\n",
        "    \"you are\", \"you re \",\n",
        "    \"we are\", \"we re \",\n",
        "    \"they are\", \"they re \"\n",
        ")\n",
        "\n",
        "\n",
        "def filterPair(p):\n",
        "    return len(p[0].split(' ')) < MAX_LENGTH and \\\n",
        "        len(p[1].split(' ')) < MAX_LENGTH and \\\n",
        "        p[1].startswith(eng_prefixes)\n",
        "\n",
        "\n",
        "def filterPairs(pairs):\n",
        "    return [pair for pair in pairs if filterPair(pair)]"
      ],
      "execution_count": null,
      "outputs": []
    },
    {
      "cell_type": "code",
      "metadata": {
        "colab": {
          "base_uri": "https://localhost:8080/"
        },
        "id": "_Uaz0YRCVHmX",
        "outputId": "a4af67d2-c653-4a81-d10a-bccd0d840b77"
      },
      "source": [
        "def prepareData(lang1, lang2, reverse=False):\n",
        "    input_lang, output_lang, pairs = readLangs(lang1, lang2, reverse)\n",
        "    print(\"Read %s sentence pairs\" % len(pairs))\n",
        "    pairs = filterPairs(pairs)\n",
        "    print(\"Trimmed to %s sentence pairs\" % len(pairs))\n",
        "    print(\"Counting words...\")\n",
        "    for pair in pairs:\n",
        "        input_lang.addSentence(pair[0])\n",
        "        output_lang.addSentence(pair[1])\n",
        "    print(\"Counted words:\")\n",
        "    print(input_lang.name, input_lang.n_words)\n",
        "    print(output_lang.name, output_lang.n_words)\n",
        "    return input_lang, output_lang, pairs\n",
        "\n",
        "\n",
        "input_lang, output_lang, pairs = prepareData('eng', 'fra', True)\n",
        "print(random.choice(pairs))"
      ],
      "execution_count": null,
      "outputs": [
        {
          "output_type": "stream",
          "name": "stdout",
          "text": [
            "Reading lines...\n",
            "Read 135842 sentence pairs\n",
            "Trimmed to 10599 sentence pairs\n",
            "Counting words...\n",
            "Counted words:\n",
            "fra 4345\n",
            "eng 2803\n",
            "['je prepare le the .', 'i m making tea .']\n"
          ]
        }
      ]
    },
    {
      "cell_type": "code",
      "metadata": {
        "id": "6OXai1X8VO6Q"
      },
      "source": [
        "class EncoderRNN(nn.Module):\n",
        "    def __init__(self, input_size, hidden_size):\n",
        "        super(EncoderRNN, self).__init__()\n",
        "        self.hidden_size = hidden_size\n",
        "\n",
        "        self.embedding = nn.Embedding(input_size, hidden_size)\n",
        "        self.gru = nn.GRU(hidden_size, hidden_size)\n",
        "\n",
        "    def forward(self, input, hidden):\n",
        "        embedded = self.embedding(input).view(1, 1, -1)\n",
        "        output = embedded\n",
        "        output, hidden = self.gru(output, hidden)\n",
        "        return output, hidden\n",
        "\n",
        "    def initHidden(self):\n",
        "        return torch.zeros(1, 1, self.hidden_size, device=device)"
      ],
      "execution_count": null,
      "outputs": []
    },
    {
      "cell_type": "code",
      "metadata": {
        "id": "3srQpA62VSV1"
      },
      "source": [
        "class AttnDecoderRNN(nn.Module):\n",
        "    def __init__(self, hidden_size, output_size, dropout_p=0.1, max_length=MAX_LENGTH):\n",
        "        super(AttnDecoderRNN, self).__init__()\n",
        "        self.hidden_size = hidden_size\n",
        "        self.output_size = output_size\n",
        "        self.dropout_p = dropout_p\n",
        "        self.max_length = max_length\n",
        "\n",
        "        self.embedding = nn.Embedding(self.output_size, self.hidden_size)\n",
        "        self.attn = nn.Linear(self.hidden_size * 2, self.max_length)\n",
        "        self.attn_combine = nn.Linear(self.hidden_size * 2, self.hidden_size)\n",
        "        self.dropout = nn.Dropout(self.dropout_p)\n",
        "        self.gru = nn.GRU(self.hidden_size, self.hidden_size)\n",
        "        self.out = nn.Linear(self.hidden_size, self.output_size)\n",
        "\n",
        "    def forward(self, input, hidden, encoder_outputs):\n",
        "        embedded = self.embedding(input).view(1, 1, -1)\n",
        "        embedded = self.dropout(embedded)\n",
        "\n",
        "        attn_weights = F.softmax(\n",
        "            self.attn(torch.cat((embedded[0], hidden[0]), 1)), dim=1)\n",
        "        attn_applied = torch.bmm(attn_weights.unsqueeze(0),\n",
        "                                 encoder_outputs.unsqueeze(0))\n",
        "\n",
        "        output = torch.cat((embedded[0], attn_applied[0]), 1)\n",
        "        output = self.attn_combine(output).unsqueeze(0)\n",
        "\n",
        "        output, hidden = self.gru(output, hidden)\n",
        "        output = F.relu(output)\n",
        "\n",
        "        output = F.log_softmax(self.out(output[0]), dim=1)\n",
        "        return output, hidden, attn_weights\n",
        "\n",
        "    def initHidden(self):\n",
        "        return torch.zeros(1, 1, self.hidden_size, device=device)"
      ],
      "execution_count": null,
      "outputs": []
    },
    {
      "cell_type": "code",
      "metadata": {
        "id": "MmmrZF3GVVI0"
      },
      "source": [
        "def indexesFromSentence(lang, sentence):\n",
        "    return [lang.word2index[word] for word in sentence.split(' ')]\n",
        "\n",
        "\n",
        "def tensorFromSentence(lang, sentence):\n",
        "    indexes = indexesFromSentence(lang, sentence)\n",
        "    indexes.append(EOS_token)\n",
        "    return torch.tensor(indexes, dtype=torch.long, device=device).view(-1, 1)\n",
        "\n",
        "\n",
        "def tensorsFromPair(pair):\n",
        "    input_tensor = tensorFromSentence(input_lang, pair[0])\n",
        "    target_tensor = tensorFromSentence(output_lang, pair[1])\n",
        "    return (input_tensor, target_tensor)"
      ],
      "execution_count": null,
      "outputs": []
    },
    {
      "cell_type": "code",
      "metadata": {
        "id": "KnSMvCBKVZgX"
      },
      "source": [
        "teacher_forcing_ratio = 0.5\n",
        "\n",
        "\n",
        "def train(input_tensor, target_tensor, encoder, decoder, encoder_optimizer, decoder_optimizer, criterion, max_length=MAX_LENGTH):\n",
        "    encoder_hidden = encoder.initHidden()\n",
        "\n",
        "    encoder_optimizer.zero_grad()\n",
        "    decoder_optimizer.zero_grad()\n",
        "\n",
        "    input_length = input_tensor.size(0)\n",
        "    target_length = target_tensor.size(0)\n",
        "\n",
        "    encoder_outputs = torch.zeros(max_length, encoder.hidden_size, device=device)\n",
        "\n",
        "    loss = 0\n",
        "\n",
        "    for ei in range(input_length):\n",
        "        encoder_output, encoder_hidden = encoder(\n",
        "            input_tensor[ei], encoder_hidden)\n",
        "        encoder_outputs[ei] = encoder_output[0, 0]\n",
        "\n",
        "    decoder_input = torch.tensor([[SOS_token]], device=device)\n",
        "\n",
        "    decoder_hidden = encoder_hidden\n",
        "\n",
        "    use_teacher_forcing = True if random.random() < teacher_forcing_ratio else False\n",
        "\n",
        "    if use_teacher_forcing:\n",
        "        # Teacher forcing: Feed the target as the next input\n",
        "        for di in range(target_length):\n",
        "            decoder_output, decoder_hidden, decoder_attention = decoder(\n",
        "                decoder_input, decoder_hidden, encoder_outputs)\n",
        "            loss += criterion(decoder_output, target_tensor[di])\n",
        "            decoder_input = target_tensor[di]  # Teacher forcing\n",
        "\n",
        "    else:\n",
        "        # Without teacher forcing: use its own predictions as the next input\n",
        "        for di in range(target_length):\n",
        "            decoder_output, decoder_hidden, decoder_attention = decoder(\n",
        "                decoder_input, decoder_hidden, encoder_outputs)\n",
        "            topv, topi = decoder_output.topk(1)\n",
        "            decoder_input = topi.squeeze().detach()  # detach from history as input\n",
        "\n",
        "            loss += criterion(decoder_output, target_tensor[di])\n",
        "            if decoder_input.item() == EOS_token:\n",
        "                break\n",
        "\n",
        "    loss.backward()\n",
        "\n",
        "    encoder_optimizer.step()\n",
        "    decoder_optimizer.step()\n",
        "\n",
        "    return loss.item() / target_length"
      ],
      "execution_count": null,
      "outputs": []
    },
    {
      "cell_type": "code",
      "metadata": {
        "id": "8GOQgqNGWG9q"
      },
      "source": [
        "import time\n",
        "import math\n",
        "\n",
        "\n",
        "def asMinutes(s):\n",
        "    m = math.floor(s / 60)\n",
        "    s -= m * 60\n",
        "    return '%dm %ds' % (m, s)\n",
        "\n",
        "\n",
        "def timeSince(since, percent):\n",
        "    now = time.time()\n",
        "    s = now - since\n",
        "    es = s / (percent)\n",
        "    rs = es - s\n",
        "    return '%s (- %s)' % (asMinutes(s), asMinutes(rs))"
      ],
      "execution_count": null,
      "outputs": []
    },
    {
      "cell_type": "code",
      "metadata": {
        "id": "9ngxIYmnjOYQ"
      },
      "source": [
        "import math"
      ],
      "execution_count": null,
      "outputs": []
    },
    {
      "cell_type": "code",
      "metadata": {
        "id": "UI2ACtm4WJkb"
      },
      "source": [
        "def trainIters(encoder, decoder, n_iters, print_every=1000, plot_every=100, learning_rate=0.01):\n",
        "    start = time.time()\n",
        "    plot_losses = []\n",
        "    print_loss_total = 0  # Reset every print_every\n",
        "    plot_loss_total = 0  # Reset every plot_every\n",
        "\n",
        "    encoder_optimizer = optim.SGD(encoder.parameters(), lr=learning_rate)\n",
        "    decoder_optimizer = optim.SGD(decoder.parameters(), lr=learning_rate)\n",
        "    training_pairs = [tensorsFromPair(random.choice(pairs))\n",
        "                      for i in range(n_iters)]\n",
        "    criterion = nn.NLLLoss()\n",
        "\n",
        "    for iter in range(1, n_iters + 1):\n",
        "        training_pair = training_pairs[iter - 1]\n",
        "        input_tensor = training_pair[0]\n",
        "        target_tensor = training_pair[1]\n",
        "\n",
        "        loss = train(input_tensor, target_tensor, encoder,\n",
        "                     decoder, encoder_optimizer, decoder_optimizer, criterion)\n",
        "        print_loss_total += loss\n",
        "        plot_loss_total += loss\n",
        "\n",
        "        if iter % print_every == 0:\n",
        "            print_loss_avg = print_loss_total / print_every\n",
        "            print_loss_total = 0\n",
        "            print('%s (%d %d%%) %.4f %.4f' % (timeSince(start, iter / n_iters),\n",
        "                                         iter, iter / n_iters * 100, print_loss_avg, math.exp(print_loss_avg)))\n",
        "\n",
        "        if iter % plot_every == 0:\n",
        "            plot_loss_avg = plot_loss_total / plot_every\n",
        "            plot_losses.append(plot_loss_avg)\n",
        "            plot_loss_total = 0\n",
        "\n",
        "    showPlot(plot_losses)"
      ],
      "execution_count": null,
      "outputs": []
    },
    {
      "cell_type": "code",
      "metadata": {
        "id": "2yC-a2RZWOP9"
      },
      "source": [
        "import matplotlib.pyplot as plt\n",
        "plt.switch_backend('agg')\n",
        "import matplotlib.ticker as ticker\n",
        "import numpy as np\n",
        "\n",
        "\n",
        "def showPlot(points):\n",
        "    plt.figure()\n",
        "    fig, ax = plt.subplots()\n",
        "    # this locator puts ticks at regular intervals\n",
        "    loc = ticker.MultipleLocator(base=0.2)\n",
        "    ax.yaxis.set_major_locator(loc)\n",
        "    plt.plot(points)"
      ],
      "execution_count": null,
      "outputs": []
    },
    {
      "cell_type": "code",
      "metadata": {
        "id": "pu1YY8ugWRxL"
      },
      "source": [
        "def evaluate(encoder, decoder, sentence, max_length=MAX_LENGTH):\n",
        "    with torch.no_grad():\n",
        "        input_tensor = tensorFromSentence(input_lang, sentence)\n",
        "        input_length = input_tensor.size()[0]\n",
        "        encoder_hidden = encoder.initHidden()\n",
        "\n",
        "        encoder_outputs = torch.zeros(max_length, encoder.hidden_size, device=device)\n",
        "\n",
        "        for ei in range(input_length):\n",
        "            encoder_output, encoder_hidden = encoder(input_tensor[ei],\n",
        "                                                     encoder_hidden)\n",
        "            encoder_outputs[ei] += encoder_output[0, 0]\n",
        "\n",
        "        decoder_input = torch.tensor([[SOS_token]], device=device)  # SOS\n",
        "\n",
        "        decoder_hidden = encoder_hidden\n",
        "\n",
        "        decoded_words = []\n",
        "        decoder_attentions = torch.zeros(max_length, max_length)\n",
        "\n",
        "        for di in range(max_length):\n",
        "            decoder_output, decoder_hidden, decoder_attention = decoder(\n",
        "                decoder_input, decoder_hidden, encoder_outputs)\n",
        "            decoder_attentions[di] = decoder_attention.data\n",
        "            topv, topi = decoder_output.data.topk(1)\n",
        "            if topi.item() == EOS_token:\n",
        "                decoded_words.append('<EOS>')\n",
        "                break\n",
        "            else:\n",
        "                decoded_words.append(output_lang.index2word[topi.item()])\n",
        "\n",
        "            decoder_input = topi.squeeze().detach()\n",
        "\n",
        "        return decoded_words, decoder_attentions[:di + 1]"
      ],
      "execution_count": null,
      "outputs": []
    },
    {
      "cell_type": "markdown",
      "metadata": {
        "id": "Smugp_MhbJjn"
      },
      "source": [
        "**BLEU (BiLingual Evaluation Understudy)** is a metric for automatically evaluating machine-translated text. The BLEU score is a number between zero and one that measures the similarity of the machine-translated text to a set of high quality reference translations. A value of 0 means that the machine-translated output has no overlap with the reference translation (low quality) while a value of 1 means there is perfect overlap with the reference translations (high quality).\n",
        "\n",
        "It has been shown that BLEU scores correlate well with human judgment of translation quality. Note that even human translators do not achieve a perfect score of 1.0.\n",
        "\n",
        "BLEU Score |\tInterpretation\n",
        "---|---\n",
        "< 10    |\tAlmost useless\n",
        "10 - 19 |\tHard to get the gist\n",
        "20 - 29\t|The gist is clear, but has significant grammatical errors\n",
        "30 - 40\t| Understandable to good translations\n",
        "40 - 50\t| High quality translations\n",
        "50 - 60\t| Very high quality, adequate, and fluent translations\n",
        "60\t| Quality often better than human\n",
        "\n",
        "**Following is the scale**\n",
        "\n",
        "![image.png](data:image/png;base64,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)"
      ]
    },
    {
      "cell_type": "code",
      "metadata": {
        "id": "d47p_SaVWW08"
      },
      "source": [
        "from torchtext.data.metrics import bleu_score\n",
        "def evaluate_bleu_score(encoder, decoder, n=10, score_type ='BLEU'):\n",
        "    ref_d = []\n",
        "    pred_d = []\n",
        "    score = -1\n",
        "    for i in range(n):\n",
        "        pair = random.choice(pairs)\n",
        "        # print('Original ', pair[0])\n",
        "        \n",
        "        ref_d.append(pair[1].strip().split(' '))\n",
        "        output_words, attentions = evaluate(encoder, decoder, pair[0])\n",
        "        pred_d.append(output_words[:-1])\n",
        "        output_sentence = ' '.join(output_words[:-1])\n",
        "        print('Translated (truth): ', pair[1])\n",
        "        print('Translated (pred): ' , output_sentence)\n",
        "        print('')\n",
        "    if(score_type == 'BLEU'):\n",
        "      \n",
        "      # score = bleu_score(candidate_corpus, references_corpus=references_corpus, max_n=4, weights=[0.25,0.25,0.25,0.25])\n",
        "      score = bleu_score(candidate_corpus, references_corpus=references_corpus, max_n=1, weights=[1])\n",
        "    print(score)"
      ],
      "execution_count": 38,
      "outputs": []
    },
    {
      "cell_type": "code",
      "metadata": {
        "id": "E5xArDswP4CK"
      },
      "source": [
        ""
      ],
      "execution_count": null,
      "outputs": []
    },
    {
      "cell_type": "code",
      "metadata": {
        "colab": {
          "base_uri": "https://localhost:8080/"
        },
        "id": "RIERWkCdePDF",
        "outputId": "8685660f-840d-43ee-8856-235db5f91c04"
      },
      "source": [
        "from torchtext.data.metrics import bleu_score\n",
        "candidate_corpus = [['you', 're', 'so', 'predictable', '.'], ['i', 'm', 'sad', 'without', 'you', '.']]\n",
        "references_corpus =[[['you', 're', 'so', '!', '!'], ['Completely', 'Different']], [['My', 'full', 'pytorch', 'test', 'lapuza']]]\n",
        "bleu_score(candidate_corpus, references_corpus=references_corpus, max_n=2, weights=[0.20, 0.80])"
      ],
      "execution_count": null,
      "outputs": [
        {
          "output_type": "execute_result",
          "data": {
            "text/plain": [
              "0.2315131574869156"
            ]
          },
          "metadata": {},
          "execution_count": 148
        }
      ]
    },
    {
      "cell_type": "code",
      "metadata": {
        "id": "sdtQa2AjazWr"
      },
      "source": [
        "from torchtext.data.metrics import bleu_score\n",
        "# n_grams are kept at 2, instead of default 4\n",
        "def cal_bleu_score(ground_truth, predicted_wrds):\n",
        "  # both are arrays and not sentences\n",
        "  print(ground_truth, predicted_wrds)\n",
        "  g_trth = []\n",
        "  p_wrds = []\n",
        "  g_trth.append(ground_truth)\n",
        "  p_wrds.append(predicted_wrds[:-1])\n",
        "  # print('len_grd_trt ',len(ground_truth), 'predicted_wrds :  ', len(predicted_wrds), ' type : ', type(predicted_wrds))\n",
        "  return bleu_score(g_trth,p_wrds, max_n=1, weights=[1])\n"
      ],
      "execution_count": 32,
      "outputs": []
    },
    {
      "cell_type": "code",
      "source": [
        "cal_bleu_score"
      ],
      "metadata": {
        "id": "rDv1PU5KXkGm"
      },
      "execution_count": null,
      "outputs": []
    },
    {
      "cell_type": "code",
      "metadata": {
        "colab": {
          "base_uri": "https://localhost:8080/"
        },
        "id": "SRELQ8T4ewAW",
        "outputId": "9db08d51-4f78-4fe2-c591-94db7840fb78"
      },
      "source": [
        "score_b = evaluate_bleu_score(encoder1, attn_decoder1, n=20)\n",
        "\n",
        "score_b"
      ],
      "execution_count": 39,
      "outputs": [
        {
          "output_type": "stream",
          "name": "stdout",
          "text": [
            "Translated (truth):  i m not signing anything .\n",
            "Translated (pred):  i i i i i i i i i\n",
            "\n",
            "Translated (truth):  we re both right .\n",
            "Translated (pred):  we we we we we we we we we\n",
            "\n",
            "Translated (truth):  i m getting hungry .\n",
            "Translated (pred):  i i i i i i i i i\n",
            "\n",
            "Translated (truth):  i m not sure about that .\n",
            "Translated (pred):  we we we we we we we we we\n",
            "\n",
            "Translated (truth):  you re out of booze .\n",
            "Translated (pred):  he s he s he s he s he\n",
            "\n",
            "Translated (truth):  i m proud of my children .\n",
            "Translated (pred):  i i i i i i i i i\n",
            "\n",
            "Translated (truth):  you re too skinny .\n",
            "Translated (pred):  you you you you you you you you you\n",
            "\n",
            "Translated (truth):  we re blood brothers .\n",
            "Translated (pred):  we we we we we we we we we\n",
            "\n",
            "Translated (truth):  i m not sleepy .\n",
            "Translated (pred):  i i i i i i i i i\n",
            "\n",
            "Translated (truth):  i m sorry if i frightened you .\n",
            "Translated (pred):  i i i i i i i i i\n",
            "\n",
            "Translated (truth):  i m not telling you again .\n",
            "Translated (pred):  we we we we we we we we we\n",
            "\n",
            "Translated (truth):  he s not going to visit you tomorrow .\n",
            "Translated (pred):  not re .\n",
            "\n",
            "Translated (truth):  you re always complaining about something .\n",
            "Translated (pred):  re re re re re re re re re\n",
            "\n",
            "Translated (truth):  i m divorced .\n",
            "Translated (pred):  i i i i i i i i i\n",
            "\n",
            "Translated (truth):  you re thin .\n",
            "Translated (pred):  you you you you you you you you you\n",
            "\n",
            "Translated (truth):  i m sorry we re completely sold out .\n",
            "Translated (pred):  i i i i i i i i i\n",
            "\n",
            "Translated (truth):  i m just getting back to basics .\n",
            "Translated (pred):  we we we we we we we we we\n",
            "\n",
            "Translated (truth):  she is not afraid of anything .\n",
            "Translated (pred):  you you you you you you you you you\n",
            "\n",
            "Translated (truth):  you re taller than me .\n",
            "Translated (pred):  you you you you you you you you you\n",
            "\n",
            "Translated (truth):  i m always happy .\n",
            "Translated (pred):  i i i i i i i i i\n",
            "\n",
            "0.27272728085517883\n"
          ]
        }
      ]
    },
    {
      "cell_type": "code",
      "metadata": {
        "id": "As3CiT9zbnpR"
      },
      "source": [
        ""
      ],
      "execution_count": null,
      "outputs": []
    },
    {
      "cell_type": "code",
      "metadata": {
        "id": "52fdkxX5cb-R"
      },
      "source": [
        ""
      ],
      "execution_count": null,
      "outputs": []
    },
    {
      "cell_type": "code",
      "metadata": {
        "id": "dQT2mWzLII43"
      },
      "source": [
        ""
      ],
      "execution_count": null,
      "outputs": []
    },
    {
      "cell_type": "code",
      "metadata": {
        "id": "HU57nsL0cp0t"
      },
      "source": [
        "from bert_score import score\n",
        "\n",
        "def cal_bert_score(ground_truth, predicted_wrds):\n",
        "  P, R, F1 = score(predicted_wrds, ground_truth, lang=\"en\", verbose=True)\n",
        "  return F1\n"
      ],
      "execution_count": null,
      "outputs": []
    },
    {
      "cell_type": "code",
      "metadata": {
        "colab": {
          "base_uri": "https://localhost:8080/",
          "height": 369
        },
        "id": "mlS-MEuDWbTy",
        "outputId": "875e9cba-330c-415a-a6c8-43c8cfbcb1d0"
      },
      "source": [
        "hidden_size = 256\n",
        "encoder1 = EncoderRNN(input_lang.n_words, hidden_size).to(device)\n",
        "attn_decoder1 = AttnDecoderRNN(hidden_size, output_lang.n_words, dropout_p=0.1).to(device)\n",
        "# 75000 - just for testing the scores\n",
        "trainIters(encoder1, attn_decoder1, 25000, print_every=5000)\n",
        "\n",
        "## prints (time) (epoch %epochs complete) loss PPL(exp(loss))"
      ],
      "execution_count": null,
      "outputs": [
        {
          "output_type": "stream",
          "name": "stdout",
          "text": [
            "2m 1s (- 8m 7s) (5000 20%) 2.9487 19.0815\n",
            "4m 1s (- 6m 2s) (10000 40%) 2.4837 11.9859\n",
            "6m 0s (- 4m 0s) (15000 60%) 2.2778 9.7552\n",
            "8m 1s (- 2m 0s) (20000 80%) 2.1242 8.3661\n",
            "10m 2s (- 0m 0s) (25000 100%) 1.9739 7.1990\n"
          ]
        },
        {
          "output_type": "display_data",
          "data": {
            "text/plain": [
              "<Figure size 432x288 with 0 Axes>"
            ]
          },
          "metadata": {}
        },
        {
          "output_type": "display_data",
          "data": {
            "image/png": "[encoded data removed]",
            "text/plain": [
              "<Figure size 432x288 with 1 Axes>"
            ]
          },
          "metadata": {
            "needs_background": "light"
          }
        }
      ]
    },
    {
      "cell_type": "markdown",
      "metadata": {
        "id": "l0y6wF7vYr7s"
      },
      "source": [
        "## Perplexity(PPL)\n",
        "\n",
        "*   Above Training iteration prints the ```exp(log_loss)``` is getting printed at every 5000th iteration.\n",
        "\n",
        "*   We should note that the metric applies specifically to classical language models (sometimes called autoregressive or causal language models) and is not well defined for masked language models like BERT.\n",
        "\n",
        "*   Also, for translation it is not evaluation, it just indicates how well a sentence is formed \n",
        "\n",
        "\n",
        "*   Perplexity is a measurement of how well a probability distribution or probability model predicts a sample. It may be used to compare probability models. A low perplexity indicates the probability distribution is good at predicting the sample.\n",
        "\n",
        "*   In natural language processing, perplexity is a way of evaluating language models. A language model is a probability distribution over entire sentences or texts\n",
        "\n",
        "\n",
        "From : https://huggingface.co/docs/transformers/perplexity\n",
        "\n",
        "Equation\n",
        "\n",
        "![image.png](data:image/png;base64,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)\n",
        "\n",
        "\n",
        "**where log function is the log-likelyhood of ith token conditioned on the preceding tokens.. below is the Visual representation**\n",
        "\n",
        "![image.png](data:image/png;base64,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)"
      ]
    },
    {
      "cell_type": "code",
      "metadata": {
        "id": "TumyKbqrUoT4"
      },
      "source": [
        "!pip install transformers==3.0.1\n",
        "!pip install bert_score==0.3.4"
      ],
      "execution_count": null,
      "outputs": []
    },
    {
      "cell_type": "markdown",
      "metadata": {
        "id": "iguSB1pSrOtO"
      },
      "source": [
        "## BERT Score\n",
        "BERTScore leverages the pre-trained contextual embeddings from BERT and matches words in candidate and reference sentences by cosine similarity. It has been shown to correlate with human judgment on sentence-level and system-level evaluation. Moreover, BERTScore computes precision, recall, and F1 measure, which can be useful for evaluating different language generation tasks"
      ]
    },
    {
      "cell_type": "code",
      "metadata": {
        "id": "kYVrLTtoe8C_"
      },
      "source": [
        "from bert_score import score\n",
        "def evaluate_bert_score(encoder, decoder, n=30):\n",
        "    ref_d = []\n",
        "    pred_d = []\n",
        "    score = -1\n",
        "    for i in range(n):\n",
        "        pair = random.choice(pairs)\n",
        "        # print('Original ', pair[0])\n",
        "        \n",
        "        # ref_d.append(pair[1].strip().split(' '))\n",
        "        output_words, attentions = evaluate(encoder, decoder, pair[0])\n",
        "        # pred_d.append(output_words[:-1])\n",
        "        output_sentence = ' '.join(output_words[:-1])\n",
        "        ref_d.append(pair[1].strip())\n",
        "        pred_d.append(output_sentence)\n",
        "        # print('Translated (truth): ', pair[1])\n",
        "        # print('Translated (pred): ' , output_sentence)\n",
        "        print('')\n",
        "    print(ref_d[0])\n",
        "    return ref_d, pred_d"
      ],
      "execution_count": 40,
      "outputs": []
    },
    {
      "cell_type": "code",
      "metadata": {
        "colab": {
          "base_uri": "https://localhost:8080/"
        },
        "id": "SiDyme-KTJtA",
        "outputId": "64a62594-6062-412d-f4c1-80227e84b611"
      },
      "source": [
        "ref_d, pred_d = evaluate_bert_score(encoder1, attn_decoder1, n=30) \n",
        "pred_d"
      ],
      "execution_count": 48,
      "outputs": [
        {
          "output_type": "stream",
          "name": "stdout",
          "text": [
            "\n",
            "\n",
            "\n",
            "\n",
            "\n",
            "\n",
            "\n",
            "\n",
            "\n",
            "\n",
            "\n",
            "\n",
            "\n",
            "\n",
            "\n",
            "\n",
            "\n",
            "\n",
            "\n",
            "\n",
            "\n",
            "\n",
            "\n",
            "\n",
            "\n",
            "\n",
            "\n",
            "\n",
            "\n",
            "\n",
            "they re dragging their heels .\n"
          ]
        },
        {
          "output_type": "execute_result",
          "data": {
            "text/plain": [
              "['you you you you you you you you you',\n",
              " 'she s she s she s she s she',\n",
              " '',\n",
              " 'we we we we we we we we we',\n",
              " 'you you you you you you you you you',\n",
              " 'he s he s he s he s he',\n",
              " 'm m m m m m m m m',\n",
              " 'you you you you you you you you you',\n",
              " 'i i i i i i i i i',\n",
              " 'i i i i i i i i i',\n",
              " 'you you you you you you you you you',\n",
              " 'we we we we we we we we we',\n",
              " 'he he s he s he s he s',\n",
              " 'you you you you you you you you you',\n",
              " 'you you you you you you you you you',\n",
              " 'i i i i i i i i i',\n",
              " 'we we we we we we we we we',\n",
              " 'you you you you you you you you you',\n",
              " 'm m m m m m m m m',\n",
              " 'we we we we we we we we we',\n",
              " 'i i i i i i i i i',\n",
              " 'we we we we we we we we we',\n",
              " 'you you you you you you you you you',\n",
              " 'i i i i i i i i i',\n",
              " 're we re we re we re we re',\n",
              " 'not .',\n",
              " 'you you you you you you you you you',\n",
              " 'we we we we we we we we we',\n",
              " 'we we we we we we we we we',\n",
              " 're you re you re you re you re']"
            ]
          },
          "metadata": {},
          "execution_count": 48
        }
      ]
    },
    {
      "cell_type": "code",
      "metadata": {
        "colab": {
          "base_uri": "https://localhost:8080/",
          "height": 941,
          "referenced_widgets": [
            "bf95f4f698054623847a3cf286c857cf",
            "0b4a569e777b47ac93312083b3a240be",
            "bd43a4866bc0490f8b3727feb154f5a9",
            "3d3e1aaf9e984a1b91a1998cbb12819d",
            "2c28b98569d947d1b250ece4d90ccdcd",
            "4d2c63356c174906a9deafb2b3163ded",
            "e16baea88d0a41e98eb8f0b6fdc9669c",
            "884bdf949f104dba8096e461c94b3209",
            "5f9485fe59404cdfb668e6dcc3ed2d2b",
            "af5100eb488348cf82b2d7a2b7958bb8",
            "f565456af2794169bf6fe809ed82e981",
            "68a6ef58c21e4dcb89d451676126c12d",
            "0bde885927824b34a3553df38a3fea86",
            "bfca5f351ac14c6e883c501ea45dcf05",
            "ee46e99c600944dc837b68dba631489c",
            "b84fcfcf435d49459c2514d8beef28a6",
            "bc5b1480971e4cb9826bc04c00f60a4b",
            "038bca37fbf1449fa80fe02a1620d119",
            "5afa2cca23f848a39eda65cd5ff7c75f",
            "f1b6e526202941339f07344f34527789",
            "861b337d64b44a5b8a8002c1fbdebe97",
            "5fcba863761841a2b9014794c5e955df",
            "3418ad1e9c4f42ed965d6dfa3322e64b",
            "75b4be1b6c0346d2a3a2f8452e99f354",
            "650a52c37626418a9466de186ca92994",
            "3add3e4d725a4b5f845f9fe340f2bab0",
            "f48c75a92c954e738b62fc8c5852d3a8",
            "1ee96c5610274c0c90aaa95b42c8006e",
            "fea4ace812a64f88a59a3b456967d14b",
            "46622657417643309a595f8b532a18fc",
            "b5c0c8d0d0a04e5a97d0c5d2f1ebd03a",
            "ce871e0460824b4285e2e1ce43cbf1b7",
            "af0795547e1f40f49b600420feba26d9",
            "2844c7fa7ade4c4698bdb0b8b8c9fe14",
            "59080103d99245539359babd98026f2e",
            "188f59f080984bda83783a4b279fbf12",
            "db004364924441f39e6a3fb81c299be3",
            "40aba3764e824052b096b60872bc89b6",
            "4a2de78f837f4f78bebfa4c151624f35",
            "a4829eca537b47d3a27506dc1c7da28a",
            "e7ba0dabe1184aad93fc78e97fc0af79",
            "12712064961340048f978a5a5c0b86ba",
            "1d6730aa38bb44da998da6cdf3888a91",
            "0b46fc8cd5e144c18a3e9c01281d0d57",
            "b81d4814f83e48fa90a000242ec39a45",
            "1ac2c8ead62c498db5b3bad3936c1932",
            "60aa6170cd5d40479be91ec8eb7bd4e9",
            "3bcec444345045eca9ef29aa585ab711",
            "c48dd3b9d8a14a449434b7e253e8b4be",
            "048d8128547944cf8e1814585b99751d",
            "719cc6f0d2e84c77aedeb9f230222f6f",
            "87ca5d71cf7344cd822e13d35795a9e1",
            "caea2a73d2c24a5f82c7c1b5e9c571af",
            "0a6ce264bf8f402097ec6dd420a70089",
            "589708745cec450eaa8728fda2e5c084",
            "ef5919c426fa4071a1e3c7f6e52b437f",
            "002a37a056ee414ba22291d1aae0463a",
            "de257cde7e474b7c915906fc2a3c5620",
            "02bd5c20405c43689429c67799db6f05",
            "3d6f31a4cf964b35be6d757fa2d89a3f",
            "e984a7b0c66344d29c2b9604c3b56d71",
            "4d2a282ab8464617bf1d3f55ad3b79ac",
            "5f4767711dd740c7943f1dbb88cda4b9",
            "6b9a26e88a654d05860eb454536ec536",
            "f07316f7616e4893ae9d12f328138c25",
            "241045f473194c81b61ee397774f3c26"
          ]
        },
        "id": "nDqShI5XTSAv",
        "outputId": "ce7c0572-39e9-43df-a811-7252e0473c7c"
      },
      "source": [
        "P, R, F1 = score(ref_d, pred_d, lang=\"en\", device=device, verbose=True)"
      ],
      "execution_count": 43,
      "outputs": [
        {
          "output_type": "display_data",
          "data": {
            "application/vnd.jupyter.widget-view+json": {
              "model_id": "bf95f4f698054623847a3cf286c857cf",
              "version_minor": 0,
              "version_major": 2
            },
            "text/plain": [
              "Downloading:   0%|          | 0.00/482 [00:00<?, ?B/s]"
            ]
          },
          "metadata": {}
        },
        {
          "output_type": "display_data",
          "data": {
            "application/vnd.jupyter.widget-view+json": {
              "model_id": "68a6ef58c21e4dcb89d451676126c12d",
              "version_minor": 0,
              "version_major": 2
            },
            "text/plain": [
              "Downloading:   0%|          | 0.00/899k [00:00<?, ?B/s]"
            ]
          },
          "metadata": {}
        },
        {
          "output_type": "display_data",
          "data": {
            "application/vnd.jupyter.widget-view+json": {
              "model_id": "3418ad1e9c4f42ed965d6dfa3322e64b",
              "version_minor": 0,
              "version_major": 2
            },
            "text/plain": [
              "Downloading:   0%|          | 0.00/456k [00:00<?, ?B/s]"
            ]
          },
          "metadata": {}
        },
        {
          "output_type": "display_data",
          "data": {
            "application/vnd.jupyter.widget-view+json": {
              "model_id": "2844c7fa7ade4c4698bdb0b8b8c9fe14",
              "version_minor": 0,
              "version_major": 2
            },
            "text/plain": [
              "Downloading:   0%|          | 0.00/1.43G [00:00<?, ?B/s]"
            ]
          },
          "metadata": {}
        },
        {
          "output_type": "stream",
          "name": "stdout",
          "text": [
            "calculating scores...\n",
            "computing bert embedding.\n"
          ]
        },
        {
          "output_type": "display_data",
          "data": {
            "application/vnd.jupyter.widget-view+json": {
              "model_id": "b81d4814f83e48fa90a000242ec39a45",
              "version_minor": 0,
              "version_major": 2
            },
            "text/plain": [
              "  0%|          | 0/1 [00:00<?, ?it/s]"
            ]
          },
          "metadata": {}
        },
        {
          "output_type": "stream",
          "name": "stderr",
          "text": [
            "Truncation was not explicitely activated but `max_length` is provided a specific value, please use `truncation=True` to explicitely truncate examples to max length. Defaulting to 'longest_first' truncation strategy. If you encode pairs of sequences (GLUE-style) with the tokenizer you can select this strategy more precisely by providing a specific strategy to `truncation`.\n",
            "Truncation was not explicitely activated but `max_length` is provided a specific value, please use `truncation=True` to explicitely truncate examples to max length. Defaulting to 'longest_first' truncation strategy. If you encode pairs of sequences (GLUE-style) with the tokenizer you can select this strategy more precisely by providing a specific strategy to `truncation`.\n",
            "Truncation was not explicitely activated but `max_length` is provided a specific value, please use `truncation=True` to explicitely truncate examples to max length. Defaulting to 'longest_first' truncation strategy. If you encode pairs of sequences (GLUE-style) with the tokenizer you can select this strategy more precisely by providing a specific strategy to `truncation`.\n",
            "Truncation was not explicitely activated but `max_length` is provided a specific value, please use `truncation=True` to explicitely truncate examples to max length. Defaulting to 'longest_first' truncation strategy. If you encode pairs of sequences (GLUE-style) with the tokenizer you can select this strategy more precisely by providing a specific strategy to `truncation`.\n",
            "Truncation was not explicitely activated but `max_length` is provided a specific value, please use `truncation=True` to explicitely truncate examples to max length. Defaulting to 'longest_first' truncation strategy. If you encode pairs of sequences (GLUE-style) with the tokenizer you can select this strategy more precisely by providing a specific strategy to `truncation`.\n",
            "Truncation was not explicitely activated but `max_length` is provided a specific value, please use `truncation=True` to explicitely truncate examples to max length. Defaulting to 'longest_first' truncation strategy. If you encode pairs of sequences (GLUE-style) with the tokenizer you can select this strategy more precisely by providing a specific strategy to `truncation`.\n",
            "Truncation was not explicitely activated but `max_length` is provided a specific value, please use `truncation=True` to explicitely truncate examples to max length. Defaulting to 'longest_first' truncation strategy. If you encode pairs of sequences (GLUE-style) with the tokenizer you can select this strategy more precisely by providing a specific strategy to `truncation`.\n",
            "Truncation was not explicitely activated but `max_length` is provided a specific value, please use `truncation=True` to explicitely truncate examples to max length. Defaulting to 'longest_first' truncation strategy. If you encode pairs of sequences (GLUE-style) with the tokenizer you can select this strategy more precisely by providing a specific strategy to `truncation`.\n",
            "Truncation was not explicitely activated but `max_length` is provided a specific value, please use `truncation=True` to explicitely truncate examples to max length. Defaulting to 'longest_first' truncation strategy. If you encode pairs of sequences (GLUE-style) with the tokenizer you can select this strategy more precisely by providing a specific strategy to `truncation`.\n",
            "Truncation was not explicitely activated but `max_length` is provided a specific value, please use `truncation=True` to explicitely truncate examples to max length. Defaulting to 'longest_first' truncation strategy. If you encode pairs of sequences (GLUE-style) with the tokenizer you can select this strategy more precisely by providing a specific strategy to `truncation`.\n",
            "Truncation was not explicitely activated but `max_length` is provided a specific value, please use `truncation=True` to explicitely truncate examples to max length. Defaulting to 'longest_first' truncation strategy. If you encode pairs of sequences (GLUE-style) with the tokenizer you can select this strategy more precisely by providing a specific strategy to `truncation`.\n",
            "Truncation was not explicitely activated but `max_length` is provided a specific value, please use `truncation=True` to explicitely truncate examples to max length. Defaulting to 'longest_first' truncation strategy. If you encode pairs of sequences (GLUE-style) with the tokenizer you can select this strategy more precisely by providing a specific strategy to `truncation`.\n",
            "Truncation was not explicitely activated but `max_length` is provided a specific value, please use `truncation=True` to explicitely truncate examples to max length. Defaulting to 'longest_first' truncation strategy. If you encode pairs of sequences (GLUE-style) with the tokenizer you can select this strategy more precisely by providing a specific strategy to `truncation`.\n",
            "Truncation was not explicitely activated but `max_length` is provided a specific value, please use `truncation=True` to explicitely truncate examples to max length. Defaulting to 'longest_first' truncation strategy. If you encode pairs of sequences (GLUE-style) with the tokenizer you can select this strategy more precisely by providing a specific strategy to `truncation`.\n",
            "Truncation was not explicitely activated but `max_length` is provided a specific value, please use `truncation=True` to explicitely truncate examples to max length. Defaulting to 'longest_first' truncation strategy. If you encode pairs of sequences (GLUE-style) with the tokenizer you can select this strategy more precisely by providing a specific strategy to `truncation`.\n",
            "Truncation was not explicitely activated but `max_length` is provided a specific value, please use `truncation=True` to explicitely truncate examples to max length. Defaulting to 'longest_first' truncation strategy. If you encode pairs of sequences (GLUE-style) with the tokenizer you can select this strategy more precisely by providing a specific strategy to `truncation`.\n",
            "Truncation was not explicitely activated but `max_length` is provided a specific value, please use `truncation=True` to explicitely truncate examples to max length. Defaulting to 'longest_first' truncation strategy. If you encode pairs of sequences (GLUE-style) with the tokenizer you can select this strategy more precisely by providing a specific strategy to `truncation`.\n",
            "Truncation was not explicitely activated but `max_length` is provided a specific value, please use `truncation=True` to explicitely truncate examples to max length. Defaulting to 'longest_first' truncation strategy. If you encode pairs of sequences (GLUE-style) with the tokenizer you can select this strategy more precisely by providing a specific strategy to `truncation`.\n",
            "Truncation was not explicitely activated but `max_length` is provided a specific value, please use `truncation=True` to explicitely truncate examples to max length. Defaulting to 'longest_first' truncation strategy. If you encode pairs of sequences (GLUE-style) with the tokenizer you can select this strategy more precisely by providing a specific strategy to `truncation`.\n",
            "Truncation was not explicitely activated but `max_length` is provided a specific value, please use `truncation=True` to explicitely truncate examples to max length. Defaulting to 'longest_first' truncation strategy. If you encode pairs of sequences (GLUE-style) with the tokenizer you can select this strategy more precisely by providing a specific strategy to `truncation`.\n",
            "Truncation was not explicitely activated but `max_length` is provided a specific value, please use `truncation=True` to explicitely truncate examples to max length. Defaulting to 'longest_first' truncation strategy. If you encode pairs of sequences (GLUE-style) with the tokenizer you can select this strategy more precisely by providing a specific strategy to `truncation`.\n",
            "Truncation was not explicitely activated but `max_length` is provided a specific value, please use `truncation=True` to explicitely truncate examples to max length. Defaulting to 'longest_first' truncation strategy. If you encode pairs of sequences (GLUE-style) with the tokenizer you can select this strategy more precisely by providing a specific strategy to `truncation`.\n",
            "Truncation was not explicitely activated but `max_length` is provided a specific value, please use `truncation=True` to explicitely truncate examples to max length. Defaulting to 'longest_first' truncation strategy. If you encode pairs of sequences (GLUE-style) with the tokenizer you can select this strategy more precisely by providing a specific strategy to `truncation`.\n",
            "Truncation was not explicitely activated but `max_length` is provided a specific value, please use `truncation=True` to explicitely truncate examples to max length. Defaulting to 'longest_first' truncation strategy. If you encode pairs of sequences (GLUE-style) with the tokenizer you can select this strategy more precisely by providing a specific strategy to `truncation`.\n",
            "Truncation was not explicitely activated but `max_length` is provided a specific value, please use `truncation=True` to explicitely truncate examples to max length. Defaulting to 'longest_first' truncation strategy. If you encode pairs of sequences (GLUE-style) with the tokenizer you can select this strategy more precisely by providing a specific strategy to `truncation`.\n",
            "Truncation was not explicitely activated but `max_length` is provided a specific value, please use `truncation=True` to explicitely truncate examples to max length. Defaulting to 'longest_first' truncation strategy. If you encode pairs of sequences (GLUE-style) with the tokenizer you can select this strategy more precisely by providing a specific strategy to `truncation`.\n",
            "Truncation was not explicitely activated but `max_length` is provided a specific value, please use `truncation=True` to explicitely truncate examples to max length. Defaulting to 'longest_first' truncation strategy. If you encode pairs of sequences (GLUE-style) with the tokenizer you can select this strategy more precisely by providing a specific strategy to `truncation`.\n",
            "Truncation was not explicitely activated but `max_length` is provided a specific value, please use `truncation=True` to explicitely truncate examples to max length. Defaulting to 'longest_first' truncation strategy. If you encode pairs of sequences (GLUE-style) with the tokenizer you can select this strategy more precisely by providing a specific strategy to `truncation`.\n",
            "Truncation was not explicitely activated but `max_length` is provided a specific value, please use `truncation=True` to explicitely truncate examples to max length. Defaulting to 'longest_first' truncation strategy. If you encode pairs of sequences (GLUE-style) with the tokenizer you can select this strategy more precisely by providing a specific strategy to `truncation`.\n",
            "Truncation was not explicitely activated but `max_length` is provided a specific value, please use `truncation=True` to explicitely truncate examples to max length. Defaulting to 'longest_first' truncation strategy. If you encode pairs of sequences (GLUE-style) with the tokenizer you can select this strategy more precisely by providing a specific strategy to `truncation`.\n",
            "Truncation was not explicitely activated but `max_length` is provided a specific value, please use `truncation=True` to explicitely truncate examples to max length. Defaulting to 'longest_first' truncation strategy. If you encode pairs of sequences (GLUE-style) with the tokenizer you can select this strategy more precisely by providing a specific strategy to `truncation`.\n",
            "Truncation was not explicitely activated but `max_length` is provided a specific value, please use `truncation=True` to explicitely truncate examples to max length. Defaulting to 'longest_first' truncation strategy. If you encode pairs of sequences (GLUE-style) with the tokenizer you can select this strategy more precisely by providing a specific strategy to `truncation`.\n",
            "Truncation was not explicitely activated but `max_length` is provided a specific value, please use `truncation=True` to explicitely truncate examples to max length. Defaulting to 'longest_first' truncation strategy. If you encode pairs of sequences (GLUE-style) with the tokenizer you can select this strategy more precisely by providing a specific strategy to `truncation`.\n",
            "Truncation was not explicitely activated but `max_length` is provided a specific value, please use `truncation=True` to explicitely truncate examples to max length. Defaulting to 'longest_first' truncation strategy. If you encode pairs of sequences (GLUE-style) with the tokenizer you can select this strategy more precisely by providing a specific strategy to `truncation`.\n",
            "Truncation was not explicitely activated but `max_length` is provided a specific value, please use `truncation=True` to explicitely truncate examples to max length. Defaulting to 'longest_first' truncation strategy. If you encode pairs of sequences (GLUE-style) with the tokenizer you can select this strategy more precisely by providing a specific strategy to `truncation`.\n",
            "Truncation was not explicitely activated but `max_length` is provided a specific value, please use `truncation=True` to explicitely truncate examples to max length. Defaulting to 'longest_first' truncation strategy. If you encode pairs of sequences (GLUE-style) with the tokenizer you can select this strategy more precisely by providing a specific strategy to `truncation`.\n"
          ]
        },
        {
          "output_type": "stream",
          "name": "stdout",
          "text": [
            "computing greedy matching.\n"
          ]
        },
        {
          "output_type": "display_data",
          "data": {
            "application/vnd.jupyter.widget-view+json": {
              "model_id": "ef5919c426fa4071a1e3c7f6e52b437f",
              "version_minor": 0,
              "version_major": 2
            },
            "text/plain": [
              "  0%|          | 0/1 [00:00<?, ?it/s]"
            ]
          },
          "metadata": {}
        },
        {
          "output_type": "stream",
          "name": "stdout",
          "text": [
            "done in 0.52 seconds, 57.26 sentences/sec\n"
          ]
        },
        {
          "output_type": "stream",
          "name": "stderr",
          "text": [
            "Warning: Empty candidate sentence; Setting recall to be 0.\n"
          ]
        }
      ]
    },
    {
      "cell_type": "code",
      "source": [
        "P, R, F1 , P.mean().item(), R.mean().item(), F1.mean().item()"
      ],
      "metadata": {
        "id": "k0r5u40WZX29",
        "outputId": "0fe38ea9-04c7-43f1-e37f-d145bc4d18f5",
        "colab": {
          "base_uri": "https://localhost:8080/"
        }
      },
      "execution_count": 46,
      "outputs": [
        {
          "output_type": "execute_result",
          "data": {
            "text/plain": [
              "(tensor([0.8241, 0.8008, 0.8118, 0.8094, 0.8173, 0.8402, 0.7852, 0.8336, 0.8435,\n",
              "         0.8424, 0.8159, 0.8200, 0.8134, 0.8202, 0.8253, 0.8239, 0.8125, 0.7973,\n",
              "         0.8298, 0.8139, 0.8074, 0.8159, 0.7920, 0.8616, 0.8208, 0.8167, 0.8240,\n",
              "         0.8062, 0.8278, 0.7671]),\n",
              " tensor([0.7624, 0.7605, 0.0000, 0.7764, 0.7833, 0.7261, 0.7617, 0.8072, 0.7409,\n",
              "         0.7395, 0.7836, 0.7429, 0.7780, 0.7664, 0.7975, 0.7614, 0.7322, 0.7220,\n",
              "         0.7500, 0.7444, 0.7621, 0.7457, 0.7413, 0.7245, 0.7410, 0.7973, 0.7377,\n",
              "         0.7310, 0.7609, 0.6966]),\n",
              " tensor([0.7920, 0.7802, 0.0000, 0.7926, 0.8000, 0.7790, 0.7733, 0.8202, 0.7889,\n",
              "         0.7876, 0.7995, 0.7795, 0.7953, 0.7924, 0.8111, 0.7914, 0.7703, 0.7578,\n",
              "         0.7879, 0.7776, 0.7841, 0.7792, 0.7658, 0.7871, 0.7788, 0.8069, 0.7785,\n",
              "         0.7668, 0.7929, 0.7301]),\n",
              " 0.8173344135284424,\n",
              " 0.7291461825370789,\n",
              " 0.7582226395606995)"
            ]
          },
          "metadata": {},
          "execution_count": 46
        }
      ]
    },
    {
      "cell_type": "code",
      "metadata": {
        "colab": {
          "base_uri": "https://localhost:8080/"
        },
        "id": "uCFdlI2jWCDX",
        "outputId": "b05cff8a-707e-461d-a91d-ef5c6a02e771"
      },
      "source": [
        "F1, F1.mean().item()"
      ],
      "execution_count": null,
      "outputs": [
        {
          "output_type": "execute_result",
          "data": {
            "text/plain": [
              "(tensor([0.9183, 0.8330, 0.9322, 0.8791, 0.8899, 0.8894, 0.9106, 0.9615, 0.8886,\n",
              "         0.8510, 0.9111, 0.9226, 0.8796, 0.8445, 0.8828, 0.9175, 0.8497, 0.8322,\n",
              "         0.9390, 0.9633]), 0.8947895169258118)"
            ]
          },
          "metadata": {},
          "execution_count": 124
        }
      ]
    },
    {
      "cell_type": "code",
      "metadata": {
        "colab": {
          "base_uri": "https://localhost:8080/",
          "height": 265
        },
        "id": "AhDqx4niWC--",
        "outputId": "ab69faec-f724-45b0-f611-08f271bcd590"
      },
      "source": [
        "import matplotlib.pyplot as plt\n",
        "plt.hist(F1, bins=20)\n",
        "plt.show()"
      ],
      "execution_count": null,
      "outputs": [
        {
          "output_type": "display_data",
          "data": {
            "image/png": "[encoded data removed]",
            "text/plain": [
              "<Figure size 432x288 with 1 Axes>"
            ]
          },
          "metadata": {
            "needs_background": "light"
          }
        }
      ]
    },
    {
      "cell_type": "code",
      "metadata": {
        "colab": {
          "base_uri": "https://localhost:8080/",
          "height": 622
        },
        "id": "95gyGxJKWqeV",
        "outputId": "952d63bb-c558-492f-f24c-771fc0f82058"
      },
      "source": [
        "from bert_score import plot_example\n",
        "\n",
        "from bert_score import plot_example\n",
        "\n",
        "r = ref_d[0] \n",
        "p = pred_d[0] \n",
        "plot_example(r, p, lang=\"en\")"
      ],
      "execution_count": null,
      "outputs": [
        {
          "output_type": "stream",
          "name": "stderr",
          "text": [
            "Truncation was not explicitely activated but `max_length` is provided a specific value, please use `truncation=True` to explicitely truncate examples to max length. Defaulting to 'longest_first' truncation strategy. If you encode pairs of sequences (GLUE-style) with the tokenizer you can select this strategy more precisely by providing a specific strategy to `truncation`.\n",
            "Truncation was not explicitely activated but `max_length` is provided a specific value, please use `truncation=True` to explicitely truncate examples to max length. Defaulting to 'longest_first' truncation strategy. If you encode pairs of sequences (GLUE-style) with the tokenizer you can select this strategy more precisely by providing a specific strategy to `truncation`.\n",
            "Truncation was not explicitely activated but `max_length` is provided a specific value, please use `truncation=True` to explicitely truncate examples to max length. Defaulting to 'longest_first' truncation strategy. If you encode pairs of sequences (GLUE-style) with the tokenizer you can select this strategy more precisely by providing a specific strategy to `truncation`.\n",
            "Truncation was not explicitely activated but `max_length` is provided a specific value, please use `truncation=True` to explicitely truncate examples to max length. Defaulting to 'longest_first' truncation strategy. If you encode pairs of sequences (GLUE-style) with the tokenizer you can select this strategy more precisely by providing a specific strategy to `truncation`.\n"
          ]
        },
        {
          "output_type": "display_data",
          "data": {
            "image/png": "[encoded data removed]",
            "text/plain": [
              "<Figure size 504x576 with 2 Axes>"
            ]
          },
          "metadata": {
            "needs_background": "light"
          }
        }
      ]
    },
    {
      "cell_type": "code",
      "metadata": {
        "id": "gHaq2daGW--F"
      },
      "source": [
        "from tqdm import tqdm\n",
        "\n",
        "max_length = model.config.n_positions\n",
        "stride = 512\n",
        "\n",
        "nlls = []\n",
        "for i in tqdm(range(0, encodings.input_ids.size(1), stride)):\n",
        "    begin_loc = max(i + stride - max_length, 0)\n",
        "    end_loc = min(i + stride, encodings.input_ids.size(1))\n",
        "    trg_len = end_loc - i    # may be different from stride on last loop\n",
        "    input_ids = encodings.input_ids[:,begin_loc:end_loc].to(device)\n",
        "    target_ids = input_ids.clone()\n",
        "    target_ids[:,:-trg_len] = -100\n",
        "\n",
        "    with torch.no_grad():\n",
        "        outputs = model(input_ids, labels=target_ids)\n",
        "        neg_log_likelihood = outputs[0] * trg_len\n",
        "\n",
        "    nlls.append(neg_log_likelihood)\n",
        "\n",
        "ppl = torch.exp(torch.stack(nlls).sum() / end_loc)"
      ],
      "execution_count": null,
      "outputs": []
    },
    {
      "cell_type": "code",
      "metadata": {
        "id": "W7JZV8MtdMvv"
      },
      "source": [
        "def evaluate_bert_score(encoder, decoder, n=10):\n",
        "    ref_d = []\n",
        "    pred_d = []\n",
        "    score = -1\n",
        "    for i in range(n):\n",
        "        pair = random.choice(pairs)\n",
        "        # print('Original ', pair[0])\n",
        "        \n",
        "        # ref_d.append(pair[1].strip().split(' '))\n",
        "        output_words, attentions = evaluate(encoder, decoder, pair[0])\n",
        "        # pred_d.append(output_words[:-1])\n",
        "        output_sentence = ' '.join(output_words[:-1])\n",
        "        ref_d.append(pair[1].strip())\n",
        "        pred_d.append(output_sentence)\n",
        "        # print('Translated (truth): ', pair[1])\n",
        "        # print('Translated (pred): ' , output_sentence)\n",
        "        print('')\n",
        "    print(ref_d[0])\n",
        "    return ref_d, pred_d"
      ],
      "execution_count": null,
      "outputs": []
    }
  ]
}