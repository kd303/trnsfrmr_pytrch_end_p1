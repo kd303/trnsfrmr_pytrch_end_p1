{
  "nbformat": 4,
  "nbformat_minor": 0,
  "metadata": {
    "colab": {
      "name": "PyTorchAssginment1_multitask_Learning.ipynb",
      "provenance": [],
      "collapsed_sections": [],
      "authorship_tag": "ABX9TyMsO8o/408o2PQnXFbaJKlT",
      "include_colab_link": true
    },
    "kernelspec": {
      "name": "python3",
      "display_name": "Python 3"
    },
    "language_info": {
      "name": "python"
    },
    "widgets": {
      "application/vnd.jupyter.widget-state+json": {
        "fb274a42bc0247019cf7b1b2170745c5": {
          "model_module": "@jupyter-widgets/controls",
          "model_name": "HBoxModel",
          "model_module_version": "1.5.0",
          "state": {
            "_view_name": "HBoxView",
            "_dom_classes": [],
            "_model_name": "HBoxModel",
            "_view_module": "@jupyter-widgets/controls",
            "_model_module_version": "1.5.0",
            "_view_count": null,
            "_view_module_version": "1.5.0",
            "box_style": "",
            "layout": "IPY_MODEL_779f9c6df7214c7fa38fe84773874a45",
            "_model_module": "@jupyter-widgets/controls",
            "children": [
              "IPY_MODEL_62ccadad267b404f94669b07e52a5390",
              "IPY_MODEL_64e21666e33b4bbdabbffd3c8728464c",
              "IPY_MODEL_cb155eaa6db642d189b015b0229d8619"
            ]
          }
        },
        "779f9c6df7214c7fa38fe84773874a45": {
          "model_module": "@jupyter-widgets/base",
          "model_name": "LayoutModel",
          "model_module_version": "1.2.0",
          "state": {
            "_view_name": "LayoutView",
            "grid_template_rows": null,
            "right": null,
            "justify_content": null,
            "_view_module": "@jupyter-widgets/base",
            "overflow": null,
            "_model_module_version": "1.2.0",
            "_view_count": null,
            "flex_flow": null,
            "width": null,
            "min_width": null,
            "border": null,
            "align_items": null,
            "bottom": null,
            "_model_module": "@jupyter-widgets/base",
            "top": null,
            "grid_column": null,
            "overflow_y": null,
            "overflow_x": null,
            "grid_auto_flow": null,
            "grid_area": null,
            "grid_template_columns": null,
            "flex": null,
            "_model_name": "LayoutModel",
            "justify_items": null,
            "grid_row": null,
            "max_height": null,
            "align_content": null,
            "visibility": null,
            "align_self": null,
            "height": null,
            "min_height": null,
            "padding": null,
            "grid_auto_rows": null,
            "grid_gap": null,
            "max_width": null,
            "order": null,
            "_view_module_version": "1.2.0",
            "grid_template_areas": null,
            "object_position": null,
            "object_fit": null,
            "grid_auto_columns": null,
            "margin": null,
            "display": null,
            "left": null
          }
        },
        "62ccadad267b404f94669b07e52a5390": {
          "model_module": "@jupyter-widgets/controls",
          "model_name": "HTMLModel",
          "model_module_version": "1.5.0",
          "state": {
            "_view_name": "HTMLView",
            "style": "IPY_MODEL_b177cd8e18c4440caa17922006ceec28",
            "_dom_classes": [],
            "description": "",
            "_model_name": "HTMLModel",
            "placeholder": "​",
            "_view_module": "@jupyter-widgets/controls",
            "_model_module_version": "1.5.0",
            "value": "",
            "_view_count": null,
            "_view_module_version": "1.5.0",
            "description_tooltip": null,
            "_model_module": "@jupyter-widgets/controls",
            "layout": "IPY_MODEL_0b8a9e80ce76463eb89dec49b4b70180"
          }
        },
        "64e21666e33b4bbdabbffd3c8728464c": {
          "model_module": "@jupyter-widgets/controls",
          "model_name": "FloatProgressModel",
          "model_module_version": "1.5.0",
          "state": {
            "_view_name": "ProgressView",
            "style": "IPY_MODEL_c20edb1769ec4f8aa759e0ba0b34a5f4",
            "_dom_classes": [],
            "description": "",
            "_model_name": "FloatProgressModel",
            "bar_style": "success",
            "max": 9912422,
            "_view_module": "@jupyter-widgets/controls",
            "_model_module_version": "1.5.0",
            "value": 9912422,
            "_view_count": null,
            "_view_module_version": "1.5.0",
            "orientation": "horizontal",
            "min": 0,
            "description_tooltip": null,
            "_model_module": "@jupyter-widgets/controls",
            "layout": "IPY_MODEL_259cda5f8a284b6c9ca76fefb8850400"
          }
        },
        "cb155eaa6db642d189b015b0229d8619": {
          "model_module": "@jupyter-widgets/controls",
          "model_name": "HTMLModel",
          "model_module_version": "1.5.0",
          "state": {
            "_view_name": "HTMLView",
            "style": "IPY_MODEL_1a27a069e55a473db4131f9eb1823d9c",
            "_dom_classes": [],
            "description": "",
            "_model_name": "HTMLModel",
            "placeholder": "​",
            "_view_module": "@jupyter-widgets/controls",
            "_model_module_version": "1.5.0",
            "value": " 9913344/? [00:00&lt;00:00, 38696986.26it/s]",
            "_view_count": null,
            "_view_module_version": "1.5.0",
            "description_tooltip": null,
            "_model_module": "@jupyter-widgets/controls",
            "layout": "IPY_MODEL_3dba0686e9aa43f88067658f5474ab5a"
          }
        },
        "b177cd8e18c4440caa17922006ceec28": {
          "model_module": "@jupyter-widgets/controls",
          "model_name": "DescriptionStyleModel",
          "model_module_version": "1.5.0",
          "state": {
            "_view_name": "StyleView",
            "_model_name": "DescriptionStyleModel",
            "description_width": "",
            "_view_module": "@jupyter-widgets/base",
            "_model_module_version": "1.5.0",
            "_view_count": null,
            "_view_module_version": "1.2.0",
            "_model_module": "@jupyter-widgets/controls"
          }
        },
        "0b8a9e80ce76463eb89dec49b4b70180": {
          "model_module": "@jupyter-widgets/base",
          "model_name": "LayoutModel",
          "model_module_version": "1.2.0",
          "state": {
            "_view_name": "LayoutView",
            "grid_template_rows": null,
            "right": null,
            "justify_content": null,
            "_view_module": "@jupyter-widgets/base",
            "overflow": null,
            "_model_module_version": "1.2.0",
            "_view_count": null,
            "flex_flow": null,
            "width": null,
            "min_width": null,
            "border": null,
            "align_items": null,
            "bottom": null,
            "_model_module": "@jupyter-widgets/base",
            "top": null,
            "grid_column": null,
            "overflow_y": null,
            "overflow_x": null,
            "grid_auto_flow": null,
            "grid_area": null,
            "grid_template_columns": null,
            "flex": null,
            "_model_name": "LayoutModel",
            "justify_items": null,
            "grid_row": null,
            "max_height": null,
            "align_content": null,
            "visibility": null,
            "align_self": null,
            "height": null,
            "min_height": null,
            "padding": null,
            "grid_auto_rows": null,
            "grid_gap": null,
            "max_width": null,
            "order": null,
            "_view_module_version": "1.2.0",
            "grid_template_areas": null,
            "object_position": null,
            "object_fit": null,
            "grid_auto_columns": null,
            "margin": null,
            "display": null,
            "left": null
          }
        },
        "c20edb1769ec4f8aa759e0ba0b34a5f4": {
          "model_module": "@jupyter-widgets/controls",
          "model_name": "ProgressStyleModel",
          "model_module_version": "1.5.0",
          "state": {
            "_view_name": "StyleView",
            "_model_name": "ProgressStyleModel",
            "description_width": "",
            "_view_module": "@jupyter-widgets/base",
            "_model_module_version": "1.5.0",
            "_view_count": null,
            "_view_module_version": "1.2.0",
            "bar_color": null,
            "_model_module": "@jupyter-widgets/controls"
          }
        },
        "259cda5f8a284b6c9ca76fefb8850400": {
          "model_module": "@jupyter-widgets/base",
          "model_name": "LayoutModel",
          "model_module_version": "1.2.0",
          "state": {
            "_view_name": "LayoutView",
            "grid_template_rows": null,
            "right": null,
            "justify_content": null,
            "_view_module": "@jupyter-widgets/base",
            "overflow": null,
            "_model_module_version": "1.2.0",
            "_view_count": null,
            "flex_flow": null,
            "width": null,
            "min_width": null,
            "border": null,
            "align_items": null,
            "bottom": null,
            "_model_module": "@jupyter-widgets/base",
            "top": null,
            "grid_column": null,
            "overflow_y": null,
            "overflow_x": null,
            "grid_auto_flow": null,
            "grid_area": null,
            "grid_template_columns": null,
            "flex": null,
            "_model_name": "LayoutModel",
            "justify_items": null,
            "grid_row": null,
            "max_height": null,
            "align_content": null,
            "visibility": null,
            "align_self": null,
            "height": null,
            "min_height": null,
            "padding": null,
            "grid_auto_rows": null,
            "grid_gap": null,
            "max_width": null,
            "order": null,
            "_view_module_version": "1.2.0",
            "grid_template_areas": null,
            "object_position": null,
            "object_fit": null,
            "grid_auto_columns": null,
            "margin": null,
            "display": null,
            "left": null
          }
        },
        "1a27a069e55a473db4131f9eb1823d9c": {
          "model_module": "@jupyter-widgets/controls",
          "model_name": "DescriptionStyleModel",
          "model_module_version": "1.5.0",
          "state": {
            "_view_name": "StyleView",
            "_model_name": "DescriptionStyleModel",
            "description_width": "",
            "_view_module": "@jupyter-widgets/base",
            "_model_module_version": "1.5.0",
            "_view_count": null,
            "_view_module_version": "1.2.0",
            "_model_module": "@jupyter-widgets/controls"
          }
        },
        "3dba0686e9aa43f88067658f5474ab5a": {
          "model_module": "@jupyter-widgets/base",
          "model_name": "LayoutModel",
          "model_module_version": "1.2.0",
          "state": {
            "_view_name": "LayoutView",
            "grid_template_rows": null,
            "right": null,
            "justify_content": null,
            "_view_module": "@jupyter-widgets/base",
            "overflow": null,
            "_model_module_version": "1.2.0",
            "_view_count": null,
            "flex_flow": null,
            "width": null,
            "min_width": null,
            "border": null,
            "align_items": null,
            "bottom": null,
            "_model_module": "@jupyter-widgets/base",
            "top": null,
            "grid_column": null,
            "overflow_y": null,
            "overflow_x": null,
            "grid_auto_flow": null,
            "grid_area": null,
            "grid_template_columns": null,
            "flex": null,
            "_model_name": "LayoutModel",
            "justify_items": null,
            "grid_row": null,
            "max_height": null,
            "align_content": null,
            "visibility": null,
            "align_self": null,
            "height": null,
            "min_height": null,
            "padding": null,
            "grid_auto_rows": null,
            "grid_gap": null,
            "max_width": null,
            "order": null,
            "_view_module_version": "1.2.0",
            "grid_template_areas": null,
            "object_position": null,
            "object_fit": null,
            "grid_auto_columns": null,
            "margin": null,
            "display": null,
            "left": null
          }
        },
        "752333b9d9c0466e9290e02014762687": {
          "model_module": "@jupyter-widgets/controls",
          "model_name": "HBoxModel",
          "model_module_version": "1.5.0",
          "state": {
            "_view_name": "HBoxView",
            "_dom_classes": [],
            "_model_name": "HBoxModel",
            "_view_module": "@jupyter-widgets/controls",
            "_model_module_version": "1.5.0",
            "_view_count": null,
            "_view_module_version": "1.5.0",
            "box_style": "",
            "layout": "IPY_MODEL_80ec35cbd06a4aaf95afc961ff778266",
            "_model_module": "@jupyter-widgets/controls",
            "children": [
              "IPY_MODEL_dd4cef8f5d034df4888a5c0cf28d362c",
              "IPY_MODEL_e3cb3b669bb74118a618e4b265412e4f",
              "IPY_MODEL_ad62d75ae6e2482ba4c23e2d4a74ce52"
            ]
          }
        },
        "80ec35cbd06a4aaf95afc961ff778266": {
          "model_module": "@jupyter-widgets/base",
          "model_name": "LayoutModel",
          "model_module_version": "1.2.0",
          "state": {
            "_view_name": "LayoutView",
            "grid_template_rows": null,
            "right": null,
            "justify_content": null,
            "_view_module": "@jupyter-widgets/base",
            "overflow": null,
            "_model_module_version": "1.2.0",
            "_view_count": null,
            "flex_flow": null,
            "width": null,
            "min_width": null,
            "border": null,
            "align_items": null,
            "bottom": null,
            "_model_module": "@jupyter-widgets/base",
            "top": null,
            "grid_column": null,
            "overflow_y": null,
            "overflow_x": null,
            "grid_auto_flow": null,
            "grid_area": null,
            "grid_template_columns": null,
            "flex": null,
            "_model_name": "LayoutModel",
            "justify_items": null,
            "grid_row": null,
            "max_height": null,
            "align_content": null,
            "visibility": null,
            "align_self": null,
            "height": null,
            "min_height": null,
            "padding": null,
            "grid_auto_rows": null,
            "grid_gap": null,
            "max_width": null,
            "order": null,
            "_view_module_version": "1.2.0",
            "grid_template_areas": null,
            "object_position": null,
            "object_fit": null,
            "grid_auto_columns": null,
            "margin": null,
            "display": null,
            "left": null
          }
        },
        "dd4cef8f5d034df4888a5c0cf28d362c": {
          "model_module": "@jupyter-widgets/controls",
          "model_name": "HTMLModel",
          "model_module_version": "1.5.0",
          "state": {
            "_view_name": "HTMLView",
            "style": "IPY_MODEL_16c2ddbf9dfe401cb3f11c448d823663",
            "_dom_classes": [],
            "description": "",
            "_model_name": "HTMLModel",
            "placeholder": "​",
            "_view_module": "@jupyter-widgets/controls",
            "_model_module_version": "1.5.0",
            "value": "",
            "_view_count": null,
            "_view_module_version": "1.5.0",
            "description_tooltip": null,
            "_model_module": "@jupyter-widgets/controls",
            "layout": "IPY_MODEL_00326498767249e4bbe52bcb54372eb3"
          }
        },
        "e3cb3b669bb74118a618e4b265412e4f": {
          "model_module": "@jupyter-widgets/controls",
          "model_name": "FloatProgressModel",
          "model_module_version": "1.5.0",
          "state": {
            "_view_name": "ProgressView",
            "style": "IPY_MODEL_704dae5e7d0040bb9298fc187b6c9062",
            "_dom_classes": [],
            "description": "",
            "_model_name": "FloatProgressModel",
            "bar_style": "success",
            "max": 28881,
            "_view_module": "@jupyter-widgets/controls",
            "_model_module_version": "1.5.0",
            "value": 28881,
            "_view_count": null,
            "_view_module_version": "1.5.0",
            "orientation": "horizontal",
            "min": 0,
            "description_tooltip": null,
            "_model_module": "@jupyter-widgets/controls",
            "layout": "IPY_MODEL_17eaa585b2d24ccc952d7f0fc9815c37"
          }
        },
        "ad62d75ae6e2482ba4c23e2d4a74ce52": {
          "model_module": "@jupyter-widgets/controls",
          "model_name": "HTMLModel",
          "model_module_version": "1.5.0",
          "state": {
            "_view_name": "HTMLView",
            "style": "IPY_MODEL_f61ecde310564c3f9f566c25509ce463",
            "_dom_classes": [],
            "description": "",
            "_model_name": "HTMLModel",
            "placeholder": "​",
            "_view_module": "@jupyter-widgets/controls",
            "_model_module_version": "1.5.0",
            "value": " 29696/? [00:00&lt;00:00, 692991.04it/s]",
            "_view_count": null,
            "_view_module_version": "1.5.0",
            "description_tooltip": null,
            "_model_module": "@jupyter-widgets/controls",
            "layout": "IPY_MODEL_3b6cbe645ad6472eb03ada1f5fadbaf0"
          }
        },
        "16c2ddbf9dfe401cb3f11c448d823663": {
          "model_module": "@jupyter-widgets/controls",
          "model_name": "DescriptionStyleModel",
          "model_module_version": "1.5.0",
          "state": {
            "_view_name": "StyleView",
            "_model_name": "DescriptionStyleModel",
            "description_width": "",
            "_view_module": "@jupyter-widgets/base",
            "_model_module_version": "1.5.0",
            "_view_count": null,
            "_view_module_version": "1.2.0",
            "_model_module": "@jupyter-widgets/controls"
          }
        },
        "00326498767249e4bbe52bcb54372eb3": {
          "model_module": "@jupyter-widgets/base",
          "model_name": "LayoutModel",
          "model_module_version": "1.2.0",
          "state": {
            "_view_name": "LayoutView",
            "grid_template_rows": null,
            "right": null,
            "justify_content": null,
            "_view_module": "@jupyter-widgets/base",
            "overflow": null,
            "_model_module_version": "1.2.0",
            "_view_count": null,
            "flex_flow": null,
            "width": null,
            "min_width": null,
            "border": null,
            "align_items": null,
            "bottom": null,
            "_model_module": "@jupyter-widgets/base",
            "top": null,
            "grid_column": null,
            "overflow_y": null,
            "overflow_x": null,
            "grid_auto_flow": null,
            "grid_area": null,
            "grid_template_columns": null,
            "flex": null,
            "_model_name": "LayoutModel",
            "justify_items": null,
            "grid_row": null,
            "max_height": null,
            "align_content": null,
            "visibility": null,
            "align_self": null,
            "height": null,
            "min_height": null,
            "padding": null,
            "grid_auto_rows": null,
            "grid_gap": null,
            "max_width": null,
            "order": null,
            "_view_module_version": "1.2.0",
            "grid_template_areas": null,
            "object_position": null,
            "object_fit": null,
            "grid_auto_columns": null,
            "margin": null,
            "display": null,
            "left": null
          }
        },
        "704dae5e7d0040bb9298fc187b6c9062": {
          "model_module": "@jupyter-widgets/controls",
          "model_name": "ProgressStyleModel",
          "model_module_version": "1.5.0",
          "state": {
            "_view_name": "StyleView",
            "_model_name": "ProgressStyleModel",
            "description_width": "",
            "_view_module": "@jupyter-widgets/base",
            "_model_module_version": "1.5.0",
            "_view_count": null,
            "_view_module_version": "1.2.0",
            "bar_color": null,
            "_model_module": "@jupyter-widgets/controls"
          }
        },
        "17eaa585b2d24ccc952d7f0fc9815c37": {
          "model_module": "@jupyter-widgets/base",
          "model_name": "LayoutModel",
          "model_module_version": "1.2.0",
          "state": {
            "_view_name": "LayoutView",
            "grid_template_rows": null,
            "right": null,
            "justify_content": null,
            "_view_module": "@jupyter-widgets/base",
            "overflow": null,
            "_model_module_version": "1.2.0",
            "_view_count": null,
            "flex_flow": null,
            "width": null,
            "min_width": null,
            "border": null,
            "align_items": null,
            "bottom": null,
            "_model_module": "@jupyter-widgets/base",
            "top": null,
            "grid_column": null,
            "overflow_y": null,
            "overflow_x": null,
            "grid_auto_flow": null,
            "grid_area": null,
            "grid_template_columns": null,
            "flex": null,
            "_model_name": "LayoutModel",
            "justify_items": null,
            "grid_row": null,
            "max_height": null,
            "align_content": null,
            "visibility": null,
            "align_self": null,
            "height": null,
            "min_height": null,
            "padding": null,
            "grid_auto_rows": null,
            "grid_gap": null,
            "max_width": null,
            "order": null,
            "_view_module_version": "1.2.0",
            "grid_template_areas": null,
            "object_position": null,
            "object_fit": null,
            "grid_auto_columns": null,
            "margin": null,
            "display": null,
            "left": null
          }
        },
        "f61ecde310564c3f9f566c25509ce463": {
          "model_module": "@jupyter-widgets/controls",
          "model_name": "DescriptionStyleModel",
          "model_module_version": "1.5.0",
          "state": {
            "_view_name": "StyleView",
            "_model_name": "DescriptionStyleModel",
            "description_width": "",
            "_view_module": "@jupyter-widgets/base",
            "_model_module_version": "1.5.0",
            "_view_count": null,
            "_view_module_version": "1.2.0",
            "_model_module": "@jupyter-widgets/controls"
          }
        },
        "3b6cbe645ad6472eb03ada1f5fadbaf0": {
          "model_module": "@jupyter-widgets/base",
          "model_name": "LayoutModel",
          "model_module_version": "1.2.0",
          "state": {
            "_view_name": "LayoutView",
            "grid_template_rows": null,
            "right": null,
            "justify_content": null,
            "_view_module": "@jupyter-widgets/base",
            "overflow": null,
            "_model_module_version": "1.2.0",
            "_view_count": null,
            "flex_flow": null,
            "width": null,
            "min_width": null,
            "border": null,
            "align_items": null,
            "bottom": null,
            "_model_module": "@jupyter-widgets/base",
            "top": null,
            "grid_column": null,
            "overflow_y": null,
            "overflow_x": null,
            "grid_auto_flow": null,
            "grid_area": null,
            "grid_template_columns": null,
            "flex": null,
            "_model_name": "LayoutModel",
            "justify_items": null,
            "grid_row": null,
            "max_height": null,
            "align_content": null,
            "visibility": null,
            "align_self": null,
            "height": null,
            "min_height": null,
            "padding": null,
            "grid_auto_rows": null,
            "grid_gap": null,
            "max_width": null,
            "order": null,
            "_view_module_version": "1.2.0",
            "grid_template_areas": null,
            "object_position": null,
            "object_fit": null,
            "grid_auto_columns": null,
            "margin": null,
            "display": null,
            "left": null
          }
        },
        "6120eda0c28e4cfca2953ecb63017bf5": {
          "model_module": "@jupyter-widgets/controls",
          "model_name": "HBoxModel",
          "model_module_version": "1.5.0",
          "state": {
            "_view_name": "HBoxView",
            "_dom_classes": [],
            "_model_name": "HBoxModel",
            "_view_module": "@jupyter-widgets/controls",
            "_model_module_version": "1.5.0",
            "_view_count": null,
            "_view_module_version": "1.5.0",
            "box_style": "",
            "layout": "IPY_MODEL_ba5f1a02f59d4e60ad62def3c5b16608",
            "_model_module": "@jupyter-widgets/controls",
            "children": [
              "IPY_MODEL_547f379ed7c94c4f96189c76143d5afb",
              "IPY_MODEL_8998e80065a94ff192076afdb520ada5",
              "IPY_MODEL_61bf8b1da9fe464bbc7b829ed4a77c87"
            ]
          }
        },
        "ba5f1a02f59d4e60ad62def3c5b16608": {
          "model_module": "@jupyter-widgets/base",
          "model_name": "LayoutModel",
          "model_module_version": "1.2.0",
          "state": {
            "_view_name": "LayoutView",
            "grid_template_rows": null,
            "right": null,
            "justify_content": null,
            "_view_module": "@jupyter-widgets/base",
            "overflow": null,
            "_model_module_version": "1.2.0",
            "_view_count": null,
            "flex_flow": null,
            "width": null,
            "min_width": null,
            "border": null,
            "align_items": null,
            "bottom": null,
            "_model_module": "@jupyter-widgets/base",
            "top": null,
            "grid_column": null,
            "overflow_y": null,
            "overflow_x": null,
            "grid_auto_flow": null,
            "grid_area": null,
            "grid_template_columns": null,
            "flex": null,
            "_model_name": "LayoutModel",
            "justify_items": null,
            "grid_row": null,
            "max_height": null,
            "align_content": null,
            "visibility": null,
            "align_self": null,
            "height": null,
            "min_height": null,
            "padding": null,
            "grid_auto_rows": null,
            "grid_gap": null,
            "max_width": null,
            "order": null,
            "_view_module_version": "1.2.0",
            "grid_template_areas": null,
            "object_position": null,
            "object_fit": null,
            "grid_auto_columns": null,
            "margin": null,
            "display": null,
            "left": null
          }
        },
        "547f379ed7c94c4f96189c76143d5afb": {
          "model_module": "@jupyter-widgets/controls",
          "model_name": "HTMLModel",
          "model_module_version": "1.5.0",
          "state": {
            "_view_name": "HTMLView",
            "style": "IPY_MODEL_c398266ad7bf4e1bb094566cec1f1c18",
            "_dom_classes": [],
            "description": "",
            "_model_name": "HTMLModel",
            "placeholder": "​",
            "_view_module": "@jupyter-widgets/controls",
            "_model_module_version": "1.5.0",
            "value": "",
            "_view_count": null,
            "_view_module_version": "1.5.0",
            "description_tooltip": null,
            "_model_module": "@jupyter-widgets/controls",
            "layout": "IPY_MODEL_89da696d1c1540d4bd161fac55f71531"
          }
        },
        "8998e80065a94ff192076afdb520ada5": {
          "model_module": "@jupyter-widgets/controls",
          "model_name": "FloatProgressModel",
          "model_module_version": "1.5.0",
          "state": {
            "_view_name": "ProgressView",
            "style": "IPY_MODEL_261918361940494b9893f6ed15da6bf6",
            "_dom_classes": [],
            "description": "",
            "_model_name": "FloatProgressModel",
            "bar_style": "success",
            "max": 1648877,
            "_view_module": "@jupyter-widgets/controls",
            "_model_module_version": "1.5.0",
            "value": 1648877,
            "_view_count": null,
            "_view_module_version": "1.5.0",
            "orientation": "horizontal",
            "min": 0,
            "description_tooltip": null,
            "_model_module": "@jupyter-widgets/controls",
            "layout": "IPY_MODEL_e9ac02c14da94445a8b9fdd704bfe497"
          }
        },
        "61bf8b1da9fe464bbc7b829ed4a77c87": {
          "model_module": "@jupyter-widgets/controls",
          "model_name": "HTMLModel",
          "model_module_version": "1.5.0",
          "state": {
            "_view_name": "HTMLView",
            "style": "IPY_MODEL_bb041da6b8c247dcbe01d0adf6c8bd6f",
            "_dom_classes": [],
            "description": "",
            "_model_name": "HTMLModel",
            "placeholder": "​",
            "_view_module": "@jupyter-widgets/controls",
            "_model_module_version": "1.5.0",
            "value": " 1649664/? [00:00&lt;00:00, 18323986.60it/s]",
            "_view_count": null,
            "_view_module_version": "1.5.0",
            "description_tooltip": null,
            "_model_module": "@jupyter-widgets/controls",
            "layout": "IPY_MODEL_af425e6eaa2b47989b33f185ad2ea093"
          }
        },
        "c398266ad7bf4e1bb094566cec1f1c18": {
          "model_module": "@jupyter-widgets/controls",
          "model_name": "DescriptionStyleModel",
          "model_module_version": "1.5.0",
          "state": {
            "_view_name": "StyleView",
            "_model_name": "DescriptionStyleModel",
            "description_width": "",
            "_view_module": "@jupyter-widgets/base",
            "_model_module_version": "1.5.0",
            "_view_count": null,
            "_view_module_version": "1.2.0",
            "_model_module": "@jupyter-widgets/controls"
          }
        },
        "89da696d1c1540d4bd161fac55f71531": {
          "model_module": "@jupyter-widgets/base",
          "model_name": "LayoutModel",
          "model_module_version": "1.2.0",
          "state": {
            "_view_name": "LayoutView",
            "grid_template_rows": null,
            "right": null,
            "justify_content": null,
            "_view_module": "@jupyter-widgets/base",
            "overflow": null,
            "_model_module_version": "1.2.0",
            "_view_count": null,
            "flex_flow": null,
            "width": null,
            "min_width": null,
            "border": null,
            "align_items": null,
            "bottom": null,
            "_model_module": "@jupyter-widgets/base",
            "top": null,
            "grid_column": null,
            "overflow_y": null,
            "overflow_x": null,
            "grid_auto_flow": null,
            "grid_area": null,
            "grid_template_columns": null,
            "flex": null,
            "_model_name": "LayoutModel",
            "justify_items": null,
            "grid_row": null,
            "max_height": null,
            "align_content": null,
            "visibility": null,
            "align_self": null,
            "height": null,
            "min_height": null,
            "padding": null,
            "grid_auto_rows": null,
            "grid_gap": null,
            "max_width": null,
            "order": null,
            "_view_module_version": "1.2.0",
            "grid_template_areas": null,
            "object_position": null,
            "object_fit": null,
            "grid_auto_columns": null,
            "margin": null,
            "display": null,
            "left": null
          }
        },
        "261918361940494b9893f6ed15da6bf6": {
          "model_module": "@jupyter-widgets/controls",
          "model_name": "ProgressStyleModel",
          "model_module_version": "1.5.0",
          "state": {
            "_view_name": "StyleView",
            "_model_name": "ProgressStyleModel",
            "description_width": "",
            "_view_module": "@jupyter-widgets/base",
            "_model_module_version": "1.5.0",
            "_view_count": null,
            "_view_module_version": "1.2.0",
            "bar_color": null,
            "_model_module": "@jupyter-widgets/controls"
          }
        },
        "e9ac02c14da94445a8b9fdd704bfe497": {
          "model_module": "@jupyter-widgets/base",
          "model_name": "LayoutModel",
          "model_module_version": "1.2.0",
          "state": {
            "_view_name": "LayoutView",
            "grid_template_rows": null,
            "right": null,
            "justify_content": null,
            "_view_module": "@jupyter-widgets/base",
            "overflow": null,
            "_model_module_version": "1.2.0",
            "_view_count": null,
            "flex_flow": null,
            "width": null,
            "min_width": null,
            "border": null,
            "align_items": null,
            "bottom": null,
            "_model_module": "@jupyter-widgets/base",
            "top": null,
            "grid_column": null,
            "overflow_y": null,
            "overflow_x": null,
            "grid_auto_flow": null,
            "grid_area": null,
            "grid_template_columns": null,
            "flex": null,
            "_model_name": "LayoutModel",
            "justify_items": null,
            "grid_row": null,
            "max_height": null,
            "align_content": null,
            "visibility": null,
            "align_self": null,
            "height": null,
            "min_height": null,
            "padding": null,
            "grid_auto_rows": null,
            "grid_gap": null,
            "max_width": null,
            "order": null,
            "_view_module_version": "1.2.0",
            "grid_template_areas": null,
            "object_position": null,
            "object_fit": null,
            "grid_auto_columns": null,
            "margin": null,
            "display": null,
            "left": null
          }
        },
        "bb041da6b8c247dcbe01d0adf6c8bd6f": {
          "model_module": "@jupyter-widgets/controls",
          "model_name": "DescriptionStyleModel",
          "model_module_version": "1.5.0",
          "state": {
            "_view_name": "StyleView",
            "_model_name": "DescriptionStyleModel",
            "description_width": "",
            "_view_module": "@jupyter-widgets/base",
            "_model_module_version": "1.5.0",
            "_view_count": null,
            "_view_module_version": "1.2.0",
            "_model_module": "@jupyter-widgets/controls"
          }
        },
        "af425e6eaa2b47989b33f185ad2ea093": {
          "model_module": "@jupyter-widgets/base",
          "model_name": "LayoutModel",
          "model_module_version": "1.2.0",
          "state": {
            "_view_name": "LayoutView",
            "grid_template_rows": null,
            "right": null,
            "justify_content": null,
            "_view_module": "@jupyter-widgets/base",
            "overflow": null,
            "_model_module_version": "1.2.0",
            "_view_count": null,
            "flex_flow": null,
            "width": null,
            "min_width": null,
            "border": null,
            "align_items": null,
            "bottom": null,
            "_model_module": "@jupyter-widgets/base",
            "top": null,
            "grid_column": null,
            "overflow_y": null,
            "overflow_x": null,
            "grid_auto_flow": null,
            "grid_area": null,
            "grid_template_columns": null,
            "flex": null,
            "_model_name": "LayoutModel",
            "justify_items": null,
            "grid_row": null,
            "max_height": null,
            "align_content": null,
            "visibility": null,
            "align_self": null,
            "height": null,
            "min_height": null,
            "padding": null,
            "grid_auto_rows": null,
            "grid_gap": null,
            "max_width": null,
            "order": null,
            "_view_module_version": "1.2.0",
            "grid_template_areas": null,
            "object_position": null,
            "object_fit": null,
            "grid_auto_columns": null,
            "margin": null,
            "display": null,
            "left": null
          }
        },
        "cc7215ccbf054004914d9d4f913da395": {
          "model_module": "@jupyter-widgets/controls",
          "model_name": "HBoxModel",
          "model_module_version": "1.5.0",
          "state": {
            "_view_name": "HBoxView",
            "_dom_classes": [],
            "_model_name": "HBoxModel",
            "_view_module": "@jupyter-widgets/controls",
            "_model_module_version": "1.5.0",
            "_view_count": null,
            "_view_module_version": "1.5.0",
            "box_style": "",
            "layout": "IPY_MODEL_1805c71e856b4e6a950c6fb62b7ae9c6",
            "_model_module": "@jupyter-widgets/controls",
            "children": [
              "IPY_MODEL_aca4ad4cf9a64eb393fdc7e8123ef457",
              "IPY_MODEL_5fe4b1ee34cc45f38798ae1baf5419bc",
              "IPY_MODEL_78daf6d485c040c6b2c426d865496709"
            ]
          }
        },
        "1805c71e856b4e6a950c6fb62b7ae9c6": {
          "model_module": "@jupyter-widgets/base",
          "model_name": "LayoutModel",
          "model_module_version": "1.2.0",
          "state": {
            "_view_name": "LayoutView",
            "grid_template_rows": null,
            "right": null,
            "justify_content": null,
            "_view_module": "@jupyter-widgets/base",
            "overflow": null,
            "_model_module_version": "1.2.0",
            "_view_count": null,
            "flex_flow": null,
            "width": null,
            "min_width": null,
            "border": null,
            "align_items": null,
            "bottom": null,
            "_model_module": "@jupyter-widgets/base",
            "top": null,
            "grid_column": null,
            "overflow_y": null,
            "overflow_x": null,
            "grid_auto_flow": null,
            "grid_area": null,
            "grid_template_columns": null,
            "flex": null,
            "_model_name": "LayoutModel",
            "justify_items": null,
            "grid_row": null,
            "max_height": null,
            "align_content": null,
            "visibility": null,
            "align_self": null,
            "height": null,
            "min_height": null,
            "padding": null,
            "grid_auto_rows": null,
            "grid_gap": null,
            "max_width": null,
            "order": null,
            "_view_module_version": "1.2.0",
            "grid_template_areas": null,
            "object_position": null,
            "object_fit": null,
            "grid_auto_columns": null,
            "margin": null,
            "display": null,
            "left": null
          }
        },
        "aca4ad4cf9a64eb393fdc7e8123ef457": {
          "model_module": "@jupyter-widgets/controls",
          "model_name": "HTMLModel",
          "model_module_version": "1.5.0",
          "state": {
            "_view_name": "HTMLView",
            "style": "IPY_MODEL_b6494f77d9b44a5d98e8c5c1c394d535",
            "_dom_classes": [],
            "description": "",
            "_model_name": "HTMLModel",
            "placeholder": "​",
            "_view_module": "@jupyter-widgets/controls",
            "_model_module_version": "1.5.0",
            "value": "",
            "_view_count": null,
            "_view_module_version": "1.5.0",
            "description_tooltip": null,
            "_model_module": "@jupyter-widgets/controls",
            "layout": "IPY_MODEL_43f4ed3d8fc549f68540b8607fb6bc2c"
          }
        },
        "5fe4b1ee34cc45f38798ae1baf5419bc": {
          "model_module": "@jupyter-widgets/controls",
          "model_name": "FloatProgressModel",
          "model_module_version": "1.5.0",
          "state": {
            "_view_name": "ProgressView",
            "style": "IPY_MODEL_6dcaed9fea434774b7a32dba4064c031",
            "_dom_classes": [],
            "description": "",
            "_model_name": "FloatProgressModel",
            "bar_style": "success",
            "max": 4542,
            "_view_module": "@jupyter-widgets/controls",
            "_model_module_version": "1.5.0",
            "value": 4542,
            "_view_count": null,
            "_view_module_version": "1.5.0",
            "orientation": "horizontal",
            "min": 0,
            "description_tooltip": null,
            "_model_module": "@jupyter-widgets/controls",
            "layout": "IPY_MODEL_d9710bc076cc4eb9b796cff35fefb011"
          }
        },
        "78daf6d485c040c6b2c426d865496709": {
          "model_module": "@jupyter-widgets/controls",
          "model_name": "HTMLModel",
          "model_module_version": "1.5.0",
          "state": {
            "_view_name": "HTMLView",
            "style": "IPY_MODEL_617d3df0a80a459698318438ae5e77d4",
            "_dom_classes": [],
            "description": "",
            "_model_name": "HTMLModel",
            "placeholder": "​",
            "_view_module": "@jupyter-widgets/controls",
            "_model_module_version": "1.5.0",
            "value": " 5120/? [00:00&lt;00:00, 104704.74it/s]",
            "_view_count": null,
            "_view_module_version": "1.5.0",
            "description_tooltip": null,
            "_model_module": "@jupyter-widgets/controls",
            "layout": "IPY_MODEL_848c81ef96e94f7bbf0ab22cf0a951e5"
          }
        },
        "b6494f77d9b44a5d98e8c5c1c394d535": {
          "model_module": "@jupyter-widgets/controls",
          "model_name": "DescriptionStyleModel",
          "model_module_version": "1.5.0",
          "state": {
            "_view_name": "StyleView",
            "_model_name": "DescriptionStyleModel",
            "description_width": "",
            "_view_module": "@jupyter-widgets/base",
            "_model_module_version": "1.5.0",
            "_view_count": null,
            "_view_module_version": "1.2.0",
            "_model_module": "@jupyter-widgets/controls"
          }
        },
        "43f4ed3d8fc549f68540b8607fb6bc2c": {
          "model_module": "@jupyter-widgets/base",
          "model_name": "LayoutModel",
          "model_module_version": "1.2.0",
          "state": {
            "_view_name": "LayoutView",
            "grid_template_rows": null,
            "right": null,
            "justify_content": null,
            "_view_module": "@jupyter-widgets/base",
            "overflow": null,
            "_model_module_version": "1.2.0",
            "_view_count": null,
            "flex_flow": null,
            "width": null,
            "min_width": null,
            "border": null,
            "align_items": null,
            "bottom": null,
            "_model_module": "@jupyter-widgets/base",
            "top": null,
            "grid_column": null,
            "overflow_y": null,
            "overflow_x": null,
            "grid_auto_flow": null,
            "grid_area": null,
            "grid_template_columns": null,
            "flex": null,
            "_model_name": "LayoutModel",
            "justify_items": null,
            "grid_row": null,
            "max_height": null,
            "align_content": null,
            "visibility": null,
            "align_self": null,
            "height": null,
            "min_height": null,
            "padding": null,
            "grid_auto_rows": null,
            "grid_gap": null,
            "max_width": null,
            "order": null,
            "_view_module_version": "1.2.0",
            "grid_template_areas": null,
            "object_position": null,
            "object_fit": null,
            "grid_auto_columns": null,
            "margin": null,
            "display": null,
            "left": null
          }
        },
        "6dcaed9fea434774b7a32dba4064c031": {
          "model_module": "@jupyter-widgets/controls",
          "model_name": "ProgressStyleModel",
          "model_module_version": "1.5.0",
          "state": {
            "_view_name": "StyleView",
            "_model_name": "ProgressStyleModel",
            "description_width": "",
            "_view_module": "@jupyter-widgets/base",
            "_model_module_version": "1.5.0",
            "_view_count": null,
            "_view_module_version": "1.2.0",
            "bar_color": null,
            "_model_module": "@jupyter-widgets/controls"
          }
        },
        "d9710bc076cc4eb9b796cff35fefb011": {
          "model_module": "@jupyter-widgets/base",
          "model_name": "LayoutModel",
          "model_module_version": "1.2.0",
          "state": {
            "_view_name": "LayoutView",
            "grid_template_rows": null,
            "right": null,
            "justify_content": null,
            "_view_module": "@jupyter-widgets/base",
            "overflow": null,
            "_model_module_version": "1.2.0",
            "_view_count": null,
            "flex_flow": null,
            "width": null,
            "min_width": null,
            "border": null,
            "align_items": null,
            "bottom": null,
            "_model_module": "@jupyter-widgets/base",
            "top": null,
            "grid_column": null,
            "overflow_y": null,
            "overflow_x": null,
            "grid_auto_flow": null,
            "grid_area": null,
            "grid_template_columns": null,
            "flex": null,
            "_model_name": "LayoutModel",
            "justify_items": null,
            "grid_row": null,
            "max_height": null,
            "align_content": null,
            "visibility": null,
            "align_self": null,
            "height": null,
            "min_height": null,
            "padding": null,
            "grid_auto_rows": null,
            "grid_gap": null,
            "max_width": null,
            "order": null,
            "_view_module_version": "1.2.0",
            "grid_template_areas": null,
            "object_position": null,
            "object_fit": null,
            "grid_auto_columns": null,
            "margin": null,
            "display": null,
            "left": null
          }
        },
        "617d3df0a80a459698318438ae5e77d4": {
          "model_module": "@jupyter-widgets/controls",
          "model_name": "DescriptionStyleModel",
          "model_module_version": "1.5.0",
          "state": {
            "_view_name": "StyleView",
            "_model_name": "DescriptionStyleModel",
            "description_width": "",
            "_view_module": "@jupyter-widgets/base",
            "_model_module_version": "1.5.0",
            "_view_count": null,
            "_view_module_version": "1.2.0",
            "_model_module": "@jupyter-widgets/controls"
          }
        },
        "848c81ef96e94f7bbf0ab22cf0a951e5": {
          "model_module": "@jupyter-widgets/base",
          "model_name": "LayoutModel",
          "model_module_version": "1.2.0",
          "state": {
            "_view_name": "LayoutView",
            "grid_template_rows": null,
            "right": null,
            "justify_content": null,
            "_view_module": "@jupyter-widgets/base",
            "overflow": null,
            "_model_module_version": "1.2.0",
            "_view_count": null,
            "flex_flow": null,
            "width": null,
            "min_width": null,
            "border": null,
            "align_items": null,
            "bottom": null,
            "_model_module": "@jupyter-widgets/base",
            "top": null,
            "grid_column": null,
            "overflow_y": null,
            "overflow_x": null,
            "grid_auto_flow": null,
            "grid_area": null,
            "grid_template_columns": null,
            "flex": null,
            "_model_name": "LayoutModel",
            "justify_items": null,
            "grid_row": null,
            "max_height": null,
            "align_content": null,
            "visibility": null,
            "align_self": null,
            "height": null,
            "min_height": null,
            "padding": null,
            "grid_auto_rows": null,
            "grid_gap": null,
            "max_width": null,
            "order": null,
            "_view_module_version": "1.2.0",
            "grid_template_areas": null,
            "object_position": null,
            "object_fit": null,
            "grid_auto_columns": null,
            "margin": null,
            "display": null,
            "left": null
          }
        }
      }
    },
    "accelerator": "GPU"
  },
  "cells": [
    {
      "cell_type": "markdown",
      "metadata": {
        "id": "view-in-github",
        "colab_type": "text"
      },
      "source": [
        "<a href=\"https://colab.research.google.com/github/kd303/trnsfrmr_pytrch_end_p1/blob/main/pytorch_intro/PyTorchAssginment1_multitask_Learning.ipynb\" target=\"_parent\"><img src=\"https://colab.research.google.com/assets/colab-badge.svg\" alt=\"Open In Colab\"/></a>"
      ]
    },
    {
      "cell_type": "code",
      "metadata": {
        "id": "p6unO7wDLiMT"
      },
      "source": [
        ""
      ],
      "execution_count": null,
      "outputs": []
    },
    {
      "cell_type": "markdown",
      "metadata": {
        "id": "b4ncwCtaLjYB"
      },
      "source": [
        "## Problem Statement:\n",
        "\n",
        "We are to solve for a neural network which outputs a sum of  an image of a number between **0 & 9** and also a *random number generated* between **0 & 9** \n",
        "\n",
        "\n",
        "Nueral nets are not great at solving linear equations, this is an excersize in understanding **PyTorch** Data Loader and built an intution on nural net and their working.\n",
        "\n",
        "  \n",
        "### **Following Image shows a sample of what we are trying to achieve:**\n",
        "---\n",
        "5 is an image and 7 is a generated number, which gives two outputs number that is recongnized by NN and 13 is a sum of two input numbers\n",
        "\n",
        "![SampleNN.JPG](data:image/jpeg;base64,/9j/4AAQSkZJRgABAQEAYABgAAD/4RD0RXhpZgAATU0AKgAAAAgABAE7AAIAAAAOAAAISodpAAQAAAABAAAIWJydAAEAAAAcAAAQ0OocAAcAAAgMAAAAPgAAAAAc6gAAAAgAAAAAAAAAAAAAAAAAAAAAAAAAAAAAAAAAAAAAAAAAAAAAAAAAAAAAAAAAAAAAAAAAAAAAAAAAAAAAAAAAAAAAAAAAAAAAAAAAAAAAAAAAAAAAAAAAAAAAAAAAAAAAAAAAAAAAAAAAAAAAAAAAAAAAAAAAAAAAAAAAAAAAAAAAAAAAAAAAAAAAAAAAAAAAAAAAAAAAAAAAAAAAAAAAAAAAAAAAAAAAAAAAAAAAAAAAAAAAAAAAAAAAAAAAAAAAAAAAAAAAAAAAAAAAAAAAAAAAAAAAAAAAAAAAAAAAAAAAAAAAAAAAAAAAAAAAAAAAAAAAAAAAAAAAAAAAAAAAAAAAAAAAAAAAAAAAAAAAAAAAAAAAAAAAAAAAAAAAAAAAAAAAAAAAAAAAAAAAAAAAAAAAAAAAAAAAAAAAAAAAAAAAAAAAAAAAAAAAAAAAAAAAAAAAAAAAAAAAAAAAAAAAAAAAAAAAAAAAAAAAAAAAAAAAAAAAAAAAAAAAAAAAAAAAAAAAAAAAAAAAAAAAAAAAAAAAAAAAAAAAAAAAAAAAAAAAAAAAAAAAAAAAAAAAAAAAAAAAAAAAAAAAAAAAAAAAAAAAAAAAAAAAAAAAAAAAAAAAAAAAAAAAAAAAAAAAAAAAAAAAAAAAAAAAAAAAAAAAAAAAAAAAAAAAAAAAAAAAAAAAAAAAAAAAAAAAAAAAAAAAAAAAAAAAAAAAAAAAAAAAAAAAAAAAAAAAAAAAAAAAAAAAAAAAAAAAAAAAAAAAAAAAAAAAAAAAAAAAAAAAAAAAAAAAAAAAAAAAAAAAAAAAAAAAAAAAAAAAAAAAAAAAAAAAAAAAAAAAAAAAAAAAAAAAAAAAAAAAAAAAAAAAAAAAAAAAAAAAAAAAAAAAAAAAAAAAAAAAAAAAAAAAAAAAAAAAAAAAAAAAAAAAAAAAAAAAAAAAAAAAAAAAAAAAAAAAAAAAAAAAAAAAAAAAAAAAAAAAAAAAAAAAAAAAAAAAAAAAAAAAAAAAAAAAAAAAAAAAAAAAAAAAAAAAAAAAAAAAAAAAAAAAAAAAAAAAAAAAAAAAAAAAAAAAAAAAAAAAAAAAAAAAAAAAAAAAAAAAAAAAAAAAAAAAAAAAAAAAAAAAAAAAAAAAAAAAAAAAAAAAAAAAAAAAAAAAAAAAAAAAAAAAAAAAAAAAAAAAAAAAAAAAAAAAAAAAAAAAAAAAAAAAAAAAAAAAAAAAAAAAAAAAAAAAAAAAAAAAAAAAAAAAAAAAAAAAAAAAAAAAAAAAAAAAAAAAAAAAAAAAAAAAAAAAAAAAAAAAAAAAAAAAAAAAAAAAAAAAAAAAAAAAAAAAAAAAAAAAAAAAAAAAAAAAAAAAAAAAAAAAAAAAAAAAAAAAAAAAAAAAAAAAAAAAAAAAAAAAAAAAAAAAAAAAAAAAAAAAAAAAAAAAAAAAAAAAAAAAAAAAAAAAAAAAAAAAAAAAAAAAAAAAAAAAAAAAAAAAAAAAAAAAAAAAAAAAAAAAAAAAAAAAAAAAAAAAAAAAAAAAAAAAAAAAAAAAAAAAAAAAAAAAAAAAAAAAAAAAAAAAAAAAAAAAAAAAAAAAAAAAAAAAAAAAAAAAAAAAAAAAAAAAAAAAAAAAAAAAAAAAAAAAAAAAAAAAAAAAAAAAAAAAAAAAAAAAAAAAAAAAAAAAAAAAAAAAAAAAAAAAAAAAAAAAAAAAAAAAAAAAAAAAAAAAAAAAAAAAAAAAAAAAAAAAAAAAAAAAAAAAAAAAAAAAAAAAAAAAAAAAAAAAAAAAAAAAAAAAAAAAAAAAAAAAAAAAAAAAAAAAAAAAAAAAAAAAAAAAAAAAAAAAAAAAAAAAAAAAAAAAAAAAAAAAAAAAAAAAAAAAAAAAAAAAAAAAAAAAAAAAAAAAAAAAAAAAAAAAAAAAAAAAAAAAAAAAAAAAAAAAAAAAAAAAAAAAAAAAAAAAAAAAAAAAAAAAAAAAAAAAAAAAAAAAAAAAAAAAAAAAAAAAAAAAAAAAAAAAAAAAAAAAAAAAAAAAAAAAAAAAAAAAAAAAAAAAAAAAAAAAAAAAAAAAAAAAAAAAAAAAAAAAAAAAAAAAAAAAAAAAAAAAAAAAAAAAAAAAAAAAAAAAAAAAAAAAAAAAAAAAAAAAAAAAAAAAAAAAAAAAAAAAAAAAAAAAAAAAAAAAAAAAAAAAAAAAAAAAAAAAAAAAAAAAAAAAAAAAAAAAAAAAAAAAAAAAAAAAAAAAAAAAAAAAAAAAAAAAAAAAAAAAAAAAAAAAAAAAAAAAAAAAAAAAAAAAAAAAAAAAAAAAAAAAAAAAAAAAAAAAAAAAAAAAAAAAAAAAAAAAAAAAAAAAAAAAAAAAAAAAAAAAAAAAAAAAAAAAAAAAAAAAAAAAAAAAAAAAAAAAAAAAAAAAAAAAAAAAAAAAAAAAAAAAAAAAAAAAAAAAAAAAAAAAAAAAAAAAAAAAAAAAAAAAAAAAAAAAAAAAAAAAAAAAAAAAAAAAAAAAAAAAAAAAAAAAAAAAAAAAAAAAAAAAAAAAAAAAAAAAAAAAAAAAAAAAAAAAAAAAAAAAAAAAAAAAAAAAAAAAAAAAAAAAAAAAAAAAAAAAAAAAAAAAAAAAAAAAAAAAAAAAAAAAAAAAAAAAAAAAAAAAAAAAAAAAAAAAAAAAAAAAAAAAAAAAAAAAAAAAAAAAAAAAAAAAAAAAAAAAAAAAAAAAAAAAAAAAAAAAAAAAAAAAAAAAAAAAAAAAAAAAAAAAAAAAAAAAAEthdXNoYWwgRGVzYWkAAAWQAwACAAAAFAAAEKaQBAACAAAAFAAAELqSkQACAAAAAzY2AACSkgACAAAAAzY2AADqHAAHAAAIDAAACJoAAAAAHOoAAAAIAAAAAAAAAAAAAAAAAAAAAAAAAAAAAAAAAAAAAAAAAAAAAAAAAAAAAAAAAAAAAAAAAAAAAAAAAAAAAAAAAAAAAAAAAAAAAAAAAAAAAAAAAAAAAAAAAAAAAAAAAAAAAAAAAAAAAAAAAAAAAAAAAAAAAAAAAAAAAAAAAAAAAAAAAAAAAAAAAAAAAAAAAAAAAAAAAAAAAAAAAAAAAAAAAAAAAAAAAAAAAAAAAAAAAAAAAAAAAAAAAAAAAAAAAAAAAAAAAAAAAAAAAAAAAAAAAAAAAAAAAAAAAAAAAAAAAAAAAAAAAAAAAAAAAAAAAAAAAAAAAAAAAAAAAAAAAAAAAAAAAAAAAAAAAAAAAAAAAAAAAAAAAAAAAAAAAAAAAAAAAAAAAAAAAAAAAAAAAAAAAAAAAAAAAAAAAAAAAAAAAAAAAAAAAAAAAAAAAAAAAAAAAAAAAAAAAAAAAAAAAAAAAAAAAAAAAAAAAAAAAAAAAAAAAAAAAAAAAAAAAAAAAAAAAAAAAAAAAAAAAAAAAAAAAAAAAAAAAAAAAAAAAAAAAAAAAAAAAAAAAAAAAAAAAAAAAAAAAAAAAAAAAAAAAAAAAAAAAAAAAAAAAAAAAAAAAAAAAAAAAAAAAAAAAAAAAAAAAAAAAAAAAAAAAAAAAAAAAAAAAAAAAAAAAAAAAAAAAAAAAAAAAAAAAAAAAAAAAAAAAAAAAAAAAAAAAAAAAAAAAAAAAAAAAAAAAAAAAAAAAAAAAAAAAAAAAAAAAAAAAAAAAAAAAAAAAAAAAAAAAAAAAAAAAAAAAAAAAAAAAAAAAAAAAAAAAAAAAAAAAAAAAAAAAAAAAAAAAAAAAAAAAAAAAAAAAAAAAAAAAAAAAAAAAAAAAAAAAAAAAAAAAAAAAAAAAAAAAAAAAAAAAAAAAAAAAAAAAAAAAAAAAAAAAAAAAAAAAAAAAAAAAAAAAAAAAAAAAAAAAAAAAAAAAAAAAAAAAAAAAAAAAAAAAAAAAAAAAAAAAAAAAAAAAAAAAAAAAAAAAAAAAAAAAAAAAAAAAAAAAAAAAAAAAAAAAAAAAAAAAAAAAAAAAAAAAAAAAAAAAAAAAAAAAAAAAAAAAAAAAAAAAAAAAAAAAAAAAAAAAAAAAAAAAAAAAAAAAAAAAAAAAAAAAAAAAAAAAAAAAAAAAAAAAAAAAAAAAAAAAAAAAAAAAAAAAAAAAAAAAAAAAAAAAAAAAAAAAAAAAAAAAAAAAAAAAAAAAAAAAAAAAAAAAAAAAAAAAAAAAAAAAAAAAAAAAAAAAAAAAAAAAAAAAAAAAAAAAAAAAAAAAAAAAAAAAAAAAAAAAAAAAAAAAAAAAAAAAAAAAAAAAAAAAAAAAAAAAAAAAAAAAAAAAAAAAAAAAAAAAAAAAAAAAAAAAAAAAAAAAAAAAAAAAAAAAAAAAAAAAAAAAAAAAAAAAAAAAAAAAAAAAAAAAAAAAAAAAAAAAAAAAAAAAAAAAAAAAAAAAAAAAAAAAAAAAAAAAAAAAAAAAAAAAAAAAAAAAAAAAAAAAAAAAAAAAAAAAAAAAAAAAAAAAAAAAAAAAAAAAAAAAAAAAAAAAAAAAAAAAAAAAAAAAAAAAAAAAAAAAAAAAAAAAAAAAAAAAAAAAAAAAAAAAAAAAAAAAAAAAAAAAAAAAAAAAAAAAAAAAAAAAAAAAAAAAAAAAAAAAAAAAAAAAAAAAAAAAAAAAAAAAAAAAAAAAAAAAAAAAAAAAAAAAAAAAAAAAAAAAAAAAAAAAAAAAAAAAAAAAAAAAAAAAAAAAAAAAAAAAAAAAAAAAAAAAAAAAAAAAAAAAAAAAAAAAAAAAAAAAAAAAAAAAAAAAAAAAAAAAAAAAAAAAAAAAAAAAAAAAAAAAAAAAAAAAAAAAAAAAAAAAAAAAAAAAAAAAAAAAAAAAAAAAAAAAAAAAAAAAAAAAAAAAAAAAAAAAAAAAAAAAAAAAAAAAAAAAAAAAAAAAAAAAAAAAAAAAAAAAAAAAAAAAAAAAAAAAAAAAAAAAAAAAAAAAAAAAAAAAAAAAAAAAAAAAAAAAAAAAAAAAAAAAAAAAAAAAAAAAAAAAAAAAAAAAAAAAAAAAAAAAAAAAAAAAAAAAAAAAAAAAAAAAAAAAAAAAAAAAAAAAAAAAAAAAAAAAAAAAAAAAAAAAAAAAAAAAAAAAAAAAAAAAAAAAAAAAAAAAAAAAAAAAAAAAAAAAAAAAAAAAAAAAAAAAAAAAAAAAAAAAAAAAAAAAAAAAAAAAAAAAAAAAAAAAAAAAAAAAAAAAAAAAAAAAAAAAAAAAAAAAAAAAAAAAAAAAAAAAAAAAAAAAAAAAAAAAAAAAAAAAAAAAAAAAAAAAAAAAAAAAAAAAAAAAAAAAAAAAAAAAAAAAAAAAAAAAAAAAAAAAAAAAAAAAAAAAAAAAAAAAAAAAAAAAAAAAAAAAAAAAAAAAAAAAAAAAAAAAAAAAAAAAAAAAAAAAAAAAAAAAAAAAAAAAAAAAAAAAAAAAAAAAAAAAAAAAAAAAAAAAAAAAAAAAAAAAAAAAAAAAAAAAAAAAAAAAAAAAAAAAAAAAAAAAAAAAAAAAAAAAAAAAAAAAAAAAAAAAAAAAAAAAAAAAAAAAAAAAAAAAAAAAAAAAAAAAAAAAAAAAAAAAAAAAAAAAAAAAAAAAAAAAAAAAAAAAAAAAAAAAAAAAAAAAAAAAAAAAAAAAAAAAAAAAAAAAAAAAAAAAAAAAAAAAAAAAAAAAAAAAAAAAAAAAAAAAAAyMDIxOjEwOjE1IDE0OjM1OjE0ADIwMjE6MTA6MTUgMTQ6MzU6MTQAAABLAGEAdQBzAGgAYQBsACAARABlAHMAYQBpAAAA/+ELIGh0dHA6Ly9ucy5hZG9iZS5jb20veGFwLzEuMC8APD94cGFja2V0IGJlZ2luPSfvu78nIGlkPSdXNU0wTXBDZWhpSHpyZVN6TlRjemtjOWQnPz4NCjx4OnhtcG1ldGEgeG1sbnM6eD0iYWRvYmU6bnM6bWV0YS8iPjxyZGY6UkRGIHhtbG5zOnJkZj0iaHR0cDovL3d3dy53My5vcmcvMTk5OS8wMi8yMi1yZGYtc3ludGF4LW5zIyI+PHJkZjpEZXNjcmlwdGlvbiByZGY6YWJvdXQ9InV1aWQ6ZmFmNWJkZDUtYmEzZC0xMWRhLWFkMzEtZDMzZDc1MTgyZjFiIiB4bWxuczpkYz0iaHR0cDovL3B1cmwub3JnL2RjL2VsZW1lbnRzLzEuMS8iLz48cmRmOkRlc2NyaXB0aW9uIHJkZjphYm91dD0idXVpZDpmYWY1YmRkNS1iYTNkLTExZGEtYWQzMS1kMzNkNzUxODJmMWIiIHhtbG5zOnhtcD0iaHR0cDovL25zLmFkb2JlLmNvbS94YXAvMS4wLyI+PHhtcDpDcmVhdGVEYXRlPjIwMjEtMTAtMTVUMTQ6MzU6MTQuNjYwPC94bXA6Q3JlYXRlRGF0ZT48L3JkZjpEZXNjcmlwdGlvbj48cmRmOkRlc2NyaXB0aW9uIHJkZjphYm91dD0idXVpZDpmYWY1YmRkNS1iYTNkLTExZGEtYWQzMS1kMzNkNzUxODJmMWIiIHhtbG5zOmRjPSJodHRwOi8vcHVybC5vcmcvZGMvZWxlbWVudHMvMS4xLyI+PGRjOmNyZWF0b3I+PHJkZjpTZXEgeG1sbnM6cmRmPSJodHRwOi8vd3d3LnczLm9yZy8xOTk5LzAyLzIyLXJkZi1zeW50YXgtbnMjIj48cmRmOmxpPkthdXNoYWwgRGVzYWk8L3JkZjpsaT48L3JkZjpTZXE+DQoJCQk8L2RjOmNyZWF0b3I+PC9yZGY6RGVzY3JpcHRpb24+PC9yZGY6UkRGPjwveDp4bXBtZXRhPg0KICAgICAgICAgICAgICAgICAgICAgICAgICAgICAgICAgICAgICAgICAgICAgICAgICAgICAgICAgICAgICAgICAgICAgICAgICAgICAgICAgICAgICAgICAgICAgICAgICAgIAogICAgICAgICAgICAgICAgICAgICAgICAgICAgICAgICAgICAgICAgICAgICAgICAgICAgICAgICAgICAgICAgICAgICAgICAgICAgICAgICAgICAgICAgICAgICAgICAgICAgCiAgICAgICAgICAgICAgICAgICAgICAgICAgICAgICAgICAgICAgICAgICAgICAgICAgICAgICAgICAgICAgICAgICAgICAgICAgICAgICAgICAgICAgICAgICAgICAgICAgICAKICAgICAgICAgICAgICAgICAgICAgICAgICAgICAgICAgICAgICAgICAgICAgICAgICAgICAgICAgICAgICAgICAgICAgICAgICAgICAgICAgICAgICAgICAgICAgICAgICAgIAogICAgICAgICAgICAgICAgICAgICAgICAgICAgICAgICAgICAgICAgICAgICAgICAgICAgICAgICAgICAgICAgICAgICAgICAgICAgICAgICAgICAgICAgICAgICAgICAgICAgCiAgICAgICAgICAgICAgICAgICAgICAgICAgICAgICAgICAgICAgICAgICAgICAgICAgICAgICAgICAgICAgICAgICAgICAgICAgICAgICAgICAgICAgICAgICAgICAgICAgICAKICAgICAgICAgICAgICAgICAgICAgICAgICAgICAgICAgICAgICAgICAgICAgICAgICAgICAgICAgICAgICAgICAgICAgICAgICAgICAgICAgICAgICAgICAgICAgICAgICAgIAogICAgICAgICAgICAgICAgICAgICAgICAgICAgICAgICAgICAgICAgICAgICAgICAgICAgICAgICAgICAgICAgICAgICAgICAgICAgICAgICAgICAgICAgICAgICAgICAgICAgCiAgICAgICAgICAgICAgICAgICAgICAgICAgICAgICAgICAgICAgICAgICAgICAgICAgICAgICAgICAgICAgICAgICAgICAgICAgICAgICAgICAgICAgICAgICAgICAgICAgICAKICAgICAgICAgICAgICAgICAgICAgICAgICAgICAgICAgICAgICAgICAgICAgICAgICAgICAgICAgICAgICAgICAgICAgICAgICAgICAgICAgICAgICAgICAgICAgICAgICAgIAogICAgICAgICAgICAgICAgICAgICAgICAgICAgICAgICAgICAgICAgICAgICAgICAgICAgICAgICAgICAgICAgICAgICAgICAgICAgICAgICAgICAgICAgICAgICAgICAgICAgCiAgICAgICAgICAgICAgICAgICAgICAgICAgICAgICAgICAgICAgICAgICAgICAgICAgICAgICAgICAgICAgICAgICAgICAgICAgICAgICAgICAgICAgICAgICAgICAgICAgICAKICAgICAgICAgICAgICAgICAgICAgICAgICAgICAgICAgICAgICAgICAgICAgICAgICAgICAgICAgICAgICAgICAgICAgICAgICAgICAgICAgICAgICAgICAgICAgICAgICAgIAogICAgICAgICAgICAgICAgICAgICAgICAgICAgICAgICAgICAgICAgICAgICAgICAgICAgICAgICAgICAgICAgICAgICAgICAgICAgICAgICAgICAgICAgICAgICAgICAgICAgCiAgICAgICAgICAgICAgICAgICAgICAgICAgICAgICAgICAgICAgICAgICAgICAgICAgICAgICAgICAgICAgICAgICAgICAgICAgICAgICAgICAgICAgICAgICAgICAgICAgICAKICAgICAgICAgICAgICAgICAgICAgICAgICAgICAgICAgICAgICAgICAgICAgICAgICAgICAgICAgICAgICAgICAgICAgICAgICAgICAgICAgICAgICAgICAgICAgICAgICAgIAogICAgICAgICAgICAgICAgICAgICAgICAgICAgICAgICAgICAgICAgICAgICAgICAgICAgICAgICAgICAgICAgICAgICAgICAgICAgICAgICAgICAgICAgICAgICAgICAgICAgCiAgICAgICAgICAgICAgICAgICAgICAgICAgICAgICAgICAgICAgICAgICAgICAgICAgICAgICAgICAgICAgICAgICAgICAgICAgICAgICAgICAgICAgICAgICAgICAgICAgICAKICAgICAgICAgICAgICAgICAgICAgICAgICAgICAgICAgICAgICAgICAgICAgICAgICAgICAgICAgICAgICAgICAgICAgICAgICAgICAgICAgICAgICAgICAgICAgICAgICAgIAogICAgICAgICAgICAgICAgICAgICAgICAgICAgICAgICAgICAgICAgICAgICAgICAgICAgICAgICAgICAgICAgICAgICAgICAgICAgICAgICAgICAgICAgICAgICAgICAgICAgCiAgICAgICAgICAgICAgICAgICAgICAgICAgICA8P3hwYWNrZXQgZW5kPSd3Jz8+/9sAQwAHBQUGBQQHBgUGCAcHCAoRCwoJCQoVDxAMERgVGhkYFRgXGx4nIRsdJR0XGCIuIiUoKSssKxogLzMvKjInKisq/9sAQwEHCAgKCQoUCwsUKhwYHCoqKioqKioqKioqKioqKioqKioqKioqKioqKioqKioqKioqKioqKioqKioqKioqKioq/8AAEQgAsgHPAwEiAAIRAQMRAf/EAB8AAAEFAQEBAQEBAAAAAAAAAAABAgMEBQYHCAkKC//EALUQAAIBAwMCBAMFBQQEAAABfQECAwAEEQUSITFBBhNRYQcicRQygZGhCCNCscEVUtHwJDNicoIJChYXGBkaJSYnKCkqNDU2Nzg5OkNERUZHSElKU1RVVldYWVpjZGVmZ2hpanN0dXZ3eHl6g4SFhoeIiYqSk5SVlpeYmZqio6Slpqeoqaqys7S1tre4ubrCw8TFxsfIycrS09TV1tfY2drh4uPk5ebn6Onq8fLz9PX29/j5+v/EAB8BAAMBAQEBAQEBAQEAAAAAAAABAgMEBQYHCAkKC//EALURAAIBAgQEAwQHBQQEAAECdwABAgMRBAUhMQYSQVEHYXETIjKBCBRCkaGxwQkjM1LwFWJy0QoWJDThJfEXGBkaJicoKSo1Njc4OTpDREVGR0hJSlNUVVZXWFlaY2RlZmdoaWpzdHV2d3h5eoKDhIWGh4iJipKTlJWWl5iZmqKjpKWmp6ipqrKztLW2t7i5usLDxMXGx8jJytLT1NXW19jZ2uLj5OXm5+jp6vLz9PX29/j5+v/aAAwDAQACEQMRAD8A+kaKKKACiimPIF60APoqo16ink0z+0Y/7w/OgC9RVH+0Y/7w/Oj+0Y/7w/OgC9RVH+0Y/wC8Pzo/tGP+8PzoAvUVR/tGP+8Pzo/tGP8AvD86AL1FUf7Rj/vD86et8jHgigC3RUaShuhqSgAooooAKKKKACiiigAooooAKKKKACiiigAooooAKKKKACiiigAooooAKKKKACiiigAooooAKKKKACiiigAooooAKKKKACiiigAooooAKKKKACiiigAooooARjgVzviXVjpek3d0o3GCF5ApOM4BOP0roX+7XB+P3I8Oaj/17Sf+gmgDwWb9pTVZTkaFbr/28t/8TUP/AA0Zq3/QGg/8CG/wrxqigD2X/hozVv8AoDQf+BDf4Uf8NGat/wBAaD/wIb/CvGqKAPZf+GjNW/6A0H/gQ3+FH/DRmrf9AaD/AMCG/wAK8cSMucAgfU1as9Mlvb2G2heMPM4Rdx4yaAPWf+GjNW/6A0H/AIEN/hR/w0Zq3/QGg/8AAhv8K5W1+EXiC8bbFPY5xnmVv/iareFvhhrfi68lttLms1eKXym86QgZ/AGgDs/+GjNW/wCgNB/4EN/hUsX7SeqxNn+w4G/7eW/+JrI179nzxb4esRdX1xprRl9mI5mJz/3zXl88TQXEkL43RsVOPUHFAH3j4I8RP4h8MabqksYhe8to5mjDZCFlBxn8a65Tla8u+Ebk+ANCHpYw/wDoAr0+P7goAfRRRQAUUUUAFFFFABRRUF7eQ6fYzXd04SGFC7sewFG4bEepapZaRZtdalcJbwr1ZzjPsPU1xNz8UhM5Gh6NcXcYPEsv7tW+neuXuLq48W6kdW1bd9nDH7HaN91F/vEdyaugYGBwK9COHhBe9qzglXnJ+7ojXj+JuoRNnUPDsgj7mCUOR+FdZoHivSvEcZOnXAMqj54XG11/CvPaoXlg/npfabIbXUITujmTjJ9D6iqlRpy2VhRrVI76ntVFYHg7xIPEuhLcSKI7uFjFcxA/dcf0P+elb9efKLjJxZ3RkpK6CiiipKCiiigAooooAKKKKACiiigAooooAKKKKACiiigAooooAKKKKACiiigAooooAKKKKACiiigAooooAa/3TXA/ED/kXNR/69pP/QTXfP8AdNcD8QP+Rc1H/r2k/wDQTQB8OUUUUAei/CjwHp3jbXms76/mtsWzS5iCk5DAY5B9a9+0f9nvRNMYOupXM/zBsSRp/hXzF4H8XXHhHWmvbeZoi0Jjyq54JB/pXtmnfH03euaZbLeXPlyOqyqYetAHs2k/D/RtLmMht4p/lxtkhUj+VX1svDa3ColnYLLuwoEK5z+VZ/iTxjbaX4Yh1ZTKsUz7VwmT+VfJ198YfFcfiKWWHVGEMdy5QeWMhdxx+lAH1D8SfEVl4K8OxX6W1oN84i/eLgcgnt9K8f0z43W2hxztZWOls8jbujDn8K4Xxz8VJfGfga10y+upZ7yOcSyFo8A4yOv415lQB6946+NN94lsfI+zW0Y80P8Aunf0x3NeRyuZZXkbqzEmm0UAfYfwn1fToPAuiJPf28bLZRAq8oBB2ivTI/EOj7B/xNbP/v8Ar/jXl3wiutMl8HaNbzJEs4s4htlQAt8o5GetetRWFnsH+iwf9+xV2it0yLyexD/wkGj/APQVs/8Av+v+NH/CQaP/ANBWz/7/AK/41Z/s+z/59IP+/YpP7Osv+fSD/v2KPc8w98g/t/R/+grZf+BC/wCNH9v6P/0FbL/wIX/Gp/7Osv8An0g/79ij+zbL/n0g/wC/Yo9zzD3yH+3tI/6Cll/4EL/jR/bmk/8AQUs//AhP8al/s2x/584P+/Yo/syx/wCfOD/v2KPc8w98p33iTTbSxmuIr21naNd3lrcIC2PTnrXDeNPGmmeIfCEdto9zmS7nSOSNvldBnJBHpXd6no1hPpk8Riitw6ENKsYyo7mvNvFmk+GNK8KxP4elt2uLW4R2IcM7jODmurDqm5LR3uc2IdRRe1rAiLHGqIMKoAA9BTqajrJGrocqwBB9RTq6TmCiiigC54Bn+yfEDULRXCxXlks5U93Vtox+BNen14/4e8Px+KPFmpGRnjjs7RY1mjbBSUtuUj14B4rsNPfWNPuvsD3o+0qPkiu8tHOvqj9R9D0rnxEFKV09bI6KE3GNmtLnYUVjL4g+ysE1mzlsj08zG+M/8CFasFzDdRiS3lSVD0ZGzXG4tbnWpJ7ElFFFSUFFFFABRRVLVNYsNFtTcancx28fbceT9B3ppNuyE2krsu0Vwc/xUsi5GnaVe3idnC7Afzp9t8U9NMgXU7C8sAf43Xco/EVt9Xq22MfrFLudzRVexv7XUrVbmwnjnhYcOjZFWKxaa0Zve+wUUUUgCiiigAooooAKKKKACio/tEP/AD1T/voUfaIf+eqf99CldASUUUUwCiiigAooooAKKKKAGv8AdNcD8QP+Rc1H/r2k/wDQTXfP901wPxA/5FzUf+vaT/0E0AfDlFFFABVrTr17DUre7UBmhcOATwcVVooA+w/hz4o07x34RstLvJbX7SkLStArB2XBPY188+NPhzruna3cywaTevFLPK4bySAF3nBHtis3wJ43vvBurm7tLl4cxmPKRq5wT/tV9UeFvFfhf4h2KJLaXUsqKkUjSjZlmHONreooA+Mbm2ms52guY2ilX7yMMEVFX0l8V/gon2qbU9FtrWGOWVQu+4fONvoc+lfOt5aSWc7RyYyGI4PpQBXooooA+uPhVLbXXg3RNP1m2QF7KIwM33ZBtHQ9m9q9Oj0zUdOQNpF350Q/5dbs5H/AX6j8c1wHwvsoNQ+HGi290m9GsYSOcFTsGCD2I9a72zv7jR5UstZfzIHO23viMA+iv6N79DWsW2tPuMmrPX7yeHxDCsy2+qwyadcMcAT/AHHP+y/Q1sAgjIOR6imTQRXMLRXEaSxsMMjqGB/A1kHQZrE79AvWtB/z7TAywH2AJyv4HHtU+6/Ir3l5m1RWKuvvZER6/ZvYnp9oQ+ZA3/AgMr/wICpbjxHp0LCO3lN9OwysNoPMY/XHAHuSBRyS7Bzx7mrVK/1ex0wD7XOqu3CRr8zufQKOTVHydb1T/j4lXSbY/wDLOEiSdh7sflX8AfrV2w0ax01i9rAPOb788hLyP9WPJotFbsLyexSM+s6qCLaBdNt2/wCWlwN0jD2Tt+P5VyMXgrQdD1bUdR8SXUIinykCzsoyCOWx6+gr0eSRIYmkldURRlmY4AFctqWnjxvC0ckKx6WoOyR0HmXDdiuRlV9+pralUav0XUyqQT82eZWOoQafM9p55m08Sslpe7SEcDB25PcZFbgIIyORXeaT4S0+18H22h39tHcxKn70MM5c8kg/j161z9z8LEicnQ9burFO0UqCZV9hnGBXT7enJu+hzewqRStqYlULu+czpYabGbm/mO2OJOce59BXTRfDC+lbGo+Jpnj7rBbrGT/wLNdXoPhXSfDcRGm22JW+/PId0j/U/wCFKVanHZ3HGjUlvoReD/Di+GtCW2dhJdTMZbmX+85/oK1NQ0631O28m6UnByjqcMh9Qexq1RXA5ycuZ7ncopR5VsYdvfzabOun64Q6SHbBdkfLL/st6N/Opp/Dtk8nnWZksZuvmWzbc/Veh/KtG5toby3eC6jWWJxhlYZBrFWe48NuI71nuNKJwlyeXt/Z/Vf9rt39atNv4dyGkvi2Jd+u6d/rI4tUhH8UZEcoH0PB/Op7TxBYXU3kPI1tc/8APC4Uxv8AgD1/CtJWV0DIQysMgg5BFQ3dla38PlXtvHPH/dkUMP1qeZPdFWa2ZODnpRWKdCuLL5tE1KW3HaC4zNF+p3D8G/Cs7XfFGo+H9FubjU9OVJI0PlTwyCSF27Ag4Zcn2P1pqnzO0WJz5VeSNnxBrdv4e0O41G75WJflQdXY9FH1NeT+Xda3enVdfbzZ35jhP3IR2AFXfFHiq08YSeH4rFz5O57i5gPVHUAKD+Z+oNOrvpU3Sjruziq1FUlpshAABgDA9BSMqupV1DKeoIzTqKszKNrdXXhG+/tPSNxtc5urPPysvdgOxFew6ffQanp8F7aPvhnQOh9jXlbKGUqwyCMEHvXQfCy6K6Rf6a75Wyu2SMHsp5/mTWOIipQ5+qNqEuWfL0Z3lFJuX1H50bl9R+deed4tFJuX1H50bl9R+dAC0Um5fUfnWS/ijSoNbbSby4Frd4DIJvlWUHurdPbHWmot7CcktzXqlrE/2bRruXONsTc/hV2sDxrP5HhS75xvAQfiayqS5YN+QpO0WzhvD3hm71+1e4W9eIK2OSTmtgfDu8DA/wBpt19/8ay/D1/4ij08QaJar5QOTIy5yfxrUtvG2raVfLb+I7QBGP31XBA9fQ15lNYdQi5xfrrY5IqnZcyO8t4zFbpGzbiqgE+tSVHBPHcwJNCwZHGVI7ipK9c7QooooAKKKKACiiigBr/dNcD8QP8AkXNR/wCvaT/0E13z/dNcD8QP+Rc1H/r2k/8AQTQB8OUUUUAFFFXLDS7rUZ1it4ySzBQccZoAp10nhyPxJFcJLo8F1JtdWKxuQCe3evT/AAL8CL7UFiudVtbeWCSMkAyYOc17zoPwz8N6Hbr5dgkT4UsfMPUCgBfhh9sv/hrpja/alLoh/Mjm+Yr87Y6+1eFftE6DpOn39g9pKkbmJ22IoG47vYV7/rfjHQ/B1iFuWYRq2wCP5sE818nfF/xxp/jTVLOTTGlK26ureYm3qaAPOaKKKAPs/wCEX/IhaH/14w/+gCvTXt4rq0aC4jWSJxhlYZBFeX/CiaK3+HuiSTyLGgsYcsxwPuCu6TXZbxdmh2jXPbz5PkiH49/wqoxb1RLkloxizT+GmEd2zz6UThJzy1t7N6r79qsTeIoHkMOlQyajN/0x/wBWv1c8flmmf2BJf/Nr1012D/y7p8sQ/Dv+NQ/ZpfC7M9jEZdJZi0kCDLW5PVl9V9R2rX3Zeb/Ay95ehK2lajqin+2bzyoG62loSoI9GfqfwwKRfCtrZN5mhSNpkuOfJ5R/95Dwfr1rZt7iK6t0mt5FkjcZVlOQakqOeS0L5IvUxP7Wv9N+XWrIvGP+Xq0BZfqydR+Gavf2xp509r1buJrdB8zhs49sdc+3WnajqNvplqZrpup2qijLOewA7mufTwr/AGrdHU9RBsbgkNBDbnHlY6FuzNVJRkry0E3JO0dS7Ha3HiGVbjUkaHT1O6G0bgy+jSf0Wt0AKoCjAHQCsX7XrGl8XtuNQtx/y2txiQD3Tv8AhVLSPHWm6lq1/YtKsT22XUtxvTHPXuPShwlJXWyEpRi7PdnSyzRwRNLPIscajLO5wAPrXJX3xN8P2szRWzXF+6nB+zRFgD9a43WdZuvGt87u7w6NE5EMKnHn4/ib2p8NvFbxhII1jUdAoxXTHDxivf3OeWIk37mx1EPxU0VnAu7W+tVP8ckPyj6mus07VbHV7UXGm3UdxEe6HOPqO1eXMoYYYAj0IqgsN1ot4NS8PuYJ05eEfclHcEU5YeEvh0Yo15x+LVHtdFZXhvXrfxJokOoW3ylvlkjPWNx1U1q1wSi4uzO5NSV0FIyq6lXAZSMEEdaWikMwGgufDjmSxRrjSycyWy8tb+rR+q+q/l6HatrqG8tkuLWRZYnGVZTwaJrmC3XdcTRxj1dgK5SfUoLHUDceGfMvDI3+kWcEZKN6sD0U/wA62SdT1Mm1D0OwrL1620eWzE+vwQy28JzmZN6r74/rVGy1rVNahMmm2kFsgJVjcyZZT6FR0P1p91oV7fWkqajqc0wdCPJhAjQ8dD6iko8svedgcuaOiucD4uXRYPE2iXehNaC3mjkhcW20AHgrkDuc/pTquTfD3Q9F8Hz293fwRao2JFupHA2OOQAOw7VgaTqy3sQinIS5UfMp43D+8PUGvSjaUfdd7HnyvGXvaXNOiiikAVofDrQdP1e31TUdQsoblZbthC0sYb5R6Z965+d7jVLxdH0YebeT/K7DkQr3YmvW9C0iDQtFttOtvuQpgn+8e5/E1lWnyQt1ZrRhzzv0RX/4RLw//wBAez/78rR/wiXh/wD6A9n/AN+VrYorh9pPudvJHsY//CJeH/8AoD2f/flaP+ES8P8A/QHs/wDvytbFFHtJ9w5I9jH/AOES8P8A/QHs/wDvytYs3wz0W814391AghQBYrWFdiDHdsdTmuyoqlVqR2YnSg90MhijghSKFFSNFCqqjAUDoKp6tqWnafAv9qyrHHIcDcpIJq/WR4l0Ndd0prfO2RTujb0Nc9Ry5W47lSul7poWZtntUeyC+UwypUcGuV+JMcJ0GGRwPNEwCHv0OaybG+8T+G4zZmx+0xL93gkD8RUcuna/4u1CJtRiMEEZ4XGAB3riq1XVpuCi7vyMZTc48qWp1XghpG8L2/m54GFz6V0NQWNpHY2cdvEMLGuBU9d0I8sUuxvFWVgoooqhhRRRQAUUUUANf7prgfiB/wAi5qP/AF7Sf+gmu+f7tcJ4/Qnw5qP/AF7Sf+gmgD4ZrY0vwnrusN/xLdKurkZAJiiLYz0rIUgMCemea99+HnxR+HvhixkXUINQ88mNgY48jKjn+L1oAi8G/s+Sanpdvdawb+xnkQl4nt/undjHPtXt3g74WaV4RgcRyC7LsHzNCuVwMVyE/wC0t4IS2CWX9pIwPe2HT/vquL1L9o6Z7W4Gn31wspU+UWtUwD2oA938Q+M9B8MW58+/sbZ1bYUkkCYrwHxz+0DeXay2ljbWrxuskfmQzngZwDxXkviTx3rviqRzrF2s4dw5xEq8/gK5wnNAGlqmu32q3kk89xMN5B2eaxA4xWaTmiigAooooA+vvhLpFpN4M0Se9LXLfY4iqStlU+UcBen517BCUWIBSoAHAHavHfhLo+j6h4I0hiizSizi8wLM2VbaM5APFemx+FNG2D/RD/3+f/4qtHZ7t/18zNXWyRs71/vD86Ny/wB4fnWR/wAIpo3/AD6t/wB/5P8A4qj/AIRXR/8An1f/AL/yf/FUrQ7/AIf8Ed59v6+4huLObR7h73Rl8yBzunsgevqyeh9u9TS+JbEWMU1oxuZZzthgT77N3BHbHfPSszU9M0i2mWysLF7nUJBlIhcyAIP7zndwP1PaqZ+H0Fki3tpm4vwS06PK6pOD1UEHK+x5981slBpObMW5ptRR0GnaY5uf7R1aRJr0j5FBykA9F9/U1rbh6j865zTdJ0HU4GaK2mjljO2aF7iQPE3oRu/XvV3/AIRbSf8AnhL/AOBMv/xVZy5b6t/d/wAE0jzW0X4/8Au6jcw22nTzXDOIkQlzHywHcjFeW+MdJ8Lx+GVv/D+2a6vJ1jWdJixOT82efSu81DwlYTadPFZxtHM6FVeS4lKrnjJG7muA8T+ALHwl4Zt7+0kluJ4blGmkdsAgnHCjgfqa6cM4KStJ3uc+IU3F3irWCCFLe3SGMYRFCipKQEEAg5B6GlroOcKKKKAL3w9uv7P8YarpxZVt7i2W8GTgKwbafzyT+FdvL4n0tJDFDObuUdY7VDKw/Bc4rzXw9oNp4l8c3cd7G729rZLllONsm8Eex4ycHIr0OLStX0yMR6ZqUM0K/dhu7YDj0DR7cf8AfJrnrqHPdvXQ6KDnyWWxJ/aWsXX/AB46R5CnpJeShP8Ax1cn8wKP7L1W6/4/9XaNT1js4wn/AI8c/wAhR/bGpWv/ACEtFmwOsllIJl/I7W/IGprfxHpVxIIxeJFKekVwDE//AHy2DXP7y2X6nR7r3f6CQ+G9LibfJb/aZOu+4YyH9eK0kRY1CxqqqOgUYApwORkciisnJvc0UUtjJ1DSZPtJ1DSXWC9A+ZT9yceje/vS23iC0ezmkvG+xy2w/wBIhlODH/iD2I61a1HUrfTLfzbljljtjjQZaRvRR3NYU3hy41yZdU1JxaXseDZxooYQYORv/vkkDI6DtzzWsbSXv7Gcrp+4Y3iXwjJ43iN8bYWZDItuGXEjqWAZ39Btzhev8q3tX8DaNq9jBBJCYJLeMJDPCdroAMAZ7ilm8WQ6XauNfjFpdwsgdQfkkVnC+Yh7qM5I6j8id6WeGCAzTypHEoyXdgAB9TVyqVUktktiIwpu73b3POJvh34htm26frNtPGOn2qMhv0p0Hw31q6YDVtbiii/iW0jOT7ZPSt+7+JXhe0lMf9oee46iCJnH54xUlh8RPDGoTCKPU1hkPRZ1Mf6kY/WtfaYi1+X8DLkw97X/ABNHQfDWmeHLUw6ZBtLf6yVjl5D6k1q0isrqGQhlYZBByCKWuKUnJ3Z2RSirIKKKKQwooooAKKKKACiiigAIB6jNAGOlFFABRRRQAUUUUAFFFFABRRRQAjDIrA8Q6T/ammXNqTt8+Jo92OmQRn9a6CmugYc0AfLc37NIjOF1qU/9shUB/Zwb/oLyf9+hX1I1ojdRTfsMf92gD5c/4Zwb/oLyf9+hR/wzg3/QXk/79CvqP7DH/do+wx/3aAPlz/hnBv8AoLyf9+hR/wAM4N/0F5P+/Qr6j+wx/wB2j7DH/doA+XP+GcG/6C8n/foUf8M4N/0F5P8Av0K+o/sMf92j7DH/AHaAPl3/AIZwb/oLyf8AfoVNF+zV5jYbWpR/2yFfTn2GP+7TltEX+EUAcd4b8CWemeH9OsGL+fZW6QLdxHZIdqgZyPp0reU61pS/OF1W3HcYSYD+TfpWysYXpT+lWpPZ6kuK3RQsdastQby4pdk4+9BKNjj8D/Sq1/qs0102m6KFkux/rZmGUtx6n1b0X86oapHH4muDZWMS7I2xNf45j/2UPdv5VNbaTqHh+MppDpeW24sYJziTJ6kP3P1rTlitevYz5pPTp3NTTNLh0yFghaSaQ7pZ5Dl5G9Sau1l2mv2k832e4D2dz3huBtJ+h6GrV7qVnp8XmXk6RjsCeT9BWbUm9dzROKWhV1PSWmnW+02QW2oRjCvj5ZB/ccdx/LtSWev28kUi6iVsbmD/AF0MrAY9wf4gexqH+0NU1PjTLT7JCf8Al4uhgn6J1/OoLnwfb3eLi5upZ9RQho7qTnYR2C9NvtVpK1pszd73giabVptUjeDSLA3ETgq09yCkWPp1b9K4rTPhi91rGpHVpn+xDKQxoSqsxHUDPQdq7vTNVdp/7P1KNbe9QcAfclH95P8ADtWtVKrKldR0uS6calnLU8UtxcaPfPomr/JcwcROeBMnYitCvRdf8M6b4ktBDqMOWXmOVOHQ+oNcRcfD/wAQ2LEaXqUF5CPurcLhx+NdUa0J7uzOaVGcNldFGqeoagllEAAZJ5DtihXlnbsMVqxeCfFty22aeys07svzmup8OeA9P0Kf7ZO7X1//AM95udv+6O1OVWnDVu/oKNOpLS1hfAfhyXQdFeW/H/Ewvn864P8Ad/ur+AP611FFFedOTnJyZ6EIqEVFBUNxZ213GUuoI5UPUOoNTUVOxRjHwzaRHOmzXGnn0tpSq/8AfH3f0qjfX2s6NNFBFcwarNMcRwPHslI/vErwAPXFaWo6tItx/Z+lILi/YZOfuQr/AHnP9OpqXTNJTT980sjXF5LzLcP1b2HoPatlJpXnqY8qbtHQwrG4ns7xr7xJp9y12chZY18yKFfRQOR9cZNbkWvabcRM1vdRuyqT5ZO1j+Bwa0aytc0OLVtPlhjSGKaQYExjyV9x70uaMn72g+WUVpqcp4r0vQfF3h1tel1i5Szhj3gRyZVT6bT0btXHRtqXiKztjrlzI1pBGqw2+cbgBjc3qTU3iLwlB4ZvNM0a0v7ieK9dprlHOFITG35R6kmr4GBgdK9KFowXK7rp5HnyvKT5lZ9fMjhtoYECQxIijsq4ptxZW11GUuIUkX3Wp6KV3uFkRaNrl74KukIkkudEdsSwudzQZ/iX29q9cgnjubeOeBw8cihlYdCDXkssaTRPHINyOCCD3FdR8Lr6SXw9cafM25tOuGhUnqV6j+eKwxEFKPP1N8PNxlydDtqKKK4DuCiiigAooqrHqdnJfSWS3CfaYsboicNg9DinZsV0i1WHfeKbSx1yLS2Vnlkxll6LmqHihvEpvgui8WxQZIxnd3rhbWG7g8XQJqO43HmgvuOTXDWxEoyUYp77mM6jTSSPZQcjNYuveKLHQQq3BaSdhlYk649T6Vsr9wfSvPRoN7qfjqW41K3b7N5hKk9CBwK2rSmklDd/gXNyVlEtr8SUBBl0uZI/727P9K6nSdas9atfOsnyP4lPVaLvT9P/ALPkS4hiWEIc5AGBXB/D5nXX7lIc+SQfp14rLmqU6sYSd0yLyjNJu9z0uiiiuw3CiiigAooooAKKKKACiiigAqOe4htYjLcypFGOrO2APxqSuD+M2gal4m+Gd9pmi2/2i7kZCse4LnB55NAHWf2/pH/QTtP+/wAv+NH9v6R/0E7T/v8AL/jXxSfgp49H/MDb/v8AJ/jSf8KV8e/9AJv+/wAn+NAH2v8A2/pH/QTtP+/y/wCNA1/SD01O0/7/AC/418SyfBrx1FG0kmiMiKCWZp4wAPU/NXL6RpN7qXiC306xhM9y0wUKhz0PJz6e9AH6IqyuoZCCCMgjvS1meHIZbfw9ZQ3H+sjhVW+oGKv3FxDaW7z3MixRRjc7scACgB7MqIWchVUZJJ4ArBae48SOY7Nng0sHD3A4a49k9F/2vyoWG48SuJLtHt9JBylu3D3Pu/ov+z37+lWZ9esrZ/stij3twnyiC0UNt9ifur+JrVRa23/Iybvvt+ZpW9tDaW6QW0axxIMKqjgVUv8AW7HTnWKeXfO/3LeIF5H+ijmqf2PWNU5v7oadbn/lhZnMhH+1IRx/wED61oWGlWWmIy2NukRbl36u59WY8sfqaVord3Ku3srGRd2mpeIofKubaLT7Q/8APZRJMfcDop98k+1RQ+FJdJuBdaRcfaJQACmoHzM/7r9V/I109FP2kkrLYXs4t3e5jxeIYoZFh1iB9NmY4Bm/1bn/AGXHH4dfatcEMAVOQehFJLFHNG0cyLIjDDKwyCPpWOfD7WTb9Au3se/2Zh5kDf8AAD93/gJFT7r8h+8vMv6lpsGp24jnyrqd0cqHDRt6g1nW+rzabL9i13CyAEw3IGEnAHT2b2/KnDXZrE7NesmtR/z8w5khP1OMr+Ix71j6sNP8dx3mkwaxLbfZSC6wlGWReofpkj6EVpGL2lt3M5SW8dzqdPvodT06C9tW3QzoHU/Ws7UvF+gaRIY7/VLeOResYfcw+oHNeUWl5qv9nyeHNN1V/wCyLWZlN5Eux5gf4F5OBnPPfNWbXSLCzUCG1jz3ZhuY/ia6PqsU/eZh9Zk1oj0W1+IHhe8lEcWrwKx4HmZTP54roY5EljDxOrowyGU5Brx6awtLhSs1tE490FR6fe6l4Pn+06NI89gDmewkYkY7lPQ0pYaLXuPXzHHESXxrTyPZ6Kp6RqtrrelQahYPvhmXI9Qe4PuKtswRSzkKqjJJOABXE007M7E01dC1iXWpXGpXL6fobAFDtuLwjKQ+w/vN7du9Rvc3HiNzDp7vb6YDiS6Xh5/9mP0H+1+XrWtGlnpNiqJ5VrbRDjJCqv4mrty77kX5tthunabb6ZbeVbKcsd0kjnLSN6se5q3WM3iJbk7NGs59Rb/noo8uIf8AA26j/dBpP7O1fUOdS1EWkR/5YWAwfoZG5P4BaHF3vJgpLaJdv9XsNNA+2XKRs33Uzlm+ijk1yvi241fVNDmuNGtbuxa3UyRzyP5bSf7Ij5Jz7gV1Vho+n6aS1nbIkjfelPzSN9WOSfxNXacZxg7pXFKMpqzdjxXVNM1nTNY0K48SXrXV1dwyrhsfucYO3I6nmr9dr478PSeIPD2LLAv7NxcWx9WHVfxH64rz7Tr9L6AnBjmjO2WJuGRu4IrvhP2kObscM4eznbuXKKKKokKu/DzR11M6xdtc3MKG8KL5Em0Ngdaw9Ru5FMdlYIZtQujsgiXrk/xH0Ar1LwroSeHfDttp6nc6Lulf+855J/Os60uSn5s0ox56nkhP+Eai/wCgjqP/AIEf/Wo/4RqL/oI6j/4Ef/WrZorg9pLud3JHsY3/AAjUX/QR1H/wI/8ArUf8I1F/0EdR/wDAj/61bNFHtJdw5I9jG/4RqL/oI6j/AOBH/wBauYvfhvLqfisahNqVxBbQKqxlZMzPjk/N/COa9Aoqo1px2ZMqMJboZDGIYUjDMwRQu5jkn615lrX/ACUof9dU/lXqFeX61/yUof8AXVP5V52L2j/iRNbZep6ev3B9KWmgZiwODivOdE1i60nxlcWmr3kxiZmUedIWA54PPTitqlVU5RT6mkpqLV+pPrXhXxFctMy3zTxMxIi3kcemKZ4C1GK0vpNMuLcRzkn5+5I7Gu8nv7S3tzPPcRpEBncWGK820POrePZby1UiHzWfOO1ck4RpVouG7/IxlFQmnHqeo0UUV6J0hRRRQAUUUUAFFFFABRRRQAUEZ60UUAN8tP7o/Kjy0/uj8qdXN+P/ABhbeBvBV/rl1tLQptgjJ/1sp4Vfz6+wNAHj/wC0d8TRp1t/wh2hyAXM6hr6RDyiHpH9T1PtirXwA+GC6Rpi69q0P+m3SgqGH+rTsPrXknwu8OXnxL+Jkmp6wWuI0l+03TtzvcnIH+fSvs6ztY7O1SGJQqqMYFAGZ4h8U6V4WtUk1OUrv4jjQZZvoK5nTfEieMLr7RbW8l6IHzDZZ2xxHJw8p7njIGOPrWX8WvCeqapeW+p6bFJdRpH5bxIMlOeuKZ8MvBOq2aXV7qMt1pomUIkcbbWbBzkj0r0I06UaPPfU4JVKsq3JbQ7z+xrzUedbvSYz/wAuttlI/oT1b8eK1bW0t7KERWkKQxr0VFwKzf7Ak/6DGo/9/h/hR/YMv/QZ1H/v6P8ACuRtPqdSTXQ2KKx/7Bl/6DOo/wDf0f4Uf2DL/wBBnUf+/o/wqeWPcq8uxsUVj/2FN/0GdQ/7+D/Cj+wZ/wDoM6h/38H+FHLHuHNLsbFFY/8AYU//AEGdQ/7+D/Cj+wp/+g1qH/fY/wAKOWPcOaXY0b6SOKyleaYQIF5kIB2+/NeVeLPCdn4c0uXWtM1a7kvbuQRK4dcOHOG6D0rudV8P3kuk3McGpXtxI8ZVYnkADE8c8dK851zwZf8AhbwzZ3N9qUlykd2hkgBzHHnjjNdmGsnpL5dzkxF2tY/PsT2dqllZxW8Qwsa4+p7mp6KK33MNgpOvWlooAvfD7U49G1jWNLupRFZ+UL6MsfljGQrfmSPyrbudah1ufbcGT7CDlLKBd0tx7vj7q/7JP1rkvDui2ev/ABClhv0MsEFgHZAxALeYMA/nnFesWtlbWUey0gjhX/YXGa567hGd+p0UFKULdDLRtavECW0MOlW4GAXG+THsOg/WpYfDlmJVmvmkv515Ely27B9h0H4VrUVyc76aHVyLrqIqhRhQAPQClooqCwooooAK5LxL4CtdZuTf6fMdP1HvLGPlk/3h3rraKuE5Qd4kThGatI8mm8NeMLJthsra9XtJFJtJ+op0HhTxfqDBXhtdOjPWRm3sPwr1eiuj61LsjD6tHuzm/DHgqw8OFrjc13fyDEl1Ly30HoK6SiiuaUpTd5HRGKirRCiiipKCiiigAooooAK5678I2t3rw1RpXEgYNt7cV0NFTKMZfEhNJ7gBgAVh674VsddIkmBjnAwJE61uUUSjGatJXQNJqzOFX4bR7v3l/KyeldRo+h2eiweXaJgnqx6mtKiohRp03eKJjCMdkFFFFalhRRRQAUUUUAFFFFABRRRQAUUUUAFfKH7TvjRtV8W2/hi0lza6WoknAPDTMOM/RSP++jX1FrWpw6Nod5qVy22K1haV29ABmvhjw5bz+P8A4sWxvfnbUb83E4IyNuS7D6YGKAPp/wCA3g0eGvAltNPFtu7sefLkcgt0H4DA/CvVarafbLaWMUKDAVQKs0AFFFFABRRRQAUUUUAFFFFABRRRQAVmeItHj17QLrTpePOT5Gx91ux/OtOimm4u6E0mrM8U02eVGk07UFMV/Zny5Y26nHRh6g1oV2/inwVZeJNlwsjWeoxDEV3EOR7MP4hXEXHh7xfpjFJNOh1NB0ltpQhI9we/0r041IVNU7PsedKnOGlroKr3t5FY2rTzthVHA7k+gqSLTfFd22y38PmAn/lpcTrtH4Dmuk8P/DryryPUfE1wt/dRnMcCjEMR+nc/WnKUIayYoxnPSKLHw40Kew0y41XUU2XmpsJCh6xxj7o+vOfyrs6KK82pNzk5M9CEFCKigoooqCwooooAKKKKACiiigAooooAKKKKACiiigAooooAKKKKACiiigAooooAKKKKACiiigAooooAKKKKACiiigAooooAKKKKAPMf2gtUl0/4R6hDbBzNesluAgJJUn5v0zXin7Nnh+W58e3N/cQuq2lvtXepHzMev5Kfzr6zurO3vYfKuoklT0dc1BZ6PY6e5azto4i3UooGaALoGBRRRQAUUUUAFFFFABRRRQAUUUUAFFFFABRRRQAUUUUAFFFFABRRRQAUUUUAFFFFABRRRQAUUUUAFFFFABRRRQAUUUUAFFFFABRRRQAUUUUAFFFFABRRRQAUUUUAFFFFABRRRQAUUUUAFFFFABRRRQAUUUUAFFFFABRRRQAUUUUAFFFFABRRRQAUUUUAFFFFABRRRQAUUUUAFFFFABRRRQAUUUUAFFFFABRRRQAUUUUAFFFFABRRRQAUUUUAFFFFABRRRQAUUUUAFFFFABRRRQAUUUUAf//Z)\n"
      ]
    },
    {
      "cell_type": "markdown",
      "metadata": {
        "id": "4H7StXVbNpcK"
      },
      "source": [
        "## Lets start with DataSet and Data Loader creation.."
      ]
    },
    {
      "cell_type": "code",
      "metadata": {
        "id": "azUC4K-pNms1"
      },
      "source": [
        "import torch\n",
        "from torchvision import datasets\n",
        "import torchvision.transforms as transforms"
      ],
      "execution_count": 2,
      "outputs": []
    },
    {
      "cell_type": "code",
      "metadata": {
        "id": "ngVmOihHnidg"
      },
      "source": [
        "from torch.utils.data import Dataset\n",
        "from torchvision.datasets import MNIST\n",
        "import torch.nn as nn\n",
        "from PIL import Image\n",
        "import random as r\n",
        "from typing import Any, Callable, Dict, List, Optional, Tuple\n",
        "from torch.autograd import Variable"
      ],
      "execution_count": 3,
      "outputs": []
    },
    {
      "cell_type": "code",
      "metadata": {
        "id": "iyjF1Ky_RdlJ",
        "colab": {
          "base_uri": "https://localhost:8080/"
        },
        "outputId": "50c79149-66a9-47c0-e494-ef6fe4eae4e0"
      },
      "source": [
        "device = torch.device(\"cuda:0\" if torch.cuda.is_available() else \"cpu\")\n",
        "print(device)"
      ],
      "execution_count": 4,
      "outputs": [
        {
          "output_type": "stream",
          "name": "stdout",
          "text": [
            "cuda:0\n"
          ]
        }
      ]
    },
    {
      "cell_type": "code",
      "metadata": {
        "id": "3E19TBz_oqoO"
      },
      "source": [
        "class MyDataset(MNIST):\n",
        "  def __init__(\n",
        "      self,\n",
        "            root: str,\n",
        "            train: bool = True,\n",
        "            transform: Optional[Callable] = None,\n",
        "            target_transform: Optional[Callable] = None,\n",
        "            download: bool = False,\n",
        "    )-> None :\n",
        "    super(MyDataset, self).__init__(root, transform=transform, \n",
        "                                    target_transform = target_transform,\n",
        "                                    download = download,\n",
        "                                    train = train)\n",
        "   \n",
        "  def __getitem__(self, index):\n",
        "    \n",
        "    img, target = self.data[index], int(self.targets[index])\n",
        "\n",
        "    # doing this so that it is consistent with all other datasets\n",
        "    # to return a PIL Image\n",
        "    img = Image.fromarray(img.numpy(), mode='L')\n",
        "\n",
        "    rand_input = r.randrange(0,9)\n",
        "\n",
        "    rand_sum = rand_input + int(target)\n",
        "\n",
        "\n",
        "    if self.transform is not None:\n",
        "        img = self.transform(img)\n",
        "\n",
        "    if self.target_transform is not None:\n",
        "        target = self.target_transform(target)\n",
        "\n",
        "    return img, target, rand_input, rand_sum\n",
        "\n",
        "  def __len__(self):\n",
        "    return len(self.data)"
      ],
      "execution_count": 5,
      "outputs": []
    },
    {
      "cell_type": "code",
      "metadata": {
        "id": "CKEbqRupvSyf",
        "colab": {
          "base_uri": "https://localhost:8080/",
          "height": 471,
          "referenced_widgets": [
            "fb274a42bc0247019cf7b1b2170745c5",
            "779f9c6df7214c7fa38fe84773874a45",
            "62ccadad267b404f94669b07e52a5390",
            "64e21666e33b4bbdabbffd3c8728464c",
            "cb155eaa6db642d189b015b0229d8619",
            "b177cd8e18c4440caa17922006ceec28",
            "0b8a9e80ce76463eb89dec49b4b70180",
            "c20edb1769ec4f8aa759e0ba0b34a5f4",
            "259cda5f8a284b6c9ca76fefb8850400",
            "1a27a069e55a473db4131f9eb1823d9c",
            "3dba0686e9aa43f88067658f5474ab5a",
            "752333b9d9c0466e9290e02014762687",
            "80ec35cbd06a4aaf95afc961ff778266",
            "dd4cef8f5d034df4888a5c0cf28d362c",
            "e3cb3b669bb74118a618e4b265412e4f",
            "ad62d75ae6e2482ba4c23e2d4a74ce52",
            "16c2ddbf9dfe401cb3f11c448d823663",
            "00326498767249e4bbe52bcb54372eb3",
            "704dae5e7d0040bb9298fc187b6c9062",
            "17eaa585b2d24ccc952d7f0fc9815c37",
            "f61ecde310564c3f9f566c25509ce463",
            "3b6cbe645ad6472eb03ada1f5fadbaf0",
            "6120eda0c28e4cfca2953ecb63017bf5",
            "ba5f1a02f59d4e60ad62def3c5b16608",
            "547f379ed7c94c4f96189c76143d5afb",
            "8998e80065a94ff192076afdb520ada5",
            "61bf8b1da9fe464bbc7b829ed4a77c87",
            "c398266ad7bf4e1bb094566cec1f1c18",
            "89da696d1c1540d4bd161fac55f71531",
            "261918361940494b9893f6ed15da6bf6",
            "e9ac02c14da94445a8b9fdd704bfe497",
            "bb041da6b8c247dcbe01d0adf6c8bd6f",
            "af425e6eaa2b47989b33f185ad2ea093",
            "cc7215ccbf054004914d9d4f913da395",
            "1805c71e856b4e6a950c6fb62b7ae9c6",
            "aca4ad4cf9a64eb393fdc7e8123ef457",
            "5fe4b1ee34cc45f38798ae1baf5419bc",
            "78daf6d485c040c6b2c426d865496709",
            "b6494f77d9b44a5d98e8c5c1c394d535",
            "43f4ed3d8fc549f68540b8607fb6bc2c",
            "6dcaed9fea434774b7a32dba4064c031",
            "d9710bc076cc4eb9b796cff35fefb011",
            "617d3df0a80a459698318438ae5e77d4",
            "848c81ef96e94f7bbf0ab22cf0a951e5"
          ]
        },
        "outputId": "958247fb-aa5e-4f58-90d5-a4b975e3ca2e"
      },
      "source": [
        "train_data = MyDataset(root = './data', \n",
        "               download=True, \n",
        "               transform = transforms.Compose([transforms.ToTensor()]),\n",
        "               train = True)"
      ],
      "execution_count": 6,
      "outputs": [
        {
          "output_type": "stream",
          "name": "stdout",
          "text": [
            "Downloading http://yann.lecun.com/exdb/mnist/train-images-idx3-ubyte.gz\n",
            "Downloading http://yann.lecun.com/exdb/mnist/train-images-idx3-ubyte.gz to ./data/MyDataset/raw/train-images-idx3-ubyte.gz\n"
          ]
        },
        {
          "output_type": "display_data",
          "data": {
            "application/vnd.jupyter.widget-view+json": {
              "model_id": "fb274a42bc0247019cf7b1b2170745c5",
              "version_minor": 0,
              "version_major": 2
            },
            "text/plain": [
              "  0%|          | 0/9912422 [00:00<?, ?it/s]"
            ]
          },
          "metadata": {}
        },
        {
          "output_type": "stream",
          "name": "stdout",
          "text": [
            "Extracting ./data/MyDataset/raw/train-images-idx3-ubyte.gz to ./data/MyDataset/raw\n",
            "\n",
            "Downloading http://yann.lecun.com/exdb/mnist/train-labels-idx1-ubyte.gz\n",
            "Downloading http://yann.lecun.com/exdb/mnist/train-labels-idx1-ubyte.gz to ./data/MyDataset/raw/train-labels-idx1-ubyte.gz\n"
          ]
        },
        {
          "output_type": "display_data",
          "data": {
            "application/vnd.jupyter.widget-view+json": {
              "model_id": "752333b9d9c0466e9290e02014762687",
              "version_minor": 0,
              "version_major": 2
            },
            "text/plain": [
              "  0%|          | 0/28881 [00:00<?, ?it/s]"
            ]
          },
          "metadata": {}
        },
        {
          "output_type": "stream",
          "name": "stdout",
          "text": [
            "Extracting ./data/MyDataset/raw/train-labels-idx1-ubyte.gz to ./data/MyDataset/raw\n",
            "\n",
            "Downloading http://yann.lecun.com/exdb/mnist/t10k-images-idx3-ubyte.gz\n",
            "Downloading http://yann.lecun.com/exdb/mnist/t10k-images-idx3-ubyte.gz to ./data/MyDataset/raw/t10k-images-idx3-ubyte.gz\n"
          ]
        },
        {
          "output_type": "display_data",
          "data": {
            "application/vnd.jupyter.widget-view+json": {
              "model_id": "6120eda0c28e4cfca2953ecb63017bf5",
              "version_minor": 0,
              "version_major": 2
            },
            "text/plain": [
              "  0%|          | 0/1648877 [00:00<?, ?it/s]"
            ]
          },
          "metadata": {}
        },
        {
          "output_type": "stream",
          "name": "stdout",
          "text": [
            "Extracting ./data/MyDataset/raw/t10k-images-idx3-ubyte.gz to ./data/MyDataset/raw\n",
            "\n",
            "Downloading http://yann.lecun.com/exdb/mnist/t10k-labels-idx1-ubyte.gz\n",
            "Downloading http://yann.lecun.com/exdb/mnist/t10k-labels-idx1-ubyte.gz to ./data/MyDataset/raw/t10k-labels-idx1-ubyte.gz\n"
          ]
        },
        {
          "output_type": "display_data",
          "data": {
            "application/vnd.jupyter.widget-view+json": {
              "model_id": "cc7215ccbf054004914d9d4f913da395",
              "version_minor": 0,
              "version_major": 2
            },
            "text/plain": [
              "  0%|          | 0/4542 [00:00<?, ?it/s]"
            ]
          },
          "metadata": {}
        },
        {
          "output_type": "stream",
          "name": "stdout",
          "text": [
            "Extracting ./data/MyDataset/raw/t10k-labels-idx1-ubyte.gz to ./data/MyDataset/raw\n",
            "\n"
          ]
        },
        {
          "output_type": "stream",
          "name": "stderr",
          "text": [
            "/usr/local/lib/python3.7/dist-packages/torchvision/datasets/mnist.py:498: UserWarning: The given NumPy array is not writeable, and PyTorch does not support non-writeable tensors. This means you can write to the underlying (supposedly non-writeable) NumPy array using the tensor. You may want to copy the array to protect its data or make it writeable before converting it to a tensor. This type of warning will be suppressed for the rest of this program. (Triggered internally at  /pytorch/torch/csrc/utils/tensor_numpy.cpp:180.)\n",
            "  return torch.from_numpy(parsed.astype(m[2], copy=False)).view(*s)\n"
          ]
        }
      ]
    },
    {
      "cell_type": "code",
      "metadata": {
        "colab": {
          "base_uri": "https://localhost:8080/",
          "height": 450
        },
        "id": "P-8noCXvSlaM",
        "outputId": "2b137ffa-9f5f-4afa-c593-2dfe76c52622"
      },
      "source": [
        "# Data visualization\n",
        "\n",
        "import matplotlib.pyplot as plt\n",
        "\n",
        "figure = plt.figure(figsize=(10, 8))\n",
        "cols, rows = 5, 3\n",
        "for i in range(1, cols * rows + 1):\n",
        "    sample_idx = torch.randint(len(train_data), size=(1,)).item()\n",
        "    img, label, ran_input, ran_sum = train_data[sample_idx]\n",
        "    figure.add_subplot(rows, cols, i)\n",
        "    plt.title(str(label) +':' + str(ran_input) + ':' + str(ran_sum))\n",
        "    plt.axis(\"off\")\n",
        "    plt.imshow(img.squeeze(), cmap=\"gray\")\n",
        "plt.show()"
      ],
      "execution_count": 7,
      "outputs": [
        {
          "output_type": "display_data",
          "data": {
            "image/png": "[encoded data removed]",
            "text/plain": [
              "<Figure size 720x576 with 15 Axes>"
            ]
          },
          "metadata": {
            "needs_background": "light"
          }
        }
      ]
    },
    {
      "cell_type": "code",
      "metadata": {
        "id": "H1RhmT6BYe6U"
      },
      "source": [
        "## This to create an input layer for converting the random inputs to one-hot encoded vectors, used\n",
        "## as one of the processing layers, see the use of Variable\n",
        "## courtsey : https://lirnli.wordpress.com/2017/09/03/one-hot-encoding-in-pytorch/\n",
        "\n",
        "class One_Hot(nn.Module):\n",
        "    def __init__(self, depth):\n",
        "        super(One_Hot,self).__init__()\n",
        "        self.depth = depth\n",
        "        self.ones = torch.sparse.torch.eye(depth)\n",
        "        self.ones = self.ones.to(device)\n",
        "    def forward(self, X_in):\n",
        "        X_in = X_in.to(device)\n",
        "        X_in = X_in.long()\n",
        "        return Variable(self.ones.index_select(0,X_in.data))\n",
        "    def __repr__(self):\n",
        "        return self.__class__.__name__ + \"({})\".format(self.depth)"
      ],
      "execution_count": 8,
      "outputs": []
    },
    {
      "cell_type": "markdown",
      "metadata": {
        "id": "ptdGxNN9XXYi"
      },
      "source": [
        "## Lets Define the model \n",
        "\n",
        "This apporach, Training the softmax(output layer) separately for both the tasks\n",
        "\n",
        "![image.png](data:image/png;base64,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)\n"
      ]
    },
    {
      "cell_type": "code",
      "metadata": {
        "id": "B6xwhrOzTAMF"
      },
      "source": [
        "class CustomCNN(nn.Module):\n",
        "  def __init__(self):\n",
        "    super().__init__()\n",
        "    self.conv1 = nn.Conv2d(in_channels=1, out_channels=6, kernel_size=5) \n",
        "    self.conv2 = nn.Conv2d(in_channels=6, out_channels=12, kernel_size=5)\n",
        "    self.fc1 = nn.Linear(in_features=212, out_features=212)\n",
        "    self.fc2 = nn.Linear(in_features=212, out_features=100)\n",
        "    self.out1 = nn.Linear(in_features=100, out_features=10)\n",
        "    self.out2 = nn.Linear(in_features=100, out_features=19)\n",
        "    self.preprocess_rand1 = nn.Linear(in_features = 10, out_features=20)\n",
        "    self.one_hot_input = One_Hot(10)\n",
        "  \n",
        "  def forward(self, t):\n",
        "    # input layer, t will have [image, img_label, ran_input, rand_sum]\n",
        "    x = t[0]\n",
        "    rand_input = t[2] \n",
        "\n",
        "    # print(x.shape, rand_input.shape, t[1].shape, t[3].shape)\n",
        "    # conv1 layer\n",
        "    x = self.conv1(x)\n",
        "    x = F.relu(x)\n",
        "    x = F.max_pool2d(x, kernel_size=2, stride=2) # 28 | 24 | 12\n",
        "\n",
        "    # conv2 layer\n",
        "    x = self.conv2(x)\n",
        "    x = F.relu(x)\n",
        "    x = F.max_pool2d(x, kernel_size=2, stride=2) # 12 | 8 | 4 >> 12x4x4\n",
        "\n",
        "    # reshape\n",
        "    x = x.reshape(-1, 12 * 4 * 4)\n",
        "\n",
        "    # preprocess the random input\n",
        "    r_one_hot = self.one_hot_input(rand_input)\n",
        "    y = self.preprocess_rand1(r_one_hot)    \n",
        "    y = F.relu(y)\n",
        "\n",
        "    # print(x.shape, y.shape)\n",
        "\n",
        "    # Concate two inputs from Fc1 and rand_input\n",
        "    x1 = torch.cat((x, y), dim=1)\n",
        "\n",
        "    # print(x1.shape)\n",
        "     # fc1 layer\n",
        "    x1 = self.fc1(x1)\n",
        "    x1 = F.relu(x1)\n",
        "\n",
        "    # print('post fc1 ', x1.shape)\n",
        "    # fc2 layer\n",
        "    x1 = self.fc2(x1)\n",
        "    x1 = F.relu(x1)\n",
        "    # print('post fc2 ', x1.shape)\n",
        "    # fc3 layer\n",
        "    x_d = self.out1(x1)\n",
        "    # print('post out ', x1.shape)\n",
        "    x_d = F.softmax(x_d, dim=1)\n",
        "    x_s = self.out2(x1)\n",
        "    x_s = F.softmax(x_s, dim=1)\n",
        "    return x_d, x_s"
      ],
      "execution_count": 11,
      "outputs": []
    },
    {
      "cell_type": "code",
      "metadata": {
        "colab": {
          "base_uri": "https://localhost:8080/"
        },
        "id": "JPWvrCGQatEY",
        "outputId": "64de7546-07de-4de6-9fe9-dd52590b7522"
      },
      "source": [
        "cnn = CustomCNN()\n",
        "loss = nn.CrossEntropyLoss()\n",
        "\n",
        "print(cnn)\n",
        "print(loss)\n",
        "\n",
        "cnn.to(device)\n",
        "\n"
      ],
      "execution_count": 12,
      "outputs": [
        {
          "output_type": "stream",
          "name": "stdout",
          "text": [
            "CustomCNN(\n",
            "  (conv1): Conv2d(1, 6, kernel_size=(5, 5), stride=(1, 1))\n",
            "  (conv2): Conv2d(6, 12, kernel_size=(5, 5), stride=(1, 1))\n",
            "  (fc1): Linear(in_features=212, out_features=212, bias=True)\n",
            "  (fc2): Linear(in_features=212, out_features=100, bias=True)\n",
            "  (out1): Linear(in_features=100, out_features=10, bias=True)\n",
            "  (out2): Linear(in_features=100, out_features=19, bias=True)\n",
            "  (preprocess_rand1): Linear(in_features=10, out_features=20, bias=True)\n",
            "  (one_hot_input): One_Hot(10)\n",
            ")\n",
            "CrossEntropyLoss()\n"
          ]
        },
        {
          "output_type": "execute_result",
          "data": {
            "text/plain": [
              "CustomCNN(\n",
              "  (conv1): Conv2d(1, 6, kernel_size=(5, 5), stride=(1, 1))\n",
              "  (conv2): Conv2d(6, 12, kernel_size=(5, 5), stride=(1, 1))\n",
              "  (fc1): Linear(in_features=212, out_features=212, bias=True)\n",
              "  (fc2): Linear(in_features=212, out_features=100, bias=True)\n",
              "  (out1): Linear(in_features=100, out_features=10, bias=True)\n",
              "  (out2): Linear(in_features=100, out_features=19, bias=True)\n",
              "  (preprocess_rand1): Linear(in_features=10, out_features=20, bias=True)\n",
              "  (one_hot_input): One_Hot(10)\n",
              ")"
            ]
          },
          "metadata": {},
          "execution_count": 12
        }
      ]
    },
    {
      "cell_type": "code",
      "metadata": {
        "id": "W1QhQf2gazGV"
      },
      "source": [
        "from torch import optim\n",
        "import torch.nn.functional as F\n",
        "\n",
        "optimizer = optim.Adam(cnn.parameters(), lr = 0.0001)\n"
      ],
      "execution_count": 13,
      "outputs": []
    },
    {
      "cell_type": "code",
      "metadata": {
        "id": "QZsypgDNfGHm"
      },
      "source": [
        "def get_num_correct(preds, labels):\n",
        "  # print(\"preds.shape\", preds.shape, \"label.shape : \", labels.shape )\n",
        "  # print(\"loss num\", preds.argmax(dim=1).eq(labels).sum().item())\n",
        "  return preds.argmax(dim=1).eq(labels).sum().item()"
      ],
      "execution_count": 14,
      "outputs": []
    },
    {
      "cell_type": "code",
      "metadata": {
        "id": "b4pF-WrUPrxe"
      },
      "source": [
        "def get_num_correct_sum(preds, rand_sums):\n",
        "  # print(\"preds.shape\", preds.shape, \"rand_sums : \", rand_sums.shape )\n",
        "  # print(\"loss sum\", preds.argmax(dim=1).eq(rand_sums).sum().item())  \n",
        "  return preds.argmax(dim=1).eq(rand_sums).sum().item()"
      ],
      "execution_count": 15,
      "outputs": []
    },
    {
      "cell_type": "code",
      "metadata": {
        "id": "OT-2ANQmhWb-"
      },
      "source": [
        "train_loader = torch.utils.data.DataLoader(train_data\n",
        "    ,batch_size=64\n",
        "    ,shuffle=True\n",
        ")"
      ],
      "execution_count": 17,
      "outputs": []
    },
    {
      "cell_type": "code",
      "metadata": {
        "id": "gLbRZ4SrV0o8"
      },
      "source": [
        "def RMSELoss(yhat,y):\n",
        "    # print(yhat.shape, y.shape)\n",
        "    # print(\"label \", torch.argmax(yhat, dim=1).double()) # tensor.double()\n",
        "    return torch.sqrt(torch.mean((torch.argmax(yhat, dim=1).double()-y)**2))"
      ],
      "execution_count": 18,
      "outputs": []
    },
    {
      "cell_type": "code",
      "metadata": {
        "colab": {
          "base_uri": "https://localhost:8080/"
        },
        "id": "s89eaHbhdXuZ",
        "outputId": "62009851-5790-4179-a112-5c0b7f15264c"
      },
      "source": [
        "# train_loader = torch.utils.data.DataLoader(train_set, batch_size=32)\n",
        "\n",
        "for epoch in range(20):\n",
        "\n",
        "    total_loss = 0\n",
        "    total_correct_digits = 0\n",
        "    total_correct_sum = 0\n",
        "\n",
        "    for batch in train_loader: # Get Batch\n",
        "        images, labels, rand_inputs, rand_sums = batch \n",
        "        # print(images.shape, labels.shape)\n",
        "        images, labels, rand_inputs, rand_sums = images.to(device), labels.to(device), rand_inputs.to(device), rand_sums.to(device)\n",
        "        preds_d, preds_s = cnn((images, labels, rand_inputs, rand_sums)) # Pass Batch\n",
        "        \n",
        "        \n",
        "        # First 10 digits represents the predictions\n",
        "\n",
        "        loss_mnist = F.cross_entropy(preds_d, labels)\n",
        "        # last 19 digits represents the output\n",
        "        # loss_sum = RMSELoss(preds_s, rand_sums) \n",
        "        loss_sum = F.cross_entropy(preds_s, rand_sums) \n",
        "\n",
        "        loss = (0.9*loss_mnist + 0.1*loss_sum)/2\n",
        "        \n",
        "        optimizer.zero_grad()\n",
        "        loss.backward() # Calculate Gradients\n",
        "        optimizer.step() # Update Weights\n",
        "\n",
        "        total_loss += loss.item()\n",
        "        total_correct_digits += get_num_correct(preds_d, labels)\n",
        "        total_correct_sum += get_num_correct_sum(preds_s, rand_sums)\n",
        "\n",
        "    print(\n",
        "        \"epoch\", epoch, \n",
        "        \"total_correct_digits:\", total_correct_digits, \n",
        "        \"digit_pred_loss:\", loss_mnist.item(), \n",
        "        \"total_correct_sum:\", total_correct_sum,\n",
        "        \"sum_pred_loss:\", loss_sum.item(), \n",
        "         \"loss:\", total_loss\n",
        "    )"
      ],
      "execution_count": 25,
      "outputs": [
        {
          "output_type": "stream",
          "name": "stdout",
          "text": [
            "epoch 0 total_correct_digits: 59431 digit_pred_loss: 1.4617890119552612 total_correct_sum: 22144 sum_pred_loss: 2.627384662628174 loss: 746.046845972538\n",
            "epoch 1 total_correct_digits: 59431 digit_pred_loss: 1.4923995733261108 total_correct_sum: 22295 sum_pred_loss: 2.7743780612945557 loss: 745.8050390481949\n",
            "epoch 2 total_correct_digits: 59465 digit_pred_loss: 1.4611847400665283 total_correct_sum: 22379 sum_pred_loss: 2.74389386177063 loss: 745.4897286891937\n",
            "epoch 3 total_correct_digits: 59478 digit_pred_loss: 1.4612267017364502 total_correct_sum: 22188 sum_pred_loss: 2.685767889022827 loss: 745.5516864657402\n",
            "epoch 4 total_correct_digits: 59482 digit_pred_loss: 1.4753057956695557 total_correct_sum: 22473 sum_pred_loss: 2.497671365737915 loss: 745.2126546502113\n",
            "epoch 5 total_correct_digits: 59504 digit_pred_loss: 1.4613935947418213 total_correct_sum: 22397 sum_pred_loss: 2.707763433456421 loss: 745.14226603508\n",
            "epoch 6 total_correct_digits: 59493 digit_pred_loss: 1.4611802101135254 total_correct_sum: 22405 sum_pred_loss: 2.7742061614990234 loss: 745.1293763518333\n",
            "epoch 7 total_correct_digits: 59504 digit_pred_loss: 1.4911043643951416 total_correct_sum: 22276 sum_pred_loss: 2.610781669616699 loss: 745.1765331029892\n",
            "epoch 8 total_correct_digits: 59521 digit_pred_loss: 1.461151123046875 total_correct_sum: 22513 sum_pred_loss: 2.7696638107299805 loss: 744.9069358110428\n",
            "epoch 9 total_correct_digits: 59547 digit_pred_loss: 1.4927899837493896 total_correct_sum: 22631 sum_pred_loss: 2.7743451595306396 loss: 744.6973589062691\n",
            "epoch 10 total_correct_digits: 59558 digit_pred_loss: 1.4611550569534302 total_correct_sum: 22631 sum_pred_loss: 2.589937448501587 loss: 744.6320317387581\n",
            "epoch 11 total_correct_digits: 59541 digit_pred_loss: 1.462868571281433 total_correct_sum: 22970 sum_pred_loss: 2.7752370834350586 loss: 744.4619007706642\n",
            "epoch 12 total_correct_digits: 59542 digit_pred_loss: 1.4611700773239136 total_correct_sum: 23642 sum_pred_loss: 2.6319186687469482 loss: 743.9243953824043\n",
            "epoch 13 total_correct_digits: 59565 digit_pred_loss: 1.4611549377441406 total_correct_sum: 23462 sum_pred_loss: 2.5660200119018555 loss: 743.9254366159439\n",
            "epoch 14 total_correct_digits: 59562 digit_pred_loss: 1.4624019861221313 total_correct_sum: 23681 sum_pred_loss: 2.7314887046813965 loss: 743.669623196125\n",
            "epoch 15 total_correct_digits: 59577 digit_pred_loss: 1.4611568450927734 total_correct_sum: 23721 sum_pred_loss: 2.497072696685791 loss: 743.5508692264557\n",
            "epoch 16 total_correct_digits: 59567 digit_pred_loss: 1.4614509344100952 total_correct_sum: 23713 sum_pred_loss: 2.592172384262085 loss: 743.5580144524574\n",
            "epoch 17 total_correct_digits: 59595 digit_pred_loss: 1.4815711975097656 total_correct_sum: 23712 sum_pred_loss: 2.6817758083343506 loss: 743.4368685483932\n",
            "epoch 18 total_correct_digits: 59586 digit_pred_loss: 1.4612383842468262 total_correct_sum: 23603 sum_pred_loss: 2.6823630332946777 loss: 743.5217127799988\n",
            "epoch 19 total_correct_digits: 59611 digit_pred_loss: 1.4611526727676392 total_correct_sum: 23696 sum_pred_loss: 2.621399164199829 loss: 743.2831000089645\n"
          ]
        }
      ]
    },
    {
      "cell_type": "code",
      "metadata": {
        "id": "k7amxtuednzC",
        "colab": {
          "base_uri": "https://localhost:8080/"
        },
        "outputId": "f7e617a3-5f3f-436f-f079-3809bb0836ec"
      },
      "source": [
        "torch.cuda.is_available()"
      ],
      "execution_count": null,
      "outputs": [
        {
          "output_type": "execute_result",
          "data": {
            "text/plain": [
              "True"
            ]
          },
          "metadata": {},
          "execution_count": 41
        }
      ]
    },
    {
      "cell_type": "code",
      "metadata": {
        "id": "KBIxIBV-Fpei"
      },
      "source": [
        ""
      ],
      "execution_count": null,
      "outputs": []
    },
    {
      "cell_type": "code",
      "metadata": {
        "id": "KCIUY0cdFsIL",
        "colab": {
          "base_uri": "https://localhost:8080/"
        },
        "outputId": "29e3daf9-6d83-4409-91a7-99150d0c74cc"
      },
      "source": [
        "torch.sparse.torch.eye(10)"
      ],
      "execution_count": null,
      "outputs": [
        {
          "output_type": "execute_result",
          "data": {
            "text/plain": [
              "tensor([[1., 0., 0., 0., 0., 0., 0., 0., 0., 0.],\n",
              "        [0., 1., 0., 0., 0., 0., 0., 0., 0., 0.],\n",
              "        [0., 0., 1., 0., 0., 0., 0., 0., 0., 0.],\n",
              "        [0., 0., 0., 1., 0., 0., 0., 0., 0., 0.],\n",
              "        [0., 0., 0., 0., 1., 0., 0., 0., 0., 0.],\n",
              "        [0., 0., 0., 0., 0., 1., 0., 0., 0., 0.],\n",
              "        [0., 0., 0., 0., 0., 0., 1., 0., 0., 0.],\n",
              "        [0., 0., 0., 0., 0., 0., 0., 1., 0., 0.],\n",
              "        [0., 0., 0., 0., 0., 0., 0., 0., 1., 0.],\n",
              "        [0., 0., 0., 0., 0., 0., 0., 0., 0., 1.]])"
            ]
          },
          "metadata": {},
          "execution_count": 43
        }
      ]
    },
    {
      "cell_type": "code",
      "metadata": {
        "id": "T0dNhNaxGC-G"
      },
      "source": [
        ""
      ],
      "execution_count": null,
      "outputs": []
    }
  ]
}